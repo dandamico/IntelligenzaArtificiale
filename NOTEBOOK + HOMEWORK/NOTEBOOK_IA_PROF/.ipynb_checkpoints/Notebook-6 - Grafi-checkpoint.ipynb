{
 "cells": [
  {
   "cell_type": "markdown",
   "metadata": {},
   "source": [
    "# Rappresentazione di Grafi"
   ]
  },
  {
   "cell_type": "markdown",
   "metadata": {},
   "source": [
    "### Liste di Adiacenza (Adjacency lists)"
   ]
  },
  {
   "cell_type": "code",
   "execution_count": 1,
   "metadata": {},
   "outputs": [],
   "source": [
    "graph = dict() \n",
    "graph['A'] = ['B', 'C'] \n",
    "graph['B'] = ['E','C', 'A'] \n",
    "graph['C'] = ['A', 'B', 'E','F'] \n",
    "graph['E'] = ['B', 'C'] \n",
    "graph['F'] = ['C']"
   ]
  },
  {
   "cell_type": "code",
   "execution_count": 2,
   "metadata": {},
   "outputs": [
    {
     "data": {
      "text/plain": [
       "{'A': ['B', 'C'],\n",
       " 'B': ['E', 'C', 'A'],\n",
       " 'C': ['A', 'B', 'E', 'F'],\n",
       " 'E': ['B', 'C'],\n",
       " 'F': ['C']}"
      ]
     },
     "execution_count": 2,
     "metadata": {},
     "output_type": "execute_result"
    }
   ],
   "source": [
    "graph"
   ]
  },
  {
   "cell_type": "markdown",
   "metadata": {},
   "source": [
    "### Matrici di Adiacenza (Adjacency matrices)\n",
    "Vediamo come passare da lista di adiacenza a matrice di adiacenza per l'esempio di grafo"
   ]
  },
  {
   "cell_type": "code",
   "execution_count": 3,
   "metadata": {},
   "outputs": [],
   "source": [
    "matrix_elements = sorted(graph.keys())"
   ]
  },
  {
   "cell_type": "code",
   "execution_count": 4,
   "metadata": {},
   "outputs": [
    {
     "data": {
      "text/plain": [
       "['A', 'B', 'C', 'E', 'F']"
      ]
     },
     "execution_count": 4,
     "metadata": {},
     "output_type": "execute_result"
    }
   ],
   "source": [
    "matrix_elements"
   ]
  },
  {
   "cell_type": "code",
   "execution_count": 5,
   "metadata": {},
   "outputs": [],
   "source": [
    "cols = rows = len(matrix_elements)"
   ]
  },
  {
   "cell_type": "code",
   "execution_count": 6,
   "metadata": {},
   "outputs": [
    {
     "data": {
      "text/plain": [
       "5"
      ]
     },
     "execution_count": 6,
     "metadata": {},
     "output_type": "execute_result"
    }
   ],
   "source": [
    "cols"
   ]
  },
  {
   "cell_type": "code",
   "execution_count": 7,
   "metadata": {},
   "outputs": [
    {
     "data": {
      "text/plain": [
       "5"
      ]
     },
     "execution_count": 7,
     "metadata": {},
     "output_type": "execute_result"
    }
   ],
   "source": [
    "rows"
   ]
  },
  {
   "cell_type": "code",
   "execution_count": 8,
   "metadata": {},
   "outputs": [],
   "source": [
    "adjacency_matrix = [[0 for x in range(cols)] for y in range(rows)]"
   ]
  },
  {
   "cell_type": "code",
   "execution_count": 9,
   "metadata": {},
   "outputs": [
    {
     "data": {
      "text/plain": [
       "[[0, 0, 0, 0, 0],\n",
       " [0, 0, 0, 0, 0],\n",
       " [0, 0, 0, 0, 0],\n",
       " [0, 0, 0, 0, 0],\n",
       " [0, 0, 0, 0, 0]]"
      ]
     },
     "execution_count": 9,
     "metadata": {},
     "output_type": "execute_result"
    }
   ],
   "source": [
    "adjacency_matrix\n"
   ]
  },
  {
   "cell_type": "code",
   "execution_count": 10,
   "metadata": {},
   "outputs": [],
   "source": [
    "edges_list = []"
   ]
  },
  {
   "cell_type": "code",
   "execution_count": 11,
   "metadata": {},
   "outputs": [],
   "source": [
    "for key in matrix_elements:\n",
    "    for neighbor in graph[key]:\n",
    "        edges_list.append((key, neighbor))"
   ]
  },
  {
   "cell_type": "code",
   "execution_count": 12,
   "metadata": {},
   "outputs": [
    {
     "data": {
      "text/plain": [
       "[('A', 'B'),\n",
       " ('A', 'C'),\n",
       " ('B', 'E'),\n",
       " ('B', 'C'),\n",
       " ('B', 'A'),\n",
       " ('C', 'A'),\n",
       " ('C', 'B'),\n",
       " ('C', 'E'),\n",
       " ('C', 'F'),\n",
       " ('E', 'B'),\n",
       " ('E', 'C'),\n",
       " ('F', 'C')]"
      ]
     },
     "execution_count": 12,
     "metadata": {},
     "output_type": "execute_result"
    }
   ],
   "source": [
    "edges_list"
   ]
  },
  {
   "cell_type": "code",
   "execution_count": 13,
   "metadata": {},
   "outputs": [],
   "source": [
    "for edge in edges_list:\n",
    "    index_of_first_vertex = matrix_elements.index(edge[0])\n",
    "    index_of_second_vertex = matrix_elements.index(edge[1])\n",
    "    adjacency_matrix[index_of_first_vertex][index_of_second_vertex] = 1"
   ]
  },
  {
   "cell_type": "code",
   "execution_count": 14,
   "metadata": {},
   "outputs": [
    {
     "data": {
      "text/plain": [
       "[[0, 1, 1, 0, 0],\n",
       " [1, 0, 1, 1, 0],\n",
       " [1, 1, 0, 1, 1],\n",
       " [0, 1, 1, 0, 0],\n",
       " [0, 0, 1, 0, 0]]"
      ]
     },
     "execution_count": 14,
     "metadata": {},
     "output_type": "execute_result"
    }
   ],
   "source": [
    "adjacency_matrix"
   ]
  },
  {
   "cell_type": "code",
   "execution_count": 15,
   "metadata": {},
   "outputs": [
    {
     "data": {
      "text/plain": [
       "list"
      ]
     },
     "execution_count": 15,
     "metadata": {},
     "output_type": "execute_result"
    }
   ],
   "source": [
    "type(adjacency_matrix)"
   ]
  },
  {
   "cell_type": "markdown",
   "metadata": {},
   "source": [
    "# Visita di un Grafo"
   ]
  },
  {
   "cell_type": "markdown",
   "metadata": {},
   "source": [
    "### Visita Breadth-First "
   ]
  },
  {
   "cell_type": "code",
   "execution_count": 16,
   "metadata": {},
   "outputs": [],
   "source": [
    "# grafo dell'homework 3\n",
    "\n",
    "graph = {\n",
    "  'A' : ['B','C'],\n",
    "  'B' : ['D', 'E'],\n",
    "  'C' : ['F'],\n",
    "  'D' : [],\n",
    "  'E' : ['F'],\n",
    "  'F' : []\n",
    "}"
   ]
  },
  {
   "cell_type": "code",
   "execution_count": 17,
   "metadata": {},
   "outputs": [
    {
     "data": {
      "text/plain": [
       "{'A': ['B', 'C'], 'B': ['D', 'E'], 'C': ['F'], 'D': [], 'E': ['F'], 'F': []}"
      ]
     },
     "execution_count": 17,
     "metadata": {},
     "output_type": "execute_result"
    }
   ],
   "source": [
    "graph"
   ]
  },
  {
   "cell_type": "code",
   "execution_count": 18,
   "metadata": {},
   "outputs": [],
   "source": [
    "# esempio grafo (lucidi 9-18 sui grafi)\n",
    "\n",
    "graph1 = {\n",
    "  'A' : ['B','C', 'E'],\n",
    "  'B' : ['A', 'D'],\n",
    "  'C' : ['A', 'D', 'E'],\n",
    "  'D' : ['B', 'C'],\n",
    "  'E' : ['A', 'C']\n",
    "}"
   ]
  },
  {
   "cell_type": "code",
   "execution_count": 19,
   "metadata": {},
   "outputs": [
    {
     "data": {
      "text/plain": [
       "{'A': ['B', 'C', 'E'],\n",
       " 'B': ['A', 'D'],\n",
       " 'C': ['A', 'D', 'E'],\n",
       " 'D': ['B', 'C'],\n",
       " 'E': ['A', 'C']}"
      ]
     },
     "execution_count": 19,
     "metadata": {},
     "output_type": "execute_result"
    }
   ],
   "source": [
    "graph1"
   ]
  },
  {
   "cell_type": "code",
   "execution_count": 20,
   "metadata": {},
   "outputs": [],
   "source": [
    "# esempio grafo (lucidi 19-21 sui grafi)\n",
    "\n",
    "graph2 = dict() \n",
    "graph2['A'] = ['B', 'D', 'G'] \n",
    "graph2['B'] = ['A', 'E', 'F'] \n",
    "graph2['C'] = ['F', 'H'] \n",
    "graph2['D'] = ['A', 'F'] \n",
    "graph2['E'] = ['B', 'G'] \n",
    "graph2['F'] = ['B', 'C', 'D'] \n",
    "graph2['G'] = ['A', 'E'] \n",
    "graph2['H'] = ['C'] "
   ]
  },
  {
   "cell_type": "code",
   "execution_count": 21,
   "metadata": {},
   "outputs": [
    {
     "data": {
      "text/plain": [
       "{'A': ['B', 'D', 'G'],\n",
       " 'B': ['A', 'E', 'F'],\n",
       " 'C': ['F', 'H'],\n",
       " 'D': ['A', 'F'],\n",
       " 'E': ['B', 'G'],\n",
       " 'F': ['B', 'C', 'D'],\n",
       " 'G': ['A', 'E'],\n",
       " 'H': ['C']}"
      ]
     },
     "execution_count": 21,
     "metadata": {},
     "output_type": "execute_result"
    }
   ],
   "source": [
    "graph2"
   ]
  },
  {
   "cell_type": "code",
   "execution_count": 22,
   "metadata": {},
   "outputs": [],
   "source": [
    "def breadth_first_search(visitati, grafo, nodo):\n",
    "    visitati.append(nodo)\n",
    "    coda.append(nodo)\n",
    "    while coda:\n",
    "        s = coda.pop(0)\n",
    "        print(s, end = \" \")\n",
    "        for neighbour in grafo[s]:\n",
    "            if neighbour not in visitati:\n",
    "                visitati.append(neighbour)\n",
    "                coda.append(neighbour)"
   ]
  },
  {
   "cell_type": "code",
   "execution_count": 29,
   "metadata": {},
   "outputs": [
    {
     "name": "stdout",
     "output_type": "stream",
     "text": [
      "A B D G E F C H "
     ]
    }
   ],
   "source": [
    "visitati = []  # Lista che tiene traccia dei nodi visitati.\n",
    "coda = []      # Inizializzazione della coda.\n",
    "\n",
    "# Driver Code\n",
    "breadth_first_search(visitati, graph2, 'A')"
   ]
  },
  {
   "cell_type": "markdown",
   "metadata": {},
   "source": [
    "### Visita Depth-First "
   ]
  },
  {
   "cell_type": "code",
   "execution_count": 24,
   "metadata": {},
   "outputs": [],
   "source": [
    "# esempio grafo (lucidi 22-35 sui grafi)\n",
    "\n",
    "graph = dict() \n",
    "graph['A'] = ['B', 'S'] \n",
    "graph['B'] = ['A'] \n",
    "graph['S'] = ['A','C','G'] \n",
    "graph['D'] = ['C'] \n",
    "graph['G'] = ['F','H', 'S'] \n",
    "graph['H'] = ['E', 'G'] \n",
    "graph['E'] = ['C','H'] \n",
    "graph['F'] = ['C','G'] \n",
    "graph['C'] = ['D','E','F','S'] "
   ]
  },
  {
   "cell_type": "code",
   "execution_count": 25,
   "metadata": {},
   "outputs": [
    {
     "data": {
      "text/plain": [
       "{'A': ['B', 'S'],\n",
       " 'B': ['A'],\n",
       " 'S': ['A', 'C', 'G'],\n",
       " 'D': ['C'],\n",
       " 'G': ['F', 'H', 'S'],\n",
       " 'H': ['E', 'G'],\n",
       " 'E': ['C', 'H'],\n",
       " 'F': ['C', 'G'],\n",
       " 'C': ['D', 'E', 'F', 'S']}"
      ]
     },
     "execution_count": 25,
     "metadata": {},
     "output_type": "execute_result"
    }
   ],
   "source": [
    "graph"
   ]
  },
  {
   "cell_type": "code",
   "execution_count": 26,
   "metadata": {},
   "outputs": [],
   "source": [
    "def depth_first_search_R(graph, root, visited_vertices):\n",
    "    node = root\n",
    "    visited_vertices.append(node)\n",
    "    adj_nodes = graph[node]\n",
    "    for n in adj_nodes:\n",
    "        if n not in visited_vertices:\n",
    "            depth_first_search_R(graph, n, visited_vertices)\n",
    "    return visited_vertices"
   ]
  },
  {
   "cell_type": "code",
   "execution_count": 27,
   "metadata": {},
   "outputs": [
    {
     "data": {
      "text/plain": [
       "['A', 'B', 'S', 'C', 'D', 'E', 'H', 'G', 'F']"
      ]
     },
     "execution_count": 27,
     "metadata": {},
     "output_type": "execute_result"
    }
   ],
   "source": [
    "depth_first_search_R(graph, 'A', [])"
   ]
  },
  {
   "cell_type": "code",
   "execution_count": null,
   "metadata": {},
   "outputs": [],
   "source": []
  }
 ],
 "metadata": {
  "kernelspec": {
   "display_name": "Python 3 (ipykernel)",
   "language": "python",
   "name": "python3"
  },
  "language_info": {
   "codemirror_mode": {
    "name": "ipython",
    "version": 3
   },
   "file_extension": ".py",
   "mimetype": "text/x-python",
   "name": "python",
   "nbconvert_exporter": "python",
   "pygments_lexer": "ipython3",
   "version": "3.10.4"
  }
 },
 "nbformat": 4,
 "nbformat_minor": 2
}
