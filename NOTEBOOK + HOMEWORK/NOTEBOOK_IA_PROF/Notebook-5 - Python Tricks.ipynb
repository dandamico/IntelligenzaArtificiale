{
 "cells": [
  {
   "cell_type": "markdown",
   "id": "fb2c2f1c",
   "metadata": {},
   "source": [
    "# Python Tricks"
   ]
  },
  {
   "cell_type": "markdown",
   "id": "3176765e",
   "metadata": {},
   "source": [
    "## Merge di più dizionari in base alle chiavi"
   ]
  },
  {
   "cell_type": "code",
   "execution_count": 5,
   "id": "bd4e647d",
   "metadata": {},
   "outputs": [],
   "source": [
    "d1 = {'a': 3, 'c': 4, 'e': 1}"
   ]
  },
  {
   "cell_type": "code",
   "execution_count": 6,
   "id": "ad53e5b7",
   "metadata": {},
   "outputs": [],
   "source": [
    "d2 = {'a': 6, 'b': 2, 'f': 5}"
   ]
  },
  {
   "cell_type": "code",
   "execution_count": 8,
   "id": "8abfc452",
   "metadata": {},
   "outputs": [],
   "source": [
    "d3 = {'b': 6, 'g': 2, 'h': 5}"
   ]
  },
  {
   "cell_type": "code",
   "execution_count": 9,
   "id": "b4b987b4",
   "metadata": {},
   "outputs": [
    {
     "data": {
      "text/plain": [
       "{'a': 6, 'c': 4, 'e': 1, 'b': 6, 'f': 5, 'g': 2, 'h': 5}"
      ]
     },
     "execution_count": 9,
     "metadata": {},
     "output_type": "execute_result"
    }
   ],
   "source": [
    "z = {**d1, **d2, **d3}\n",
    "z"
   ]
  },
  {
   "cell_type": "markdown",
   "id": "1fe5365b",
   "metadata": {},
   "source": [
    "## Ordinamento di un Dizionario in base ai Valori"
   ]
  },
  {
   "cell_type": "code",
   "execution_count": 7,
   "id": "1895d71a",
   "metadata": {},
   "outputs": [
    {
     "data": {
      "text/plain": [
       "{'a': 4, 'b': 3, 'd': 2, 'c': 1}"
      ]
     },
     "execution_count": 7,
     "metadata": {},
     "output_type": "execute_result"
    }
   ],
   "source": [
    "d = {'a': 4, 'b': 3, 'd': 2, 'c': 1}\n",
    "d"
   ]
  },
  {
   "cell_type": "code",
   "execution_count": 8,
   "id": "4c7d1bc2",
   "metadata": {},
   "outputs": [
    {
     "data": {
      "text/plain": [
       "[('a', 4), ('b', 3), ('c', 1), ('d', 2)]"
      ]
     },
     "execution_count": 8,
     "metadata": {},
     "output_type": "execute_result"
    }
   ],
   "source": [
    "sorted(d.items())"
   ]
  },
  {
   "cell_type": "markdown",
   "id": "cb4bb301",
   "metadata": {},
   "source": [
    "Prima versione:"
   ]
  },
  {
   "cell_type": "code",
   "execution_count": 9,
   "id": "1c66610a",
   "metadata": {},
   "outputs": [
    {
     "data": {
      "text/plain": [
       "[('c', 1), ('d', 2), ('b', 3), ('a', 4)]"
      ]
     },
     "execution_count": 9,
     "metadata": {},
     "output_type": "execute_result"
    }
   ],
   "source": [
    "sorted(d.items(), key=lambda x: x[1])"
   ]
  },
  {
   "cell_type": "markdown",
   "id": "2eec6f07",
   "metadata": {},
   "source": [
    "Seconda versione:"
   ]
  },
  {
   "cell_type": "code",
   "execution_count": 10,
   "id": "89ca8bde",
   "metadata": {},
   "outputs": [],
   "source": [
    "import operator"
   ]
  },
  {
   "cell_type": "code",
   "execution_count": 11,
   "id": "7006c8e2",
   "metadata": {},
   "outputs": [
    {
     "data": {
      "text/plain": [
       "[('c', 1), ('d', 2), ('b', 3), ('a', 4)]"
      ]
     },
     "execution_count": 11,
     "metadata": {},
     "output_type": "execute_result"
    }
   ],
   "source": [
    "sorted(d.items(), key=operator.itemgetter(1))"
   ]
  },
  {
   "cell_type": "markdown",
   "id": "56ef55b2",
   "metadata": {},
   "source": [
    "## Vari modi di testare più flags"
   ]
  },
  {
   "cell_type": "code",
   "execution_count": 20,
   "id": "158c1d98",
   "metadata": {},
   "outputs": [],
   "source": [
    "x, y, z = (0, 1, 0)"
   ]
  },
  {
   "cell_type": "code",
   "execution_count": 21,
   "id": "4c70addb",
   "metadata": {},
   "outputs": [
    {
     "name": "stdout",
     "output_type": "stream",
     "text": [
      "passed\n"
     ]
    }
   ],
   "source": [
    "if x == 1 or y == 1 or z == 1:\n",
    "    print('passed')"
   ]
  },
  {
   "cell_type": "code",
   "execution_count": 22,
   "id": "089f3cc2",
   "metadata": {},
   "outputs": [
    {
     "name": "stdout",
     "output_type": "stream",
     "text": [
      "passed\n"
     ]
    }
   ],
   "source": [
    "if 1 in (x, y, z):\n",
    "    print('passed')"
   ]
  },
  {
   "cell_type": "code",
   "execution_count": 23,
   "id": "8da5f515",
   "metadata": {},
   "outputs": [
    {
     "name": "stdout",
     "output_type": "stream",
     "text": [
      "passed\n"
     ]
    }
   ],
   "source": [
    "if any((x, y, z)):\n",
    "    print('passed')"
   ]
  },
  {
   "cell_type": "code",
   "execution_count": 28,
   "id": "f45e7030",
   "metadata": {},
   "outputs": [
    {
     "data": {
      "text/plain": [
       "bool"
      ]
     },
     "execution_count": 28,
     "metadata": {},
     "output_type": "execute_result"
    }
   ],
   "source": [
    "type(any((x,y,z)))"
   ]
  },
  {
   "cell_type": "code",
   "execution_count": null,
   "id": "a09cb3e8",
   "metadata": {},
   "outputs": [],
   "source": []
  }
 ],
 "metadata": {
  "kernelspec": {
   "display_name": "Python 3 (ipykernel)",
   "language": "python",
   "name": "python3"
  },
  "language_info": {
   "codemirror_mode": {
    "name": "ipython",
    "version": 3
   },
   "file_extension": ".py",
   "mimetype": "text/x-python",
   "name": "python",
   "nbconvert_exporter": "python",
   "pygments_lexer": "ipython3",
   "version": "3.10.4"
  }
 },
 "nbformat": 4,
 "nbformat_minor": 5
}
