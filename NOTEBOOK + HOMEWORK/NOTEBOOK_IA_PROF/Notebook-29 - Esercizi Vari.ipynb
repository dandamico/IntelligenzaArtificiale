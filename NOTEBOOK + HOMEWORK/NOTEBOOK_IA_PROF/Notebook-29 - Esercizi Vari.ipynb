{
 "cells": [
  {
   "cell_type": "markdown",
   "id": "96411546",
   "metadata": {},
   "source": [
    "## Simulazione Lancio Due Dadi"
   ]
  },
  {
   "cell_type": "code",
   "execution_count": 1,
   "id": "e501930d",
   "metadata": {},
   "outputs": [],
   "source": [
    "import random"
   ]
  },
  {
   "cell_type": "code",
   "execution_count": 6,
   "id": "9cb7cb77",
   "metadata": {},
   "outputs": [],
   "source": [
    "NUM_RUNS = 100000\n",
    "D_MAX = 6"
   ]
  },
  {
   "cell_type": "code",
   "execution_count": 3,
   "id": "a9c623ae",
   "metadata": {},
   "outputs": [],
   "source": [
    "def twoDice():\n",
    "    d1 = random.randint(1, D_MAX)\n",
    "    d2 = random.randint(1, D_MAX)\n",
    "    return d1 + d2"
   ]
  },
  {
   "cell_type": "code",
   "execution_count": 7,
   "id": "51a9e09a",
   "metadata": {},
   "outputs": [],
   "source": [
    "def main():\n",
    "    expected = {2: 1/36, 3: 2/36, 4: 3/36, 5: 4/36, 6: 5/36, 7: 6/36, 8: 5/36, 9: 4/36, 10: 3/36, 11: 2/36, 12: 1/36}\n",
    "    counts = {}\n",
    "    for i in range(NUM_RUNS):\n",
    "        t = twoDice()\n",
    "        counts[t] = counts.get(t, 0) + 1\n",
    "    print('Totale    Percentuale  Percentuale')\n",
    "    print('            simulata     attesa')\n",
    "    for i in sorted(counts.keys()):\n",
    "        print('%5d  %11.2f    %8.2f' % (i, counts[i]/NUM_RUNS * 100, expected[i] * 100))"
   ]
  },
  {
   "cell_type": "code",
   "execution_count": 8,
   "id": "e38f7d00",
   "metadata": {},
   "outputs": [
    {
     "name": "stdout",
     "output_type": "stream",
     "text": [
      "Totale    Percentuale  Percentuale\n",
      "            simulata     attesa\n",
      "    2         2.83        2.78\n",
      "    3         5.48        5.56\n",
      "    4         8.37        8.33\n",
      "    5        11.09       11.11\n",
      "    6        13.89       13.89\n",
      "    7        16.69       16.67\n",
      "    8        13.90       13.89\n",
      "    9        11.05       11.11\n",
      "   10         8.34        8.33\n",
      "   11         5.52        5.56\n",
      "   12         2.84        2.78\n"
     ]
    }
   ],
   "source": [
    "main()"
   ]
  },
  {
   "cell_type": "code",
   "execution_count": null,
   "id": "d10287bb",
   "metadata": {},
   "outputs": [],
   "source": []
  },
  {
   "cell_type": "markdown",
   "id": "ac2c8ece",
   "metadata": {},
   "source": [
    "# Simulazione Monty Hall Problem"
   ]
  },
  {
   "cell_type": "code",
   "execution_count": 9,
   "id": "26dd95dd",
   "metadata": {},
   "outputs": [],
   "source": [
    "import random"
   ]
  },
  {
   "cell_type": "code",
   "execution_count": 10,
   "id": "6a1c0d97",
   "metadata": {},
   "outputs": [],
   "source": [
    "# Supponiamo che l'automobile stia dietro la porta n. 1\n",
    "\n",
    "def trial(cambio, n_porte):\n",
    "    porta_scelta = random.randint(1, n_porte)\n",
    "    if cambio:\n",
    "        porta_aperta = 3 if porta_scelta==2 else 2\n",
    "        porte_disponibili = [n_porta for n_porta in range(1, n_porte+1) if n_porta not in [porta_scelta, porta_aperta]]\n",
    "        porta_scelta = random.choice(porte_disponibili)\n",
    "    return porta_scelta == 1   "
   ]
  },
  {
   "cell_type": "code",
   "execution_count": 11,
   "id": "4f9732c1",
   "metadata": {},
   "outputs": [],
   "source": [
    "def simulazione(n_trials, cambio, n_porte=3):\n",
    "    n_vincite = 0\n",
    "    for i in range(n_trials):\n",
    "        if trial(cambio, n_porte):\n",
    "            n_vincite += 1\n",
    "    return n_vincite"
   ]
  },
  {
   "cell_type": "code",
   "execution_count": 12,
   "id": "ef013c1e",
   "metadata": {},
   "outputs": [],
   "source": [
    "n_trials = 100000"
   ]
  },
  {
   "cell_type": "code",
   "execution_count": 15,
   "id": "5d95165f",
   "metadata": {},
   "outputs": [],
   "source": [
    "n_vincite_senza_cambio = simulazione(n_trials, False)\n",
    "n_vincite_con_cambio = simulazione(n_trials, True)"
   ]
  },
  {
   "cell_type": "code",
   "execution_count": 16,
   "id": "a854ca4b",
   "metadata": {},
   "outputs": [
    {
     "name": "stdout",
     "output_type": "stream",
     "text": [
      "Porzione vincite senza cambio: 0.3349\n",
      "Porzione vincite con cambio: 0.6659\n"
     ]
    }
   ],
   "source": [
    "print('Porzione vincite senza cambio: {:.4f}' .format(n_vincite_senza_cambio/n_trials))\n",
    "print('Porzione vincite con cambio: {:.4f}' .format(n_vincite_con_cambio/n_trials))"
   ]
  },
  {
   "cell_type": "code",
   "execution_count": null,
   "id": "4dbc1944",
   "metadata": {},
   "outputs": [],
   "source": []
  },
  {
   "cell_type": "code",
   "execution_count": null,
   "id": "486665dd",
   "metadata": {},
   "outputs": [],
   "source": []
  },
  {
   "cell_type": "markdown",
   "id": "0153b2c6",
   "metadata": {},
   "source": [
    "## Riferimenti\n",
    "\n",
    "Hill, C. *Learning Scientific Programming with Python*, second edition, Cambridge Universiry Press, 2020.\n",
    "\n",
    "Stephenson, B. *The Python Workbook*, second edition, Springer, 2019."
   ]
  },
  {
   "cell_type": "code",
   "execution_count": null,
   "id": "d9edf600",
   "metadata": {},
   "outputs": [],
   "source": []
  }
 ],
 "metadata": {
  "kernelspec": {
   "display_name": "Python 3 (ipykernel)",
   "language": "python",
   "name": "python3"
  },
  "language_info": {
   "codemirror_mode": {
    "name": "ipython",
    "version": 3
   },
   "file_extension": ".py",
   "mimetype": "text/x-python",
   "name": "python",
   "nbconvert_exporter": "python",
   "pygments_lexer": "ipython3",
   "version": "3.7.7"
  }
 },
 "nbformat": 4,
 "nbformat_minor": 5
}
