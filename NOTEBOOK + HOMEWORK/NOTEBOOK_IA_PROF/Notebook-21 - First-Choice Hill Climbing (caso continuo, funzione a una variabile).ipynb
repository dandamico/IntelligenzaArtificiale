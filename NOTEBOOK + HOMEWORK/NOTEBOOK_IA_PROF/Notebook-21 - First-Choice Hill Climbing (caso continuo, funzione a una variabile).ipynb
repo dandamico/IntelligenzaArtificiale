{
 "cells": [
  {
   "cell_type": "markdown",
   "id": "10feeff7",
   "metadata": {},
   "source": [
    "# Hill Climbing (First-Choice) per funzioni continue\n",
    "Caso di una funzione continua ad una variabile."
   ]
  },
  {
   "cell_type": "code",
   "execution_count": 3,
   "id": "4db755f7",
   "metadata": {},
   "outputs": [],
   "source": [
    "from numpy import asarray\n",
    "from numpy.random import randn\n",
    "from numpy.random import rand\n",
    "from numpy.random import seed\n",
    "from numpy import arange\n",
    "from matplotlib import pyplot"
   ]
  },
  {
   "cell_type": "markdown",
   "id": "9494945e",
   "metadata": {},
   "source": [
    "## Definizione della Funzione Obiettivo \n",
    "Scegliamo la seguente funzione ad una variabile per il nostro algoritmo:$$f(x) = x^2$$"
   ]
  },
  {
   "cell_type": "code",
   "execution_count": 4,
   "id": "08eadaa2",
   "metadata": {},
   "outputs": [],
   "source": [
    "# funzione obiettivo\n",
    "def objective(x):\n",
    "    return x[0]**2.0"
   ]
  },
  {
   "cell_type": "markdown",
   "id": "aab65696",
   "metadata": {},
   "source": [
    "## Visualizzazione della Funzione Obiettivo "
   ]
  },
  {
   "cell_type": "code",
   "execution_count": 5,
   "id": "dc3c8143",
   "metadata": {},
   "outputs": [
    {
     "data": {
      "text/plain": "<Figure size 640x480 with 1 Axes>",
      "image/png": "[encoded data removed]"
     },
     "metadata": {},
     "output_type": "display_data"
    }
   ],
   "source": [
    "# definizione range per l'input\n",
    "r_min, r_max = -5.0, 5.0\n",
    "# campionamento uniforme dell'intervallo di input con incrementi di 0.1 \n",
    "inputs = arange(r_min, r_max, 0.1)\n",
    "# calcolo valori funzione obiettivo\n",
    "results = [objective([x]) for x in inputs]\n",
    "# creazione line plot valori funzione \n",
    "pyplot.plot(inputs, results)\n",
    "# definizione del punto di ottimo globale (che è il punto x = 0.)\n",
    "x_optima = 0.0\n",
    "# disegno di una linea verticale corispondente al punto di ottimo  \n",
    "pyplot.axvline(x=x_optima, ls='--', color='red'); \n",
    "#pyplot.show()"
   ]
  },
  {
   "cell_type": "markdown",
   "id": "9be5d781",
   "metadata": {},
   "source": [
    "## Algoritmo Hill Climbing"
   ]
  },
  {
   "cell_type": "code",
   "execution_count": 6,
   "id": "1e1b3c16",
   "metadata": {},
   "outputs": [],
   "source": [
    "def hill_climbing(objective, bounds, n_iterations, step_size):\n",
    "    \n",
    "    # generazione random stato iniziale\n",
    "    current = bounds[:, 0] + rand(len(bounds)) * (bounds[:, 1] - bounds[:, 0])\n",
    "    # valutazione stato iniziale\n",
    "    current_eval = objective(current)\n",
    "    \n",
    "    # run the hill climb\n",
    "    for i in range(n_iterations):\n",
    "        # generazione random stato successore\n",
    "        next_state = current + randn(len(bounds)) * step_size\n",
    "        # valutazione stato successore\n",
    "        next_state_eval = objective(next_state)\n",
    "        # confronto valutazioni di current e next\n",
    "        if next_state_eval <= current_eval:\n",
    "            # next diventa il nuovo stato corrente\n",
    "            current, current_eval = next_state, next_state_eval\n",
    "            # report avanzamento elaborazione\n",
    "            print('>%d f(%s) = %.5f' % (i, current, current_eval))\n",
    "    return [current, current_eval]\n"
   ]
  },
  {
   "cell_type": "markdown",
   "id": "c204822c",
   "metadata": {},
   "source": [
    "## Impostazione Parametri"
   ]
  },
  {
   "cell_type": "code",
   "execution_count": 7,
   "id": "6a67d881",
   "metadata": {},
   "outputs": [],
   "source": [
    "# seed per il generatore di numeri pseudocasuali\n",
    "seed(5)\n",
    "# definizione range per l'input\n",
    "bounds = asarray([[-5.0, 5.0]])\n",
    "# definizione  totale iterazioni\n",
    "n_iterations = 1000\n",
    "# definizione massimo step size\n",
    "step_size = 0.1"
   ]
  },
  {
   "cell_type": "markdown",
   "id": "6799ad86",
   "metadata": {},
   "source": [
    "## Esecuzione Algoritmo"
   ]
  },
  {
   "cell_type": "code",
   "execution_count": 8,
   "id": "85ac6412",
   "metadata": {},
   "outputs": [
    {
     "name": "stdout",
     "output_type": "stream",
     "text": [
      ">1 f([-2.74290923]) = 7.52355\n",
      ">3 f([-2.65873147]) = 7.06885\n",
      ">4 f([-2.52197291]) = 6.36035\n",
      ">5 f([-2.46450214]) = 6.07377\n",
      ">7 f([-2.44740961]) = 5.98981\n",
      ">9 f([-2.28364676]) = 5.21504\n",
      ">12 f([-2.19245939]) = 4.80688\n",
      ">14 f([-2.01001538]) = 4.04016\n",
      ">15 f([-1.86425287]) = 3.47544\n",
      ">22 f([-1.79913002]) = 3.23687\n",
      ">24 f([-1.57525573]) = 2.48143\n",
      ">25 f([-1.55047719]) = 2.40398\n",
      ">26 f([-1.51783757]) = 2.30383\n",
      ">27 f([-1.49118756]) = 2.22364\n",
      ">28 f([-1.45344116]) = 2.11249\n",
      ">30 f([-1.33055275]) = 1.77037\n",
      ">32 f([-1.17805016]) = 1.38780\n",
      ">33 f([-1.15189314]) = 1.32686\n",
      ">36 f([-1.03852644]) = 1.07854\n",
      ">37 f([-0.99135322]) = 0.98278\n",
      ">38 f([-0.79448984]) = 0.63121\n",
      ">39 f([-0.69837955]) = 0.48773\n",
      ">42 f([-0.69317313]) = 0.48049\n",
      ">46 f([-0.61801423]) = 0.38194\n",
      ">48 f([-0.48799625]) = 0.23814\n",
      ">50 f([-0.22149135]) = 0.04906\n",
      ">54 f([-0.20017144]) = 0.04007\n",
      ">57 f([-0.15994446]) = 0.02558\n",
      ">60 f([-0.15492485]) = 0.02400\n",
      ">61 f([-0.03572481]) = 0.00128\n",
      ">64 f([-0.03051261]) = 0.00093\n",
      ">66 f([-0.0074283]) = 0.00006\n",
      ">78 f([-0.00202357]) = 0.00000\n",
      ">119 f([0.00128373]) = 0.00000\n",
      ">120 f([-0.00040911]) = 0.00000\n",
      ">314 f([-0.00017051]) = 0.00000\n",
      "Done!\n",
      "f([-0.00017051]) = 0.000000\n"
     ]
    }
   ],
   "source": [
    "best, score = hill_climbing(objective, bounds, n_iterations, step_size)\n",
    "\n",
    "print('Done!')\n",
    "print('f(%s) = %f' % (best, score))"
   ]
  },
  {
   "cell_type": "code",
   "execution_count": null,
   "id": "fdc275bc",
   "metadata": {},
   "outputs": [],
   "source": []
  },
  {
   "cell_type": "markdown",
   "id": "4de900ec",
   "metadata": {},
   "source": [
    "## Algoritmo Hill Climbing con Score"
   ]
  },
  {
   "cell_type": "code",
   "execution_count": 7,
   "id": "0a4cb1f6",
   "metadata": {},
   "outputs": [],
   "source": [
    "def hill_climbing_score(objective, bounds, n_iterations, step_size):\n",
    "    \n",
    "    # generazione random stato iniziale\n",
    "    current = bounds[:, 0] + rand(len(bounds)) * (bounds[:, 1] - bounds[:, 0])\n",
    "    # valutazione stato iniziale\n",
    "    current_eval = objective(current)\n",
    "    \n",
    "    # run the hill climb\n",
    "    scores = list()\n",
    "    scores.append(current_eval)\n",
    "    for i in range(n_iterations):\n",
    "        # generazione random stato successore\n",
    "        next_state = current + randn(len(bounds)) * step_size\n",
    "        # valutazione stato successore\n",
    "        next_state_eval = objective(next_state)\n",
    "        # confronto valutazioni di current e next\n",
    "        if next_state_eval <= current_eval:\n",
    "            # next diventa il nuovo stato corrente\n",
    "            current, current_eval = next_state, next_state_eval\n",
    "            # teniamo traccia della valutazione\n",
    "            scores.append(current_eval)\n",
    "            # report avanzamento elaborazione\n",
    "            print('>%d f(%s) = %.5f' % (i, current, current_eval))\n",
    "    return [current, current_eval, scores]\n"
   ]
  },
  {
   "cell_type": "markdown",
   "id": "468ebf52",
   "metadata": {},
   "source": [
    "## Impostazione Parametri"
   ]
  },
  {
   "cell_type": "code",
   "execution_count": 8,
   "id": "6a4edb80",
   "metadata": {},
   "outputs": [],
   "source": [
    "# seed per il generatore di numeri pseudocasuali\n",
    "seed(5)\n",
    "# definizione range per l'input\n",
    "bounds = asarray([[-5.0, 5.0]])\n",
    "# definizione  totale iterazioni\n",
    "n_iterations = 1000\n",
    "# definizione step size\n",
    "step_size = 0.1"
   ]
  },
  {
   "cell_type": "markdown",
   "id": "6fa6edfa",
   "metadata": {},
   "source": [
    "## Esecuzione Algoritmo con Score"
   ]
  },
  {
   "cell_type": "code",
   "execution_count": 9,
   "id": "c281ae68",
   "metadata": {},
   "outputs": [
    {
     "name": "stdout",
     "output_type": "stream",
     "text": [
      ">1 f([-2.74290923]) = 7.52355\n",
      ">3 f([-2.65873147]) = 7.06885\n",
      ">4 f([-2.52197291]) = 6.36035\n",
      ">5 f([-2.46450214]) = 6.07377\n",
      ">7 f([-2.44740961]) = 5.98981\n",
      ">9 f([-2.28364676]) = 5.21504\n",
      ">12 f([-2.19245939]) = 4.80688\n",
      ">14 f([-2.01001538]) = 4.04016\n",
      ">15 f([-1.86425287]) = 3.47544\n",
      ">22 f([-1.79913002]) = 3.23687\n",
      ">24 f([-1.57525573]) = 2.48143\n",
      ">25 f([-1.55047719]) = 2.40398\n",
      ">26 f([-1.51783757]) = 2.30383\n",
      ">27 f([-1.49118756]) = 2.22364\n",
      ">28 f([-1.45344116]) = 2.11249\n",
      ">30 f([-1.33055275]) = 1.77037\n",
      ">32 f([-1.17805016]) = 1.38780\n",
      ">33 f([-1.15189314]) = 1.32686\n",
      ">36 f([-1.03852644]) = 1.07854\n",
      ">37 f([-0.99135322]) = 0.98278\n",
      ">38 f([-0.79448984]) = 0.63121\n",
      ">39 f([-0.69837955]) = 0.48773\n",
      ">42 f([-0.69317313]) = 0.48049\n",
      ">46 f([-0.61801423]) = 0.38194\n",
      ">48 f([-0.48799625]) = 0.23814\n",
      ">50 f([-0.22149135]) = 0.04906\n",
      ">54 f([-0.20017144]) = 0.04007\n",
      ">57 f([-0.15994446]) = 0.02558\n",
      ">60 f([-0.15492485]) = 0.02400\n",
      ">61 f([-0.03572481]) = 0.00128\n",
      ">64 f([-0.03051261]) = 0.00093\n",
      ">66 f([-0.0074283]) = 0.00006\n",
      ">78 f([-0.00202357]) = 0.00000\n",
      ">119 f([0.00128373]) = 0.00000\n",
      ">120 f([-0.00040911]) = 0.00000\n",
      ">314 f([-0.00017051]) = 0.00000\n",
      "Done!\n",
      "f([-0.00017051]) = 0.000000\n"
     ]
    }
   ],
   "source": [
    "best, score, scores = hill_climbing_score(objective, bounds, n_iterations, step_size) \n",
    "\n",
    "print('Done!')\n",
    "print('f(%s) = %f' % (best, score))"
   ]
  },
  {
   "cell_type": "code",
   "execution_count": 10,
   "id": "57e2b132",
   "metadata": {},
   "outputs": [
    {
     "data": {
      "image/png": "[encoded data removed]",
      "text/plain": [
       "<Figure size 432x288 with 1 Axes>"
      ]
     },
     "metadata": {
      "needs_background": "light"
     },
     "output_type": "display_data"
    }
   ],
   "source": [
    "# line plot dei best scores\n",
    "pyplot.plot(scores, '.-')\n",
    "pyplot.xlabel('Improvement Number')\n",
    "pyplot.ylabel('Evaluation f(x)');\n",
    "#pyplot.show()"
   ]
  }
 ],
 "metadata": {
  "kernelspec": {
   "display_name": "Python 3 (ipykernel)",
   "language": "python",
   "name": "python3"
  },
  "language_info": {
   "codemirror_mode": {
    "name": "ipython",
    "version": 3
   },
   "file_extension": ".py",
   "mimetype": "text/x-python",
   "name": "python",
   "nbconvert_exporter": "python",
   "pygments_lexer": "ipython3",
   "version": "3.10.4"
  }
 },
 "nbformat": 4,
 "nbformat_minor": 5
}
