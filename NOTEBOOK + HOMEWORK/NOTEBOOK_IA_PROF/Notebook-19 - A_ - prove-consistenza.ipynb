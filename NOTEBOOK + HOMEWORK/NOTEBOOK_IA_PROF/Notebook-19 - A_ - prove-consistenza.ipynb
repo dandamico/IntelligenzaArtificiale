{
 "cells": [
  {
   "cell_type": "markdown",
   "metadata": {},
   "source": [
    "# Algoritmo A* per mappa esempio\n",
    "Versione con h ammissibile ma non consistente e con h consistente"
   ]
  },
  {
   "cell_type": "markdown",
   "metadata": {},
   "source": [
    "## Grafo degli Stati"
   ]
  },
  {
   "cell_type": "code",
   "execution_count": 1,
   "metadata": {},
   "outputs": [],
   "source": [
    "# connessioni tra stati adiacenti con relative distanze\n",
    "\n",
    "grafo = {}\n",
    "\n",
    "grafo['S'] = [['A', 2], ['B', 4]]\n",
    "grafo['A'] = [['B', 1]]\n",
    "grafo['B'] = [['G', 4]]"
   ]
  },
  {
   "cell_type": "markdown",
   "metadata": {},
   "source": [
    "## Funzione euristica h\n"
   ]
  },
  {
   "cell_type": "code",
   "execution_count": 2,
   "metadata": {},
   "outputs": [],
   "source": [
    "# Funzione h ammissibile ma non consistente\n",
    "\n",
    "h = {}\n",
    "\n",
    "h['S'] = 7\n",
    "h['A'] = 5\n",
    "h['B'] = 1\n",
    "h['G'] = 0"
   ]
  },
  {
   "cell_type": "markdown",
   "metadata": {},
   "source": [
    "### Classe Node"
   ]
  },
  {
   "cell_type": "code",
   "execution_count": 3,
   "metadata": {},
   "outputs": [],
   "source": [
    "class Node:\n",
    "    \n",
    "    def __init__(self, state, parent, f, partial_path):\n",
    "        self.state = state\n",
    "        self.depth = 0\n",
    "        self.children = []\n",
    "        self.parent = parent\n",
    "        self.heuristic = f\n",
    "        self.partial_path = partial_path\n",
    "        \n",
    "        \n",
    "    def addChild(self, childNode):\n",
    "        \"\"\"\n",
    "        Questo metodo aggiunge un nodo sotto un altro nodo\n",
    "        \"\"\"\n",
    "        self.children.append(childNode)\n",
    "        childNode.parent = self\n",
    "        childNode.depth = self.depth + 1\n",
    "        \n",
    "    \n",
    "    def printPath(self):\n",
    "        \"\"\"\n",
    "        Questo metodo stampa il percorso trovato \n",
    "        dallo stato iniziale all'obiettivo\n",
    "        \"\"\"\n",
    "        if self.parent != None:\n",
    "            self.parent.printPath()\n",
    "        print(\"-> \", self.state.name)"
   ]
  },
  {
   "cell_type": "markdown",
   "metadata": {},
   "source": [
    "### Classe State"
   ]
  },
  {
   "cell_type": "code",
   "execution_count": 4,
   "metadata": {},
   "outputs": [],
   "source": [
    "class State:\n",
    "    def __init__(self, name = None):\n",
    "        if name == None:\n",
    "            self.name = self.getInitialState()   # crea lo stato iniziale\n",
    "        else:\n",
    "            self.name = name\n",
    "            \n",
    "    def getInitialState(self):\n",
    "        initialState = 'S'\n",
    "        return initialState\n",
    "    \n",
    "    def successorFunction(self):\n",
    "        return grafo[self.name]\n",
    "    \n",
    "    def checkGoalState(self):\n",
    "        return self.name == 'G'"
   ]
  },
  {
   "cell_type": "markdown",
   "metadata": {},
   "source": [
    "## Algoritmo "
   ]
  },
  {
   "cell_type": "code",
   "execution_count": 5,
   "metadata": {},
   "outputs": [],
   "source": [
    "import queue as Queue"
   ]
  },
  {
   "cell_type": "code",
   "execution_count": 6,
   "metadata": {},
   "outputs": [],
   "source": [
    "def A_Star_TreeSearch():\n",
    "    \n",
    "    # crea la frontiera (priority queue)\n",
    "    fringe = Queue.PriorityQueue()\n",
    "    \n",
    "    # crea il root node\n",
    "    initialState = State() \n",
    "    euristica = h[initialState.name]\n",
    "    root = Node(initialState, None, euristica, 0)  # il nodo padre della radice è None\n",
    "        \n",
    "    # inserisci root nella frontiera\n",
    "    fringe.put((root.heuristic, root))\n",
    "    \n",
    "    # esegui se la coda non è vuota \n",
    "    while not fringe.empty(): \n",
    "        \n",
    "        # estrai il front node dalla frontiera\n",
    "        _, currentNode = fringe.get()\n",
    "        \n",
    "        print(\"-- dequeue --\", currentNode.state.name)\n",
    "        \n",
    "        # verifica se è lo stato obiettivo\n",
    "        if currentNode.state.checkGoalState():\n",
    "            print(\"Stato obiettivo raggiunto\")\n",
    "            # stampa il percorso trovato\n",
    "            print(\"----------------------\")\n",
    "            print(\"Soluzione:\")\n",
    "            currentNode.printPath()\n",
    "            break\n",
    "        \n",
    "              \n",
    "        # ottieni i nodi figli del nodo estratto dalla frontiera\n",
    "        childStates = currentNode.state.successorFunction()\n",
    "        for (childState, distance) in childStates:\n",
    "            g = currentNode.partial_path + distance\n",
    "            euristica = h[childState]\n",
    "            f = g + euristica \n",
    "            childNode = Node(State(childState), currentNode, f, g) \n",
    "                \n",
    "            # aggiungi alla frontiera\n",
    "            fringe.put((childNode.heuristic, childNode))"
   ]
  },
  {
   "cell_type": "code",
   "execution_count": 7,
   "metadata": {},
   "outputs": [],
   "source": [
    "def A_Star_GraphSearch():\n",
    "    \n",
    "    # crea la frontiera (priority queue)\n",
    "    fringe = Queue.PriorityQueue()\n",
    "    \n",
    "    # crea la lista dei nodi visitati\n",
    "    close = []\n",
    "    \n",
    "    # crea il root node\n",
    "    initialState = State() \n",
    "    euristica = h[initialState.name]\n",
    "    root = Node(initialState, None, euristica, 0)  # il nodo padre della radice è None\n",
    "        \n",
    "    # inserisci root nella frontiera\n",
    "    fringe.put((root.heuristic, root))\n",
    "    \n",
    "    # esegui se la coda non è vuota \n",
    "    while not fringe.empty(): \n",
    "        \n",
    "        # estrai il front node dalla frontiera\n",
    "        _, currentNode = fringe.get()\n",
    "        \n",
    "        # aggiungiamo questo nodo alla lista dei nodi visitati\n",
    "        close.append(currentNode.state.name)\n",
    "        \n",
    "        print(\"-- dequeue --\", currentNode.state.name)\n",
    "        \n",
    "        # verifica se è lo stato obiettivo\n",
    "        if currentNode.state.checkGoalState():\n",
    "            print(\"Stato obiettivo raggiunto\")\n",
    "            # stampa il percorso trovato\n",
    "            print(\"----------------------\")\n",
    "            print(\"Soluzione:\")\n",
    "            currentNode.printPath()\n",
    "            break\n",
    "        \n",
    "              \n",
    "        # ottieni i nodi figli del nodo estratto dalla frontiera\n",
    "        childStates = currentNode.state.successorFunction()\n",
    "        for (childState, distance) in childStates:\n",
    "            g = currentNode.partial_path + distance\n",
    "            euristica = h[childState]\n",
    "            f = g + euristica \n",
    "            childNode = Node(State(childState), currentNode, f, g) \n",
    "            \n",
    "            # verifica se lo stato sta in close\n",
    "            if childNode.state.name not in close:\n",
    "                \n",
    "                # aggiungi alla frontiera\n",
    "                fringe.put((childNode.heuristic, childNode))"
   ]
  },
  {
   "cell_type": "code",
   "execution_count": 8,
   "metadata": {},
   "outputs": [
    {
     "name": "stdout",
     "output_type": "stream",
     "text": [
      "-- dequeue -- S\n",
      "-- dequeue -- B\n",
      "-- dequeue -- A\n",
      "-- dequeue -- B\n",
      "-- dequeue -- G\n",
      "Stato obiettivo raggiunto\n",
      "----------------------\n",
      "Soluzione:\n",
      "->  S\n",
      "->  A\n",
      "->  B\n",
      "->  G\n"
     ]
    }
   ],
   "source": [
    "A_Star_TreeSearch()"
   ]
  },
  {
   "cell_type": "code",
   "execution_count": 9,
   "metadata": {},
   "outputs": [
    {
     "name": "stdout",
     "output_type": "stream",
     "text": [
      "-- dequeue -- S\n",
      "-- dequeue -- B\n",
      "-- dequeue -- A\n",
      "-- dequeue -- G\n",
      "Stato obiettivo raggiunto\n",
      "----------------------\n",
      "Soluzione:\n",
      "->  S\n",
      "->  B\n",
      "->  G\n"
     ]
    }
   ],
   "source": [
    "A_Star_GraphSearch()"
   ]
  },
  {
   "cell_type": "code",
   "execution_count": 10,
   "metadata": {},
   "outputs": [],
   "source": [
    "# Funzione h consistente\n",
    "\n",
    "h = {}\n",
    "\n",
    "h['S'] = 6\n",
    "h['A'] = 5\n",
    "h['B'] = 4\n",
    "h['G'] = 0"
   ]
  },
  {
   "cell_type": "code",
   "execution_count": 11,
   "metadata": {
    "scrolled": true
   },
   "outputs": [
    {
     "name": "stdout",
     "output_type": "stream",
     "text": [
      "-- dequeue -- S\n",
      "-- dequeue -- A\n",
      "-- dequeue -- B\n",
      "-- dequeue -- G\n",
      "Stato obiettivo raggiunto\n",
      "----------------------\n",
      "Soluzione:\n",
      "->  S\n",
      "->  A\n",
      "->  B\n",
      "->  G\n"
     ]
    }
   ],
   "source": [
    "A_Star_TreeSearch()"
   ]
  },
  {
   "cell_type": "code",
   "execution_count": 12,
   "metadata": {},
   "outputs": [
    {
     "name": "stdout",
     "output_type": "stream",
     "text": [
      "-- dequeue -- S\n",
      "-- dequeue -- A\n",
      "-- dequeue -- B\n",
      "-- dequeue -- G\n",
      "Stato obiettivo raggiunto\n",
      "----------------------\n",
      "Soluzione:\n",
      "->  S\n",
      "->  A\n",
      "->  B\n",
      "->  G\n"
     ]
    }
   ],
   "source": [
    "A_Star_GraphSearch()"
   ]
  },
  {
   "cell_type": "code",
   "execution_count": null,
   "metadata": {},
   "outputs": [],
   "source": []
  }
 ],
 "metadata": {
  "kernelspec": {
   "display_name": "Python 3 (ipykernel)",
   "language": "python",
   "name": "python3"
  },
  "language_info": {
   "codemirror_mode": {
    "name": "ipython",
    "version": 3
   },
   "file_extension": ".py",
   "mimetype": "text/x-python",
   "name": "python",
   "nbconvert_exporter": "python",
   "pygments_lexer": "ipython3",
   "version": "3.7.7"
  }
 },
 "nbformat": 4,
 "nbformat_minor": 2
}
