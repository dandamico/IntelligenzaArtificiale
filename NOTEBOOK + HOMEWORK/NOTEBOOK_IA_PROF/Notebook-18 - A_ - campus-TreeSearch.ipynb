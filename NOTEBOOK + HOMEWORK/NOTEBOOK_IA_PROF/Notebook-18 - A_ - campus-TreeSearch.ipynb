{
 "cells": [
  {
   "cell_type": "markdown",
   "metadata": {},
   "source": [
    "# Algoritmo A* per mappa Campus"
   ]
  },
  {
   "cell_type": "code",
   "execution_count": 1,
   "metadata": {},
   "outputs": [],
   "source": [
    "# connessioni tra stati\n",
    "\n",
    "connections = {}\n",
    "connections[\"Bus Stop\"] = {\"Library\"}\n",
    "connections[\"Library\"] = {\"Bus Stop\", \"Car Park\", \"Student Center\"}\n",
    "connections[\"Car Park\"] = {\"Library\", \"Maths Building\", \"Store\"}\n",
    "connections[\"Maths Building\"] = {\"Car Park\", \"Canteen\"}\n",
    "connections[\"Student Center\"] = {\"Library\", \"Store\" , \"Theater\"}\n",
    "connections[\"Store\"] = {\"Student Center\", \"Car Park\", \"Canteen\", \"Sports Center\"}\n",
    "connections[\"Canteen\"] = {\"Maths Building\", \"Store\", \"AI Lab\"}\n",
    "connections[\"AI Lab\"] = {\"Canteen\"}\n",
    "connections[\"Theater\"] = {\"Student Center\", \"Sports Center\"}\n",
    "connections[\"Sports Center\"] = {\"Theater\", \"Store\"}"
   ]
  },
  {
   "cell_type": "code",
   "execution_count": 2,
   "metadata": {},
   "outputs": [],
   "source": [
    "# coordinate di tutti gli stati presenti nello spazio degli stati\n",
    "\n",
    "location = {}\n",
    "location[\"Bus Stop\"] = [2, 8]\n",
    "location[\"Library\"] = [4, 8]\n",
    "location[\"Car Park\"] = [1, 4]\n",
    "location[\"Maths Building\"] = [4, 1]\n",
    "location[\"Student Center\"] = [6, 8]\n",
    "location[\"Store\"] = [6, 4]\n",
    "location[\"Canteen\"] = [6, 1]\n",
    "location[\"AI Lab\"] = [6, 0]\n",
    "location[\"Theater\"] = [7, 7]\n",
    "location[\"Sports Center\"] = [7, 5]"
   ]
  },
  {
   "cell_type": "markdown",
   "metadata": {},
   "source": [
    "### Priority queue"
   ]
  },
  {
   "cell_type": "code",
   "execution_count": 3,
   "metadata": {},
   "outputs": [],
   "source": [
    "import queue as Queue"
   ]
  },
  {
   "cell_type": "markdown",
   "metadata": {},
   "source": [
    "### Classe Node"
   ]
  },
  {
   "cell_type": "code",
   "execution_count": 4,
   "metadata": {},
   "outputs": [],
   "source": [
    "class Node:\n",
    "    \n",
    "    def __init__(self, state, parentNode):\n",
    "        \n",
    "        self.state = state\n",
    "        self.depth = 0\n",
    "        self.children = []\n",
    "        self.parent = None\n",
    "        self.setParent(parentNode)\n",
    "        self.costFromRoot = 0\n",
    "        self.computeCost()\n",
    "        self.heuristic = 0\n",
    "        self.computeHeuristic()\n",
    "        \n",
    "        \n",
    "    def setParent(self, parentNode):\n",
    "        \"\"\"\n",
    "        Questo metodo aggiunge un nodo sotto un altro nodo\n",
    "        \"\"\"\n",
    "        if parentNode != None:\n",
    "            parentNode.children.append(self)\n",
    "            self.parent = parentNode\n",
    "            self.depth = parentNode.depth + 1\n",
    "        else:\n",
    "            self.parent = None\n",
    "            \n",
    "            \n",
    "    def computeHeuristic(self):\n",
    "        \"\"\"\n",
    "        Questo metodo calcola il valore dell'euristica per un nodo\n",
    "        \"\"\"\n",
    "        \n",
    "        # trova la distanza di questo stato dallo stato obiettivo\n",
    "        goalLocation = location[\"AI Lab\"]\n",
    "        currentLocation = location[self.state.place]\n",
    "        distanceFromGoal = self.computeDistance(goalLocation, currentLocation)\n",
    "        \n",
    "        # sommiamo per calcolare il valore della funzione euristica complessiva\n",
    "        heuristic = self.costFromRoot + distanceFromGoal\n",
    "#        print(\"Euristica per\", self.state.place, \"=\", self.costFromRoot, distanceFromGoal, heuristic)\n",
    "        self.heuristic = heuristic\n",
    "        \n",
    "        \n",
    "    def computeDistance(self, location1, location2):\n",
    "        \"\"\"\n",
    "        Questo metodo calcola la distanza tra due posizioni\n",
    "        \"\"\"\n",
    "        # differenza tra le coordinate x\n",
    "        dx = location1[0] - location2[0]\n",
    "        \n",
    "        # differenza tra le coordinate y\n",
    "        dy = location1[1] - location2[1]\n",
    "        \n",
    "        # distanza\n",
    "        distance = math.sqrt(dx ** 2 + dy ** 2)\n",
    "        \n",
    "        return distance\n",
    "            \n",
    "            \n",
    "    def printPath(self):\n",
    "        \"\"\"\n",
    "        Questo metodo stampa il percorso trovato \n",
    "        tra lo stato iniziale e lo stato obiettivo\n",
    "        \"\"\"\n",
    "        if self.parent != None:\n",
    "            self.parent.printPath()\n",
    "        print(\"-> \", self.state.place)\n",
    "        \n",
    "    def computeCost(self):\n",
    "        \"\"\"\n",
    "        Questo metodo calcola la distanza del nodo corrente dal nodo radice\n",
    "        \"\"\"\n",
    "        \n",
    "        if self.parent != None:\n",
    "            # trova la distanza dal nodo corrente al padre\n",
    "            distance = self.computeDistance(location[self.state.place], \\\n",
    "                location[self.parent.state.place])\n",
    "            # cost = parent cost + distance\n",
    "            self.costFromRoot = self.parent.costFromRoot + distance\n",
    "        else:\n",
    "            self.costFromRoot = 0    \n",
    "        "
   ]
  },
  {
   "cell_type": "markdown",
   "metadata": {},
   "source": [
    "\n",
    "### Classe State"
   ]
  },
  {
   "cell_type": "code",
   "execution_count": 5,
   "metadata": {},
   "outputs": [],
   "source": [
    "class State:\n",
    "    \n",
    "    def __init__(self, place = None):\n",
    "        if place == None:\n",
    "            # crea stato iniziale\n",
    "            self.place = self.getInitialState()\n",
    "        else:\n",
    "            self.place = place\n",
    "    \n",
    "    def getInitialState(self):\n",
    "        \"\"\"\n",
    "        Questo metodo restituisce lo stato iniziale\n",
    "        \"\"\"\n",
    "        initialState = \"Bus Stop\"\n",
    "        return initialState\n",
    "\n",
    "\n",
    "    def successorFunction(self):\n",
    "        \"\"\"\n",
    "        Questa è la funzione successore. \n",
    "        Individua tutte le posizioni collegate a quella corrente\n",
    "        \"\"\"\n",
    "        return connections[self.place]\n",
    "        \n",
    "        \n",
    "    def checkGoalState(self):\n",
    "        \"\"\"\n",
    "        Verifica se lo stato corrente è lo stato obiettivo AI Lab\n",
    "        \"\"\" \n",
    "        # verifica se place è AI Lab\n",
    "        return self.place == \"AI Lab\""
   ]
  },
  {
   "cell_type": "code",
   "execution_count": 6,
   "metadata": {},
   "outputs": [],
   "source": [
    "import math"
   ]
  },
  {
   "cell_type": "markdown",
   "metadata": {},
   "source": [
    "# A* search"
   ]
  },
  {
   "cell_type": "code",
   "execution_count": 7,
   "metadata": {},
   "outputs": [],
   "source": [
    "def A_Star():\n",
    "    \n",
    "    # crea la frontiera\n",
    "    fringe = Queue.PriorityQueue()\n",
    "    \n",
    "    # crea il nodo radice\n",
    "    initialState = State()\n",
    "    root = Node(initialState, None)\n",
    "    \n",
    "    # inserisce root nella frontiera\n",
    "    fringe.put((root.heuristic, root))\n",
    "    \n",
    "    # verifica se ci sono elementi nella frontiera per fare una dequeue\n",
    "    while not fringe.empty(): \n",
    "        \n",
    "        # estrazione di un nodo dalla frontiera\n",
    "        _, currentNode = fringe.get()\n",
    "        \n",
    "        print(\"-- dequeue --\", currentNode.state.place)\n",
    "        \n",
    "        # verifica se questo è lo stato obiettivo\n",
    "        if currentNode.state.checkGoalState():\n",
    "            print(\"Stato obiettivo raggiunto\")\n",
    "            # stampa il percorso trovato\n",
    "            print(\"----------------------\")\n",
    "            print(\"Soluzione:\")\n",
    "            currentNode.printPath()\n",
    "            break\n",
    "            \n",
    "        # ottieni i nodi figli \n",
    "        childStates = currentNode.state.successorFunction()\n",
    "        \n",
    "        for childState in childStates:           \n",
    "            childNode = Node(State(childState), currentNode)                      \n",
    "            fringe.put((childNode.heuristic, childNode))  # aggiungi alla coda\n",
    "            "
   ]
  },
  {
   "cell_type": "code",
   "execution_count": 8,
   "metadata": {},
   "outputs": [
    {
     "name": "stdout",
     "output_type": "stream",
     "text": [
      "-- dequeue -- Bus Stop\n",
      "-- dequeue -- Library\n",
      "-- dequeue -- Student Center\n",
      "-- dequeue -- Store\n",
      "-- dequeue -- Canteen\n",
      "-- dequeue -- AI Lab\n",
      "Stato obiettivo raggiunto\n",
      "----------------------\n",
      "Soluzione:\n",
      "->  Bus Stop\n",
      "->  Library\n",
      "->  Student Center\n",
      "->  Store\n",
      "->  Canteen\n",
      "->  AI Lab\n"
     ]
    }
   ],
   "source": [
    "A_Star()"
   ]
  }
 ],
 "metadata": {
  "kernelspec": {
   "display_name": "Python 3 (ipykernel)",
   "language": "python",
   "name": "python3"
  },
  "language_info": {
   "codemirror_mode": {
    "name": "ipython",
    "version": 3
   },
   "file_extension": ".py",
   "mimetype": "text/x-python",
   "name": "python",
   "nbconvert_exporter": "python",
   "pygments_lexer": "ipython3",
   "version": "3.7.7"
  }
 },
 "nbformat": 4,
 "nbformat_minor": 2
}
