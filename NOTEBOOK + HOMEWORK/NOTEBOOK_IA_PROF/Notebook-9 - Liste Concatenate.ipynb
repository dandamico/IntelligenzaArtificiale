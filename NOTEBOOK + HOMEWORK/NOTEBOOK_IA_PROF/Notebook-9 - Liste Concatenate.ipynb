{
 "cells": [
  {
   "cell_type": "markdown",
   "metadata": {},
   "source": [
    "# Liste Concatenate in Python"
   ]
  },
  {
   "cell_type": "markdown",
   "metadata": {},
   "source": [
    "## Liste Singolarmente Concatenate"
   ]
  },
  {
   "cell_type": "markdown",
   "metadata": {},
   "source": [
    " ### Definizione della classe Node"
   ]
  },
  {
   "cell_type": "code",
   "execution_count": null,
   "metadata": {},
   "outputs": [],
   "source": [
    "class Node:\n",
    "    data = ''\n",
    "    next = None\n",
    "    \n",
    "    def __init__(self, data, next):\n",
    "        self.data = data\n",
    "        self.next = next"
   ]
  },
  {
   "cell_type": "markdown",
   "metadata": {},
   "source": [
    "### Definizione delle classe per liste singolarmente concatenate"
   ]
  },
  {
   "cell_type": "code",
   "execution_count": null,
   "metadata": {},
   "outputs": [],
   "source": [
    "class SinglyLinkedList:\n",
    "#    __head = None\n",
    "#    __tail = None\n",
    "    \n",
    "    def __init__(self):\n",
    "        self.__head = None\n",
    "        self.__tail = None\n",
    "        \n",
    "    def append(self, newNode):\n",
    "        if self.__head == None:          # se la lista è vuota ...\n",
    "            self.__head = newNode\n",
    "            self.__tail = newNode\n",
    "            newNode.next = None\n",
    "        else:                            # altrimenti ...\n",
    "            self.__tail.next = newNode\n",
    "            self.__tail = newNode\n",
    "            newNode.next = None\n",
    "        \n",
    "    def insert_head(self, newNode):\n",
    "        if self.__head == None:          # se la lista è vuota ...\n",
    "            self.__head = newNode\n",
    "            self.__tail = newNode\n",
    "            newNode.next = None\n",
    "        else:                            # altrimenti ...\n",
    "            newNode.next = self.__head\n",
    "            self.__head = newNode\n",
    "        \n",
    "    def insert_position(self, insertPosition, newNode):\n",
    "        p = self.__head\n",
    "        i = 0\n",
    "        # Spostiamo il puntatore p nella posizione di inserimento\n",
    "        while p != None and i < insertPosition - 1: \n",
    "            p = p.next\n",
    "            i = i +1\n",
    "        newNode.next = p.next\n",
    "        p.next = newNode\n",
    "        \n",
    "    def delete(self, deletePosition):\n",
    "        p = self.__head\n",
    "        if p != None:\n",
    "            if deletePosition == 0:\n",
    "                self.__head = p.next\n",
    "                p.next = None\n",
    "            else:        \n",
    "                i = 0\n",
    "                # Spostiamo il puntatore sul nodo immediatamente precedente \n",
    "                # a quello che vogliamo rimuovere\n",
    "                while p.next != None and i < (deletePosition - 1):\n",
    "                    p = p.next\n",
    "                    i += 1\n",
    "                q = p.next\n",
    "                p.next = q.next\n",
    "                q.next = None\n",
    "        else:\n",
    "            print('Lista vuota')\n",
    "            \n",
    "    def clear_list(self):\n",
    "        self.__head = None\n",
    "        self.__tail = None\n",
    "               \n",
    "    @property\n",
    "    def head(self):\n",
    "        return self.__head\n"
   ]
  },
  {
   "cell_type": "markdown",
   "metadata": {},
   "source": [
    "### Attraversamento e Stampa di una Lista"
   ]
  },
  {
   "cell_type": "code",
   "execution_count": null,
   "metadata": {},
   "outputs": [],
   "source": [
    "def stampa_lista(node):\n",
    "    p = node\n",
    "    while p != None:\n",
    "        data = p.data\n",
    "        print(data, '->', end = ' ')\n",
    "        p = p.next\n",
    "    print('Fine Lista')"
   ]
  },
  {
   "cell_type": "markdown",
   "metadata": {},
   "source": [
    "### Definizione oggetto linkedlist come istanza della Classe SinglyLinkedList"
   ]
  },
  {
   "cell_type": "code",
   "execution_count": null,
   "metadata": {},
   "outputs": [],
   "source": [
    "linkedlist = SinglyLinkedList()"
   ]
  },
  {
   "cell_type": "markdown",
   "metadata": {},
   "source": [
    "## Operazioni per la lista semplice"
   ]
  },
  {
   "cell_type": "markdown",
   "metadata": {},
   "source": [
    "### Inserimento in coda (append) di vari nodi"
   ]
  },
  {
   "cell_type": "code",
   "execution_count": null,
   "metadata": {},
   "outputs": [],
   "source": [
    "# inserimento in coda (append) di un nodo relativo al dato 'A'\n",
    "linkedlist.append(Node('A', None))\n"
   ]
  },
  {
   "cell_type": "code",
   "execution_count": null,
   "metadata": {},
   "outputs": [],
   "source": [
    "stampa_lista(linkedlist.head)"
   ]
  },
  {
   "cell_type": "code",
   "execution_count": null,
   "metadata": {},
   "outputs": [],
   "source": [
    "# altri inserimenti in coda (append) di nodi relativi ai dati 'B', 'C' e 'D'\n",
    "linkedlist.append(Node('B', None))\n",
    "linkedlist.append(Node('C', None))\n",
    "linkedlist.append(Node('D', None))"
   ]
  },
  {
   "cell_type": "code",
   "execution_count": null,
   "metadata": {},
   "outputs": [],
   "source": [
    "stampa_lista(linkedlist.head)"
   ]
  },
  {
   "cell_type": "code",
   "execution_count": null,
   "metadata": {},
   "outputs": [],
   "source": [
    "# inseriamo in coda un altro elemento ('E')\n",
    "linkedlist.append(Node('E', None))"
   ]
  },
  {
   "cell_type": "code",
   "execution_count": null,
   "metadata": {},
   "outputs": [],
   "source": [
    "stampa_lista(linkedlist.head)"
   ]
  },
  {
   "cell_type": "code",
   "execution_count": null,
   "metadata": {},
   "outputs": [],
   "source": [
    "# azzeriamo la lista linkedlist\n",
    "linkedlist.clear_list()"
   ]
  },
  {
   "cell_type": "code",
   "execution_count": null,
   "metadata": {},
   "outputs": [],
   "source": [
    "stampa_lista(linkedlist.head)"
   ]
  },
  {
   "cell_type": "code",
   "execution_count": null,
   "metadata": {},
   "outputs": [],
   "source": [
    "# append di un nuovo nodo ('E')\n",
    "linkedlist.append(Node('E', None))"
   ]
  },
  {
   "cell_type": "code",
   "execution_count": null,
   "metadata": {},
   "outputs": [],
   "source": [
    "stampa_lista(linkedlist.head)"
   ]
  },
  {
   "cell_type": "markdown",
   "metadata": {},
   "source": [
    "### Inserimento di un nuovo nodo in posizione i-esima"
   ]
  },
  {
   "cell_type": "code",
   "execution_count": null,
   "metadata": {},
   "outputs": [],
   "source": [
    "# azzeriamo la lista linkedlist\n",
    "linkedlist.clear_list()"
   ]
  },
  {
   "cell_type": "code",
   "execution_count": null,
   "metadata": {},
   "outputs": [],
   "source": [
    "stampa_lista(linkedlist.head)"
   ]
  },
  {
   "cell_type": "code",
   "execution_count": null,
   "metadata": {},
   "outputs": [],
   "source": [
    "# popoliamo la lista linkedlist con vari nodi \n",
    "linkedlist.append(Node('A', None))\n",
    "linkedlist.append(Node('B', None))\n",
    "linkedlist.append(Node('C', None))\n",
    "linkedlist.append(Node('D', None))"
   ]
  },
  {
   "cell_type": "code",
   "execution_count": null,
   "metadata": {},
   "outputs": [],
   "source": [
    "stampa_lista(linkedlist.head)"
   ]
  },
  {
   "cell_type": "code",
   "execution_count": null,
   "metadata": {},
   "outputs": [],
   "source": [
    "# inseriamo l'elemento 'E' in terza posizione (i = 2)\n",
    "i = 2\n",
    "linkedlist.insert_position(i, Node('E', None))"
   ]
  },
  {
   "cell_type": "code",
   "execution_count": null,
   "metadata": {},
   "outputs": [],
   "source": [
    "stampa_lista(linkedlist.head)"
   ]
  },
  {
   "cell_type": "markdown",
   "metadata": {},
   "source": [
    "### Inserimento di  nuovi nodi in testa alla lista"
   ]
  },
  {
   "cell_type": "code",
   "execution_count": null,
   "metadata": {},
   "outputs": [],
   "source": [
    "# azzeriamo la lista linkedlist\n",
    "linkedlist.clear_list()"
   ]
  },
  {
   "cell_type": "code",
   "execution_count": null,
   "metadata": {},
   "outputs": [],
   "source": [
    "stampa_lista(linkedlist.head)"
   ]
  },
  {
   "cell_type": "code",
   "execution_count": null,
   "metadata": {},
   "outputs": [],
   "source": [
    "# inserimento in testa di un nodo \n",
    "linkedlist.insert_head(Node('A', None))\n",
    "\n",
    "stampa_lista(linkedlist.head)"
   ]
  },
  {
   "cell_type": "code",
   "execution_count": null,
   "metadata": {},
   "outputs": [],
   "source": [
    "# inserimento in testa di un altro nodo \n",
    "linkedlist.insert_head(Node('B', None))\n",
    "\n",
    "stampa_lista(linkedlist.head)"
   ]
  },
  {
   "cell_type": "markdown",
   "metadata": {},
   "source": [
    "### Cancellazione del nodo in posizione i-esima  "
   ]
  },
  {
   "cell_type": "code",
   "execution_count": null,
   "metadata": {},
   "outputs": [],
   "source": [
    "# ripuliamo la lista linkedlist\n",
    "linkedlist.clear_list()"
   ]
  },
  {
   "cell_type": "code",
   "execution_count": null,
   "metadata": {},
   "outputs": [],
   "source": [
    "stampa_lista(linkedlist.head)"
   ]
  },
  {
   "cell_type": "code",
   "execution_count": null,
   "metadata": {},
   "outputs": [],
   "source": [
    "# popoliamo la lista linkedlist con vari nodi \n",
    "linkedlist.append(Node('A', None))\n",
    "linkedlist.append(Node('B', None))\n",
    "linkedlist.append(Node('C', None))\n",
    "linkedlist.append(Node('D', None))"
   ]
  },
  {
   "cell_type": "code",
   "execution_count": null,
   "metadata": {},
   "outputs": [],
   "source": [
    "stampa_lista(linkedlist.head)"
   ]
  },
  {
   "cell_type": "code",
   "execution_count": null,
   "metadata": {},
   "outputs": [],
   "source": [
    "i = 2\n",
    "linkedlist.delete(i)"
   ]
  },
  {
   "cell_type": "code",
   "execution_count": null,
   "metadata": {},
   "outputs": [],
   "source": [
    "stampa_lista(linkedlist.head)"
   ]
  },
  {
   "cell_type": "code",
   "execution_count": null,
   "metadata": {},
   "outputs": [],
   "source": [
    "i = 2\n",
    "linkedlist.delete(i)"
   ]
  },
  {
   "cell_type": "markdown",
   "metadata": {},
   "source": [
    "## Liste Doppiamente Concatenate"
   ]
  },
  {
   "cell_type": "markdown",
   "metadata": {},
   "source": [
    "### Definizione della classe Node"
   ]
  },
  {
   "cell_type": "code",
   "execution_count": null,
   "metadata": {},
   "outputs": [],
   "source": [
    "class Node:\n",
    "    data = ''\n",
    "    prev = None\n",
    "    next = None\n",
    "    \n",
    "    def __init__(self, data):\n",
    "        self.data = data"
   ]
  },
  {
   "cell_type": "markdown",
   "metadata": {},
   "source": [
    "### Definizione della classe per liste doppiamente concatenate "
   ]
  },
  {
   "cell_type": "code",
   "execution_count": null,
   "metadata": {},
   "outputs": [],
   "source": [
    "class DoublyLinkedList:\n",
    "#    __head = None\n",
    "#    __tail = None\n",
    "    \n",
    "    def __init__(self):\n",
    "        self.__head = None\n",
    "        self.__tail = None\n",
    "               \n",
    "    def append(self, newNode):\n",
    "        if self.__head == None:\n",
    "            self.__head = newNode\n",
    "            self.__tail = newNode\n",
    "        else:\n",
    "            self.__tail.next = newNode\n",
    "            newNode.prev = self.__tail\n",
    "            self.__tail = newNode\n",
    "        \n",
    "    def insert_position(self, insertPosition, newNode):\n",
    "        p = self.__head\n",
    "        i = 0\n",
    "        # Spostiamo il puntatore p nella posizione di inserimento\n",
    "        while(p != None and (i < insertPosition - 1)):\n",
    "            p = p.next\n",
    "            i += 1\n",
    "        newNode.next = p.next\n",
    "        p.next = newNode\n",
    "        newNode.prev = p\n",
    "        newNode.next.prev = newNode\n",
    "        \n",
    "    def delete(self, deletePosition):\n",
    "        p = self.__head\n",
    "        if p != None:\n",
    "            if deletePosition == 0:\n",
    "                self.__head = p.next\n",
    "                p.next.prev = None\n",
    "                p.next = None\n",
    "                p.prev = None\n",
    "            else: \n",
    "                i = 0\n",
    "                # Spostiamo il puntatore sul nodo immediatamente precedente \n",
    "                # a quello che vogliamo rimuovere\n",
    "                while(p != None and (i < deletePosition - 1)):\n",
    "                    p = p.next\n",
    "                    i += 1\n",
    "                q = p.next\n",
    "                p.next = q.next\n",
    "                q.next.prev = p\n",
    "                q.next = None\n",
    "                q.prev = None\n",
    "        else:\n",
    "            print('Lista vuota')\n",
    "        \n",
    "    def clear_list(self):\n",
    "        self.__head = None\n",
    "        self.__tail = None\n",
    "        \n",
    "    @property\n",
    "    def head(self):\n",
    "        return self.__head\n",
    "        \n",
    "        "
   ]
  },
  {
   "cell_type": "markdown",
   "metadata": {},
   "source": [
    "### Attraversamento e Stampa (nei due versi) di una Lista Doppia"
   ]
  },
  {
   "cell_type": "code",
   "execution_count": null,
   "metadata": {},
   "outputs": [],
   "source": [
    "def stampa_lista_doppia(node):\n",
    "    p = node\n",
    "    fine = None\n",
    "    while (p != None):\n",
    "        data = p.data\n",
    "        print(data, '->', end = ' ')\n",
    "        fine = p\n",
    "        p = p.next\n",
    "    print('Fine Lista')\n",
    "    \n",
    "    p = fine\n",
    "    while (p != None):\n",
    "        data = p.data\n",
    "        print(data, '->', end = ' ')\n",
    "        p = p.prev\n",
    "    print('Inizio Lista')"
   ]
  },
  {
   "cell_type": "markdown",
   "metadata": {},
   "source": [
    "### Creazione oggetto linkedlist come istanza della Classe LinkedList\n"
   ]
  },
  {
   "cell_type": "code",
   "execution_count": null,
   "metadata": {},
   "outputs": [],
   "source": [
    "linkedlist = DoublyLinkedList()"
   ]
  },
  {
   "cell_type": "code",
   "execution_count": null,
   "metadata": {},
   "outputs": [],
   "source": [
    "stampa_lista_doppia(linkedlist.head)"
   ]
  },
  {
   "cell_type": "markdown",
   "metadata": {},
   "source": [
    "## Operazioni per la lista doppia"
   ]
  },
  {
   "cell_type": "markdown",
   "metadata": {},
   "source": [
    "### Inserimento in coda (append) di nodi creati"
   ]
  },
  {
   "cell_type": "code",
   "execution_count": null,
   "metadata": {},
   "outputs": [],
   "source": [
    "# popoliamo la lista linkedlist \n",
    "linkedlist.append(Node('A'))"
   ]
  },
  {
   "cell_type": "code",
   "execution_count": null,
   "metadata": {},
   "outputs": [],
   "source": [
    "stampa_lista_doppia(linkedlist.head)"
   ]
  },
  {
   "cell_type": "code",
   "execution_count": null,
   "metadata": {},
   "outputs": [],
   "source": [
    "linkedlist.append(Node('B'))\n",
    "linkedlist.append(Node('C'))\n",
    "linkedlist.append(Node('D'))"
   ]
  },
  {
   "cell_type": "code",
   "execution_count": null,
   "metadata": {},
   "outputs": [],
   "source": [
    "stampa_lista_doppia(linkedlist.head)"
   ]
  },
  {
   "cell_type": "code",
   "execution_count": null,
   "metadata": {},
   "outputs": [],
   "source": [
    "linkedlist.append(Node('E'))"
   ]
  },
  {
   "cell_type": "code",
   "execution_count": null,
   "metadata": {},
   "outputs": [],
   "source": [
    "stampa_lista_doppia(linkedlist.head)"
   ]
  },
  {
   "cell_type": "markdown",
   "metadata": {},
   "source": [
    "### Inserimento di un nuovo nodo in posizione i-esima"
   ]
  },
  {
   "cell_type": "code",
   "execution_count": null,
   "metadata": {},
   "outputs": [],
   "source": [
    "# azzeriamo la lista linkedlist\n",
    "linkedlist.clear_list()"
   ]
  },
  {
   "cell_type": "code",
   "execution_count": null,
   "metadata": {},
   "outputs": [],
   "source": [
    "stampa_lista_doppia(linkedlist.head)"
   ]
  },
  {
   "cell_type": "code",
   "execution_count": null,
   "metadata": {},
   "outputs": [],
   "source": [
    "# popoliamo la lista linkedlist\n",
    "linkedlist.append(Node('A'))\n",
    "linkedlist.append(Node('B'))\n",
    "linkedlist.append(Node('C'))\n",
    "linkedlist.append(Node('D'))"
   ]
  },
  {
   "cell_type": "code",
   "execution_count": null,
   "metadata": {},
   "outputs": [],
   "source": [
    "stampa_lista_doppia(linkedlist.head)"
   ]
  },
  {
   "cell_type": "code",
   "execution_count": null,
   "metadata": {},
   "outputs": [],
   "source": [
    "linkedlist.insert_position(2, Node('E'))"
   ]
  },
  {
   "cell_type": "code",
   "execution_count": null,
   "metadata": {},
   "outputs": [],
   "source": [
    "stampa_lista_doppia(linkedlist.head)"
   ]
  },
  {
   "cell_type": "markdown",
   "metadata": {},
   "source": [
    "### Cancellazione di un elemento in posizione i-esima"
   ]
  },
  {
   "cell_type": "code",
   "execution_count": null,
   "metadata": {},
   "outputs": [],
   "source": [
    "# azzeriamo la lista linkedlist\n",
    "linkedlist.clear_list()"
   ]
  },
  {
   "cell_type": "code",
   "execution_count": null,
   "metadata": {},
   "outputs": [],
   "source": [
    "stampa_lista_doppia(linkedlist.head)"
   ]
  },
  {
   "cell_type": "code",
   "execution_count": null,
   "metadata": {},
   "outputs": [],
   "source": [
    "# popoliamo la lista linkedlist\n",
    "linkedlist.append(Node('A'))\n",
    "linkedlist.append(Node('B'))\n",
    "linkedlist.append(Node('C'))\n",
    "linkedlist.append(Node('D'))\n",
    "stampa_lista_doppia(linkedlist.head)"
   ]
  },
  {
   "cell_type": "code",
   "execution_count": null,
   "metadata": {},
   "outputs": [],
   "source": [
    "i = 2\n",
    "linkedlist.delete(i)"
   ]
  },
  {
   "cell_type": "code",
   "execution_count": null,
   "metadata": {},
   "outputs": [],
   "source": [
    "stampa_lista_doppia(linkedlist.head)"
   ]
  },
  {
   "cell_type": "code",
   "execution_count": null,
   "metadata": {},
   "outputs": [],
   "source": [
    "i = 2\n",
    "linkedlist.delete(i)"
   ]
  },
  {
   "cell_type": "code",
   "execution_count": null,
   "metadata": {},
   "outputs": [],
   "source": []
  }
 ],
 "metadata": {
  "kernelspec": {
   "display_name": "Python 3 (ipykernel)",
   "language": "python",
   "name": "python3"
  },
  "language_info": {
   "codemirror_mode": {
    "name": "ipython",
    "version": 3
   },
   "file_extension": ".py",
   "mimetype": "text/x-python",
   "name": "python",
   "nbconvert_exporter": "python",
   "pygments_lexer": "ipython3",
   "version": "3.7.7"
  }
 },
 "nbformat": 4,
 "nbformat_minor": 2
}
