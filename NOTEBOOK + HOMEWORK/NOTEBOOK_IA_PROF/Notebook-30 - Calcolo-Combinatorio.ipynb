{
 "cells": [
  {
   "cell_type": "markdown",
   "metadata": {},
   "source": [
    "## Permutazioni (versione per le liste)"
   ]
  },
  {
   "cell_type": "code",
   "execution_count": null,
   "metadata": {},
   "outputs": [],
   "source": [
    "# Genera una lista di liste\n",
    "\n",
    "def permutazioni(oggetti, corrente, lista):\n",
    "    n = len(oggetti)\n",
    "    if n == 0:\n",
    "        lista.append(corrente)   \n",
    "    else:\n",
    "        for i in range(n):\n",
    "            oggetti_new = oggetti[:i] + oggetti[i+1:]\n",
    "            corrente_new = corrente + list(oggetti[i])\n",
    "            permutazioni(oggetti_new, corrente_new, lista)         "
   ]
  },
  {
   "cell_type": "code",
   "execution_count": null,
   "metadata": {},
   "outputs": [],
   "source": [
    "lista = []\n",
    "oggetti = ['A', 'B', 'C', 'D']\n",
    "#oggetti = 'ABCD'\n",
    "corrente = []\n",
    "permutazioni(oggetti, corrente, lista)"
   ]
  },
  {
   "cell_type": "code",
   "execution_count": null,
   "metadata": {},
   "outputs": [],
   "source": [
    "lista"
   ]
  },
  {
   "cell_type": "code",
   "execution_count": null,
   "metadata": {},
   "outputs": [],
   "source": [
    "len(lista)"
   ]
  },
  {
   "cell_type": "markdown",
   "metadata": {},
   "source": [
    "## Permutazioni (versione per le stringhe)"
   ]
  },
  {
   "cell_type": "code",
   "execution_count": null,
   "metadata": {},
   "outputs": [],
   "source": [
    "# Genera una lista di stringhe\n",
    "\n",
    "def permutazioni_str(oggetti, corrente, lista):\n",
    "    n = len(oggetti)\n",
    "    if n == 0:\n",
    "        lista.append(corrente)   \n",
    "    else:\n",
    "        for i in range(n):\n",
    "            oggetti_new = oggetti[:i] + oggetti[i+1:]\n",
    "            corrente_new = corrente + oggetti[i]\n",
    "            permutazioni_str(oggetti_new, corrente_new, lista)       "
   ]
  },
  {
   "cell_type": "code",
   "execution_count": null,
   "metadata": {},
   "outputs": [],
   "source": [
    "lista = []\n",
    "#oggetti = ['A', 'B', 'C', 'D']\n",
    "oggetti = 'ABCD'\n",
    "corrente = ''"
   ]
  },
  {
   "cell_type": "code",
   "execution_count": null,
   "metadata": {},
   "outputs": [],
   "source": [
    "permutazioni_str(oggetti, corrente, lista)"
   ]
  },
  {
   "cell_type": "code",
   "execution_count": null,
   "metadata": {},
   "outputs": [],
   "source": [
    "lista"
   ]
  },
  {
   "cell_type": "code",
   "execution_count": null,
   "metadata": {},
   "outputs": [],
   "source": [
    "len(lista)"
   ]
  },
  {
   "cell_type": "markdown",
   "metadata": {},
   "source": [
    "## Combinazioni di classe k di n oggetti (versione per liste)"
   ]
  },
  {
   "cell_type": "code",
   "execution_count": null,
   "metadata": {},
   "outputs": [],
   "source": [
    "def combinazioni(oggetti, lista, corrente, k ):\n",
    "    \n",
    "    for i in range(len(oggetti)):\n",
    "        corrente_new = corrente + list(oggetti[i])\n",
    "        if k==1:\n",
    "            lista.append(corrente_new)\n",
    "        else:\n",
    "            combinazioni(oggetti[i+1:], lista, corrente_new, k-1)\n",
    "            "
   ]
  },
  {
   "cell_type": "code",
   "execution_count": null,
   "metadata": {},
   "outputs": [],
   "source": [
    "oggetti = ['A', 'B', 'C', 'D', 'E']\n",
    "#oggetti = 'ABCDE'\n",
    "lista = []\n",
    "corrente = []\n",
    "k = 3"
   ]
  },
  {
   "cell_type": "code",
   "execution_count": null,
   "metadata": {},
   "outputs": [],
   "source": [
    "combinazioni(oggetti, lista, corrente, k )"
   ]
  },
  {
   "cell_type": "code",
   "execution_count": null,
   "metadata": {},
   "outputs": [],
   "source": [
    "lista"
   ]
  },
  {
   "cell_type": "code",
   "execution_count": null,
   "metadata": {},
   "outputs": [],
   "source": [
    "len(lista)"
   ]
  },
  {
   "cell_type": "markdown",
   "metadata": {},
   "source": [
    "## Combinazioni di classe k di n oggetti (versione per stringhe)"
   ]
  },
  {
   "cell_type": "code",
   "execution_count": null,
   "metadata": {},
   "outputs": [],
   "source": [
    "def combinazioni(oggetti, lista, corrente, k ):\n",
    "        \n",
    "    for i in range(len(oggetti)):\n",
    "        corrente_new = corrente + oggetti[i]\n",
    "        if k==1:\n",
    "            lista.append(corrente_new)\n",
    "        else:\n",
    "            combinazioni(oggetti[i+1:], lista, corrente_new, k-1)"
   ]
  },
  {
   "cell_type": "code",
   "execution_count": null,
   "metadata": {},
   "outputs": [],
   "source": [
    "#oggetti = ['A', 'B', 'C', 'D', 'E']\n",
    "oggetti = 'ABCDE'\n",
    "lista = []\n",
    "corrente = ''\n",
    "k = 3"
   ]
  },
  {
   "cell_type": "code",
   "execution_count": null,
   "metadata": {},
   "outputs": [],
   "source": [
    "combinazioni(oggetti, lista, corrente, k )"
   ]
  },
  {
   "cell_type": "code",
   "execution_count": null,
   "metadata": {},
   "outputs": [],
   "source": [
    "lista"
   ]
  },
  {
   "cell_type": "code",
   "execution_count": null,
   "metadata": {},
   "outputs": [],
   "source": [
    "len(lista)"
   ]
  },
  {
   "cell_type": "markdown",
   "metadata": {},
   "source": [
    "## Disposizioni con ripetizione di classe k di n oggetti (versione per le liste)"
   ]
  },
  {
   "cell_type": "code",
   "execution_count": null,
   "metadata": {},
   "outputs": [],
   "source": [
    "def disposizioni_rip(oggetti, lista, corrente, n, k):\n",
    "    \n",
    "    for i in range(0, n):\n",
    "        corrente_new = corrente + list(oggetti[i])\n",
    "        if (k==1):\n",
    "            lista.append(corrente_new)\n",
    "        else:\n",
    "            disposizioni_rip(oggetti, lista, corrente_new, n, k-1)"
   ]
  },
  {
   "cell_type": "code",
   "execution_count": null,
   "metadata": {},
   "outputs": [],
   "source": [
    "oggetti = ['A', 'B', 'C', 'D']\n",
    "n = len(oggetti)\n",
    "k = 3\n",
    "lista = []\n",
    "corrente = []"
   ]
  },
  {
   "cell_type": "code",
   "execution_count": null,
   "metadata": {},
   "outputs": [],
   "source": [
    "disposizioni_rip(oggetti, lista, corrente, n, k)"
   ]
  },
  {
   "cell_type": "code",
   "execution_count": null,
   "metadata": {},
   "outputs": [],
   "source": [
    "lista"
   ]
  },
  {
   "cell_type": "code",
   "execution_count": null,
   "metadata": {},
   "outputs": [],
   "source": [
    "len(lista)"
   ]
  },
  {
   "cell_type": "markdown",
   "metadata": {},
   "source": [
    "## Disposizioni con ripetizione di classe k di n oggetti (versione per le stringhe)"
   ]
  },
  {
   "cell_type": "code",
   "execution_count": null,
   "metadata": {},
   "outputs": [],
   "source": [
    "def disposizioni_rip(oggetti, lista, corrente, n, k):\n",
    "    \n",
    "    for i in range(0, n):\n",
    "        corrente_new = corrente + oggetti[i]\n",
    "        if (k==1):\n",
    "            lista.append(corrente_new)\n",
    "        else:\n",
    "            disposizioni_rip(oggetti, lista, corrente_new, n, k-1)\n",
    "            "
   ]
  },
  {
   "cell_type": "code",
   "execution_count": null,
   "metadata": {},
   "outputs": [],
   "source": [
    "#oggetti = ['A', 'B', 'C']\n",
    "oggetti = 'ABC'\n",
    "n = len(oggetti)\n",
    "k = 3\n",
    "lista = []\n",
    "corrente = ''"
   ]
  },
  {
   "cell_type": "code",
   "execution_count": null,
   "metadata": {},
   "outputs": [],
   "source": [
    "disposizioni_rip(oggetti, lista, corrente, n, k)"
   ]
  },
  {
   "cell_type": "code",
   "execution_count": null,
   "metadata": {},
   "outputs": [],
   "source": [
    "lista"
   ]
  },
  {
   "cell_type": "code",
   "execution_count": null,
   "metadata": {},
   "outputs": [],
   "source": []
  },
  {
   "cell_type": "markdown",
   "metadata": {},
   "source": [
    "# Altra versione per Combinazioni e Disposizioni"
   ]
  },
  {
   "cell_type": "markdown",
   "metadata": {},
   "source": [
    "\n",
    "## Combinazioni di classe k di n oggetti (versione per liste)\n"
   ]
  },
  {
   "cell_type": "code",
   "execution_count": null,
   "metadata": {},
   "outputs": [],
   "source": [
    "def combinazioni_liste(oggetti, k):\n",
    "    \n",
    "    if k == 0:\n",
    "        return [[]]\n",
    "    lista = list()\n",
    "    for i in range(len(oggetti)):\n",
    "        corrente = list(oggetti[i])\n",
    "        for comb in combinazioni_liste(oggetti[i+1:], k-1):\n",
    "            corrente_new = corrente + comb\n",
    "            lista.append(corrente_new)\n",
    "    return(lista)\n"
   ]
  },
  {
   "cell_type": "code",
   "execution_count": null,
   "metadata": {},
   "outputs": [],
   "source": [
    "oggetti = ['A', 'B', 'C']\n",
    "#oggetti = 'ABC'\n",
    "k = 2"
   ]
  },
  {
   "cell_type": "code",
   "execution_count": null,
   "metadata": {},
   "outputs": [],
   "source": [
    "c = combinazioni_liste(oggetti, k)\n",
    "c"
   ]
  },
  {
   "cell_type": "markdown",
   "metadata": {},
   "source": [
    "## Combinazioni di classe k di n oggetti (versione per stringhe)\n"
   ]
  },
  {
   "cell_type": "code",
   "execution_count": null,
   "metadata": {},
   "outputs": [],
   "source": [
    "def combinazioni_str(oggetti, k):\n",
    "    \n",
    "    if k == 0:\n",
    "        return ['']\n",
    "    lista = list()\n",
    "    for i in range(0, len(oggetti)):\n",
    "        corrente = oggetti[i]\n",
    "        for comb in combinazioni_str(oggetti[i+1:], k-1):\n",
    "            corrente_new = corrente + comb\n",
    "            lista.append(corrente_new)\n",
    "    return(lista)\n"
   ]
  },
  {
   "cell_type": "code",
   "execution_count": null,
   "metadata": {},
   "outputs": [],
   "source": [
    "#oggetti = ['A', 'B', 'C', 'D', 'E']\n",
    "oggetti = 'ABCDE'\n",
    "k = 3"
   ]
  },
  {
   "cell_type": "code",
   "execution_count": null,
   "metadata": {},
   "outputs": [],
   "source": [
    "c = combinazioni_str(oggetti, k)\n",
    "c"
   ]
  },
  {
   "cell_type": "code",
   "execution_count": null,
   "metadata": {},
   "outputs": [],
   "source": []
  },
  {
   "cell_type": "markdown",
   "metadata": {},
   "source": [
    "## Disposizioni con ripetizione di classe k di n oggetti (versione per le stringhe)"
   ]
  },
  {
   "cell_type": "code",
   "execution_count": null,
   "metadata": {},
   "outputs": [],
   "source": [
    "def disposizioni_pr(oggetti, k):\n",
    "    if k == 0:\n",
    "        return ['']\n",
    "    lista = list()\n",
    "    for i in range(0, len(oggetti)):\n",
    "        corrente = oggetti[i]\n",
    "        for disp in disposizioni_pr(oggetti, k-1):\n",
    "            corrente_new = corrente + disp\n",
    "            lista.append(corrente_new)\n",
    "    return(lista)"
   ]
  },
  {
   "cell_type": "code",
   "execution_count": null,
   "metadata": {},
   "outputs": [],
   "source": [
    "#oggetti = ['A', 'B', 'C']\n",
    "oggetti = 'ABCD'\n",
    "k = 2"
   ]
  },
  {
   "cell_type": "code",
   "execution_count": null,
   "metadata": {},
   "outputs": [],
   "source": [
    "d = disposizioni_pr(oggetti, k)\n",
    "d"
   ]
  },
  {
   "cell_type": "code",
   "execution_count": null,
   "metadata": {},
   "outputs": [],
   "source": [
    "len(d)"
   ]
  },
  {
   "cell_type": "code",
   "execution_count": null,
   "metadata": {},
   "outputs": [],
   "source": []
  }
 ],
 "metadata": {
  "colab": {
   "name": "SimulatedAnnealing.ipynb",
   "provenance": []
  },
  "kernelspec": {
   "display_name": "Python 3 (ipykernel)",
   "language": "python",
   "name": "python3"
  },
  "language_info": {
   "codemirror_mode": {
    "name": "ipython",
    "version": 3
   },
   "file_extension": ".py",
   "mimetype": "text/x-python",
   "name": "python",
   "nbconvert_exporter": "python",
   "pygments_lexer": "ipython3",
   "version": "3.7.7"
  }
 },
 "nbformat": 4,
 "nbformat_minor": 1
}
