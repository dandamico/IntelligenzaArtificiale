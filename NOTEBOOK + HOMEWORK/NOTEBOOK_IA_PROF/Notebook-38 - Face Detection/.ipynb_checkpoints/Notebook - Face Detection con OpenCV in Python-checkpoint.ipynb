{
 "cells": [
  {
   "cell_type": "markdown",
   "metadata": {},
   "source": [
    "## Import"
   ]
  },
  {
   "cell_type": "code",
   "execution_count": 1,
   "metadata": {},
   "outputs": [],
   "source": [
    "import cv2\n",
    "import matplotlib.pyplot as plt\n",
    "%matplotlib inline"
   ]
  },
  {
   "cell_type": "code",
   "execution_count": 6,
   "metadata": {},
   "outputs": [
    {
     "data": {
      "text/plain": [
       "<module 'cv2' from '/anaconda3/envs/tf/lib/python3.7/site-packages/cv2.cpython-37m-darwin.so'>"
      ]
     },
     "execution_count": 6,
     "metadata": {},
     "output_type": "execute_result"
    }
   ],
   "source": [
    "cv2"
   ]
  },
  {
   "cell_type": "code",
   "execution_count": null,
   "metadata": {},
   "outputs": [],
   "source": [
    "image1 = cv2.imread(r\"image1.jpg\", 0)  \n",
    "image2 = cv2.imread(r\"image2.jpg\", 0)  "
   ]
  },
  {
   "cell_type": "code",
   "execution_count": null,
   "metadata": {},
   "outputs": [],
   "source": [
    "plt.imshow(image1, cmap =\"gray\");"
   ]
  },
  {
   "cell_type": "markdown",
   "metadata": {},
   "source": [
    "## Detecting Whole Faces"
   ]
  },
  {
   "cell_type": "code",
   "execution_count": null,
   "metadata": {},
   "outputs": [],
   "source": [
    "face_detector = cv2.CascadeClassifier('haarcascade_frontalface_default.xml')"
   ]
  },
  {
   "cell_type": "code",
   "execution_count": null,
   "metadata": {},
   "outputs": [],
   "source": [
    "type(face_detector)"
   ]
  },
  {
   "cell_type": "code",
   "execution_count": null,
   "metadata": {},
   "outputs": [],
   "source": [
    "def detect_face (image):\n",
    "    \n",
    "    face_image = image.copy()\n",
    "    \n",
    "    face_rectangle = face_detector.detectMultiScale(face_image)\n",
    "    \n",
    "    for (x,y,width,height) in face_rectangle:\n",
    "        cv2.rectangle(face_image, (x,y), (x + width, y+height), (255,255,255), 8)\n",
    "                      \n",
    "    return face_image"
   ]
  },
  {
   "cell_type": "code",
   "execution_count": null,
   "metadata": {},
   "outputs": [],
   "source": [
    "x = detect_face(image2)"
   ]
  },
  {
   "cell_type": "code",
   "execution_count": null,
   "metadata": {},
   "outputs": [],
   "source": [
    "detection_result = detect_face(image1)\n"
   ]
  },
  {
   "cell_type": "code",
   "execution_count": null,
   "metadata": {},
   "outputs": [],
   "source": [
    "plt.imshow(detection_result, cmap = \"gray\");"
   ]
  },
  {
   "cell_type": "code",
   "execution_count": null,
   "metadata": {},
   "outputs": [],
   "source": [
    "detection_result = detect_face(image2)\n",
    "plt.imshow(detection_result, cmap = \"gray\");"
   ]
  },
  {
   "cell_type": "code",
   "execution_count": null,
   "metadata": {},
   "outputs": [],
   "source": [
    "face_detector = cv2.CascadeClassifier('haarcascade_frontalface_alt.xml')\n",
    "\n",
    "def detect_face (image):\n",
    "    \n",
    "    face_image = image.copy()\n",
    "    \n",
    "    face_rectangle = face_detector.detectMultiScale(face_image)\n",
    "    \n",
    "    for (x,y,width,height) in face_rectangle:\n",
    "        cv2.rectangle(face_image, (x,y), (x + width, y+height), (255,255,255), 8)\n",
    "                      \n",
    "    return face_image\n",
    "\n",
    "detection_result = detect_face(image2)\n",
    "plt.imshow(detection_result, cmap = \"gray\")\n"
   ]
  },
  {
   "cell_type": "code",
   "execution_count": null,
   "metadata": {},
   "outputs": [],
   "source": [
    "face_detector = cv2.CascadeClassifier('haarcascade_frontalface_alt_tree.xml')\n",
    "\n",
    "def detect_face (image):\n",
    "    \n",
    "    face_image = image.copy()\n",
    "    \n",
    "    face_rectangle = face_detector.detectMultiScale(face_image)\n",
    "    \n",
    "    for (x,y,width,height) in face_rectangle:\n",
    "        cv2.rectangle(face_image, (x,y), (x + width, y+height), (255,255,255), 8)\n",
    "                      \n",
    "    return face_image\n",
    "\n",
    "detection_result = detect_face(image2)\n",
    "plt.imshow(detection_result, cmap = \"gray\");\n"
   ]
  },
  {
   "cell_type": "markdown",
   "metadata": {},
   "source": [
    "## 5.4 Detecting Eyes"
   ]
  },
  {
   "cell_type": "code",
   "execution_count": null,
   "metadata": {},
   "outputs": [],
   "source": [
    "eye_detector = cv2.CascadeClassifier('haarcascade_eye.xml')"
   ]
  },
  {
   "cell_type": "code",
   "execution_count": null,
   "metadata": {},
   "outputs": [],
   "source": [
    "def detect_eye (image):\n",
    "    \n",
    "    face_image = image.copy()\n",
    "    \n",
    "    face_rectangle = eye_detector.detectMultiScale(face_image)\n",
    "    \n",
    "    for (x,y,width,height) in face_rectangle:\n",
    "        cv2.rectangle(face_image, (x,y), (x + width, y+height), (255,255,255), 8)\n",
    "                      \n",
    "    return face_image"
   ]
  },
  {
   "cell_type": "code",
   "execution_count": null,
   "metadata": {},
   "outputs": [],
   "source": [
    "detection_result = detect_eye(image1)"
   ]
  },
  {
   "cell_type": "code",
   "execution_count": null,
   "metadata": {},
   "outputs": [],
   "source": [
    "plt.imshow(detection_result, cmap = \"gray\");"
   ]
  },
  {
   "cell_type": "code",
   "execution_count": null,
   "metadata": {},
   "outputs": [],
   "source": [
    "detection_result = detect_eye(image2)\n",
    "plt.imshow(detection_result, cmap = \"gray\")"
   ]
  },
  {
   "cell_type": "code",
   "execution_count": null,
   "metadata": {},
   "outputs": [],
   "source": [
    "def detect_eye (image):\n",
    "    \n",
    "    face_image = image.copy()\n",
    "    \n",
    "    face_rectangle = eye_detector.detectMultiScale(face_image, scaleFactor = 1.2, minNeighbors =4)\n",
    "    \n",
    "    for (x,y,width,height) in face_rectangle:\n",
    "        cv2.rectangle(face_image, (x,y), (x + width, y+height), (255,255,255), 8)\n",
    "                      \n",
    "    return face_image"
   ]
  },
  {
   "cell_type": "code",
   "execution_count": null,
   "metadata": {},
   "outputs": [],
   "source": [
    "detection_result = detect_eye(image2)\n",
    "plt.imshow(detection_result, cmap = \"gray\")"
   ]
  },
  {
   "cell_type": "markdown",
   "metadata": {},
   "source": [
    "## 5.5 Detecting Smile"
   ]
  },
  {
   "cell_type": "code",
   "execution_count": null,
   "metadata": {},
   "outputs": [],
   "source": [
    "smile_detector = cv2.CascadeClassifier('haarcascade_smile.xml')"
   ]
  },
  {
   "cell_type": "code",
   "execution_count": null,
   "metadata": {},
   "outputs": [],
   "source": [
    "def detect_smile (image):\n",
    "    \n",
    "    face_image = image.copy()\n",
    "    \n",
    "    face_rectangle = smile_detector .detectMultiScale(face_image)\n",
    "    \n",
    "    for (x,y,width,height) in face_rectangle:\n",
    "        cv2.rectangle(face_image, (x,y), (x + width, y+height), (255,255,255), 8)\n",
    "                      \n",
    "    return face_image"
   ]
  },
  {
   "cell_type": "code",
   "execution_count": null,
   "metadata": {},
   "outputs": [],
   "source": [
    "detection_result = detect_smile(image1)\n",
    "plt.imshow(detection_result, cmap = \"gray\");"
   ]
  },
  {
   "cell_type": "code",
   "execution_count": null,
   "metadata": {},
   "outputs": [],
   "source": [
    "def detect_smile (image):\n",
    "    \n",
    "    face_image = image.copy()\n",
    "    \n",
    "    face_rectangle = smile_detector.detectMultiScale(face_image, scaleFactor = 2.0, minNeighbors =20)\n",
    "    \n",
    "    for (x,y,width,height) in face_rectangle:\n",
    "        cv2.rectangle(face_image, (x,y), (x + width, y+height), (255,255,255), 8)\n",
    "                      \n",
    "    return face_image"
   ]
  },
  {
   "cell_type": "code",
   "execution_count": null,
   "metadata": {},
   "outputs": [],
   "source": [
    "detection_result = detect_smile(image1)\n",
    "plt.imshow(detection_result, cmap = \"gray\")"
   ]
  },
  {
   "cell_type": "code",
   "execution_count": null,
   "metadata": {},
   "outputs": [],
   "source": [
    "detection_result = detect_smile(image2)\n",
    "plt.imshow(detection_result, cmap = \"gray\")"
   ]
  },
  {
   "cell_type": "markdown",
   "metadata": {},
   "source": [
    "## 5.6 Face Detection From Live Videos"
   ]
  },
  {
   "cell_type": "code",
   "execution_count": null,
   "metadata": {},
   "outputs": [],
   "source": [
    "face_detector = cv2.CascadeClassifier(cv2.data.haarcascades + 'haarcascade_frontalface_default.xml')\n",
    "\n",
    "def detect_face (image):\n",
    "    \n",
    "    face_image = image.copy()\n",
    "    \n",
    "    face_rectangle = face_detector.detectMultiScale(face_image)\n",
    "    \n",
    "    for (x,y,width,height) in face_rectangle:\n",
    "        cv2.rectangle(face_image, (x,y), (x + width, y+height), (255,255,255), 8)\n",
    "                      \n",
    "    return face_image"
   ]
  },
  {
   "cell_type": "code",
   "execution_count": null,
   "metadata": {},
   "outputs": [],
   "source": [
    "live_cam = cv2.VideoCapture(0)\n",
    "\n",
    "while True:\n",
    "    ret, current_frame = live_cam.read(0)\n",
    "    \n",
    "    current_frame = detect_face(current_frame)\n",
    "    \n",
    "    cv2.imshow(\"Face detected\", current_frame)\n",
    "    \n",
    "    key = cv2.waitKey(1)\n",
    "    \n",
    "    if key == 27:\n",
    "        break  \n",
    "        \n",
    "live_cam.release()\n",
    "cv2.destroyAllWindows()"
   ]
  },
  {
   "cell_type": "markdown",
   "metadata": {},
   "source": [
    "## Exercise 5.1\n",
    "\n",
    "\n",
    "**Question 1:**\n",
    "\n",
    "To decrease the number of detections, the value of minNeighbours attribute of openCV Cascade Classifiers should be:\n",
    "\n",
    "A. Increased\n",
    "\n",
    "B. Decreased\n",
    "\n",
    "C. Kept constant\n",
    "\n",
    "D. All of the Above\n",
    "\n",
    "**Answer: A**\n",
    "    \n",
    "\n",
    "**Question 2:**\n",
    "\n",
    "Which of the following is not a cascade classifier for face detection in Open CV\n",
    "\n",
    "A. haarcascade_frontalface_alt_tree.xml\n",
    "\n",
    "B. haarcascade_frontalface_alt.xml\n",
    "\n",
    "C. haarcascade_frontalface_default_tree.xml\n",
    " \n",
    "D. haarcascade_frontalface_default.xml\n",
    "\n",
    "**Answer: C**\n",
    "    \n",
    "    \n",
    "**Question 3:**\n",
    "\n",
    "To capture live video from camera, which of the following values should be passed as an argument to `cv2.VideoCapture()` method? \n",
    "\n",
    "A. 0\n",
    "\n",
    "B. 1\n",
    "\n",
    "C. 2\n",
    " \n",
    "D. 3\n",
    "\n",
    "**Answer: A**\n"
   ]
  },
  {
   "cell_type": "markdown",
   "metadata": {},
   "source": [
    "## Exercise 5.2\n",
    "\n",
    "Can you detect the smile from the image \"ajolie.jpg\" (located in the Datasets folder) which contains the face of the actress Angelina Jolie?"
   ]
  },
  {
   "cell_type": "markdown",
   "metadata": {},
   "source": [
    "**Solution:**"
   ]
  },
  {
   "cell_type": "code",
   "execution_count": null,
   "metadata": {},
   "outputs": [],
   "source": [
    "import cv2\n",
    "\n",
    "import matplotlib.pyplot as plt\n",
    "%matplotlib inline\n",
    "\n",
    "\n",
    "image1 = cv2.imread(r\"ajolie.jpg\", 0) \n",
    "\n",
    "\n",
    "smile_detector = cv2.CascadeClassifier('haarcascade_smile.xml')\n",
    "\n",
    "def detect_smile (image):\n",
    "    \n",
    "    face_image = image.copy()\n",
    "    \n",
    "    face_rectangle = smile_detector.detectMultiScale(face_image, scaleFactor = 2.5, minNeighbors =20)\n",
    "    \n",
    "    for (x,y,width,height) in face_rectangle:\n",
    "        cv2.rectangle(face_image, (x,y), (x + width, y+height), (255,255,255), 8)\n",
    "                      \n",
    "    return face_image\n",
    "\n",
    "detection_result = detect_smile(image1)\n",
    "plt.imshow(detection_result, cmap = \"gray\")"
   ]
  },
  {
   "cell_type": "code",
   "execution_count": null,
   "metadata": {},
   "outputs": [],
   "source": []
  },
  {
   "cell_type": "code",
   "execution_count": null,
   "metadata": {},
   "outputs": [],
   "source": []
  },
  {
   "cell_type": "markdown",
   "metadata": {},
   "source": [
    "## Prove"
   ]
  },
  {
   "cell_type": "code",
   "execution_count": null,
   "metadata": {},
   "outputs": [],
   "source": [
    "import cv2\n",
    "\n",
    "# Load the cascade\n",
    "face_cascade = cv2.CascadeClassifier('haarcascade_frontalface_default.xml')\n",
    "# Read the input image\n",
    "img = cv2.imread('image1.jpg')\n",
    "# Convert into grayscale\n",
    "gray = cv2.cvtColor(img, cv2.COLOR_BGR2GRAY)\n",
    "# Detect faces\n",
    "faces = face_cascade.detectMultiScale(gray, 1.1, 4)\n",
    "# Draw rectangle around the faces\n",
    "for (x, y, w, h) in faces: cv2.rectangle(img, (x, y), (x+w, y+h), (255, 0, 0), 2)\n",
    "# Display the output\n",
    "cv2.imshow('img', img)\n",
    "cv2.waitKey()"
   ]
  },
  {
   "cell_type": "code",
   "execution_count": null,
   "metadata": {},
   "outputs": [],
   "source": []
  },
  {
   "cell_type": "code",
   "execution_count": null,
   "metadata": {},
   "outputs": [],
   "source": []
  },
  {
   "cell_type": "code",
   "execution_count": null,
   "metadata": {},
   "outputs": [],
   "source": []
  },
  {
   "cell_type": "code",
   "execution_count": null,
   "metadata": {},
   "outputs": [],
   "source": [
    "\n",
    "face_cascade = cv2.CascadeClassifier(''/root/opencv/data/haarcascades/haarcascade_frontalface_default.xml'')\n",
    "eye_cascade = cv2.CascadeClassifier(''/root/opencv/data/haarcascades/haarcascade_eye.xml'')\n"
   ]
  }
 ],
 "metadata": {
  "kernelspec": {
   "display_name": "Python 3 (ipykernel)",
   "language": "python",
   "name": "python3"
  },
  "language_info": {
   "codemirror_mode": {
    "name": "ipython",
    "version": 3
   },
   "file_extension": ".py",
   "mimetype": "text/x-python",
   "name": "python",
   "nbconvert_exporter": "python",
   "pygments_lexer": "ipython3",
   "version": "3.7.7"
  }
 },
 "nbformat": 4,
 "nbformat_minor": 4
}
