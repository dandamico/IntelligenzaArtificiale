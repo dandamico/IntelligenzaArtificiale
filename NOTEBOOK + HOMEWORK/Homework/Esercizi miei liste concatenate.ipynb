{
 "cells": [
  {
   "cell_type": "code",
   "execution_count": 535,
   "metadata": {
    "collapsed": true
   },
   "outputs": [],
   "source": [
    "class Node:\n",
    "    data = ''\n",
    "    next = None\n",
    "\n",
    "    def __init__(self, data, next):\n",
    "        self.data = data\n",
    "        self.next = next"
   ]
  },
  {
   "cell_type": "code",
   "execution_count": 536,
   "outputs": [
    {
     "data": {
      "text/plain": "'A'"
     },
     "execution_count": 536,
     "metadata": {},
     "output_type": "execute_result"
    }
   ],
   "source": [
    "n = Node('A', None)\n",
    "n.data"
   ],
   "metadata": {
    "collapsed": false
   }
  },
  {
   "cell_type": "code",
   "execution_count": 537,
   "outputs": [],
   "source": [
    "class NodeForDl:\n",
    "    data = ''\n",
    "    prev = None\n",
    "    next = None\n",
    "\n",
    "    def __init__(self, data):\n",
    "        self.data = data"
   ],
   "metadata": {
    "collapsed": false
   }
  },
  {
   "cell_type": "markdown",
   "source": [
    "# LISTA CONCATENATA"
   ],
   "metadata": {
    "collapsed": false
   }
  },
  {
   "cell_type": "code",
   "execution_count": 538,
   "outputs": [],
   "source": [
    "class LinkeList:\n",
    "\n",
    "    def __init__(self):\n",
    "        self.__head = None\n",
    "        self.__tail = None\n",
    "\n",
    "    #APPENDI NODO ALLA LISTA\n",
    "    def append(self, newNode):\n",
    "        if self.__head == None: #se la lista è vuota\n",
    "            self.__head = newNode\n",
    "            self.__tail = newNode\n",
    "            newNode.next = None\n",
    "        else:       #altrimenti\n",
    "            self.__tail.next = newNode\n",
    "            self.__tail = newNode\n",
    "            newNode.next = None\n",
    "\n",
    "    #INSERISCI UN NODO IN TESTA\n",
    "    def insert_head(self, newNode):\n",
    "        if self.__head is None:\n",
    "            self.__head = newNode\n",
    "            self.__tail = newNode\n",
    "            newNode.next = None\n",
    "        else:\n",
    "            newNode.next = self.__head\n",
    "            self.__head = newNode\n",
    "\n",
    "    #INSERISCI NODO IN UNA POSIZIONE SCELTA\n",
    "    def insert_position(self, position, newNode):\n",
    "        p = self.__head\n",
    "        i = 0\n",
    "        while p != None and i < position-1:\n",
    "            p = p.next\n",
    "            i+=1\n",
    "        newNode.next = p.next\n",
    "        p.next = newNode\n",
    "\n",
    "    #ELIMINA UN NODO IN UNA POSIZIONE QUALUNQUE\n",
    "    def delete(self, position):\n",
    "        p = self.__head     #inizializzo p alla testa\n",
    "        if p is not None:   #se la lista non è vuota\n",
    "\n",
    "            #ALLORA\n",
    "            if position == 0:   #se voglio eliminare il nodo che è in testa\n",
    "                self.__head = p.next    #head ora sarà il successivo di p (che al momento era ancora il primo elemento)\n",
    "                p.next=None     #rimuovo riferimento tra il nodo cancellato e il suo next in quanto ora non esiste piu\n",
    "\n",
    "            else: #ALTRIMENTI\n",
    "                i = 0   #inizializzo indice i\n",
    "                while p.next != None and i < (position-1):  #finchè p ha un successivo (quindi finchè non arrivo alla coda) E\n",
    "                                                            # i < (posizione_nodo_da_rimuovere - 1)\n",
    "                    p = p.next                      #p = prossimo elemento\n",
    "                    i+=1                            #incremento i\n",
    "                p.next = p.next.next            # p+1 sarà il nodo da eliminare; quindi p.next diventa il successivo ancora di p.next\n",
    "                p.next.next = None              #rimuovo riferimento tra il nodo cancellato e il suo next in quanto ora non esiste piu\n",
    "\n",
    "    def delete_by_data2(self, dataDelete):\n",
    "        p = self.__head\n",
    "\n",
    "        if p is None: print('Lista Vuota')\n",
    "\n",
    "        elif p.data is dataDelete:\n",
    "            if p.next is None:\n",
    "                self.__head=None\n",
    "                self.__tail=None\n",
    "            else:\n",
    "                q = p.next\n",
    "                self.__head = q\n",
    "                p.next = None\n",
    "\n",
    "        else:\n",
    "            while p.next is not None and p.next.data is not dataDelete:\n",
    "                p = p.next\n",
    "\n",
    "            q = p.next\n",
    "\n",
    "            if q is self.__tail:\n",
    "                p.next=None\n",
    "                self.__tail = p\n",
    "            else:\n",
    "                p.next = q.next\n",
    "                q.next = None\n",
    "\n",
    "\n",
    "    #SVUOTA LA LISTA\n",
    "    def clear_list(self):\n",
    "        self.__head = None\n",
    "        self.__tail = None\n",
    "\n",
    "    @property\n",
    "    def head(self):\n",
    "        return self.__head\n",
    "\n",
    "    @property\n",
    "    def tail(self):\n",
    "        try:\n",
    "            return print(self.__tail.data)\n",
    "        except Exception:\n",
    "            return None\n",
    "\n",
    "    #STAMPA LA LISTA\n",
    "def stamp_list(node:Node):\n",
    "    p = node\n",
    "    while p != None:\n",
    "        data = p.data\n",
    "        print(data,'->', end=' ')\n",
    "        p = p.next\n",
    "    print('FINE LISTA')"
   ],
   "metadata": {
    "collapsed": false
   }
  },
  {
   "cell_type": "markdown",
   "source": [
    "# LISTA DOPPIAMENTE CONCATENATA"
   ],
   "metadata": {
    "collapsed": false
   }
  },
  {
   "cell_type": "code",
   "execution_count": 539,
   "outputs": [],
   "source": [
    "class DoublyLinkedList:\n",
    "    #    __head = None\n",
    "    #    __tail = None\n",
    "\n",
    "    def __init__(self):\n",
    "        self.__head = None\n",
    "        self.__tail = None\n",
    "\n",
    "    def append(self, newNode):\n",
    "        if self.__head == None:     #se lista vuota\n",
    "            self.__head = newNode   #newNode è la testa\n",
    "            self.__tail = newNode   #newNode è la coda\n",
    "        else:\n",
    "            self.__tail.next = newNode  #coda.next = newNode\n",
    "            newNode.prev = self.__tail  #newNode.prev = coda\n",
    "            self.__tail = newNode       #coda = newNode\n",
    "\n",
    "    def insert_position(self, insertPosition, newNode): #IPOTIZZIAMO CHE TRA A->B CI VOGLIO METTERE C COSI CHE DIVENTA A->C->B\n",
    "        p = self.__head\n",
    "        i = 0\n",
    "        # Spostiamo il puntatore p nella posizione di inserimento\n",
    "        while(p != None and (i < insertPosition - 1)):      #SCORRI FINO A CHE ARRIVI AD A\n",
    "            p = p.next\n",
    "            i += 1\n",
    "        newNode.next = p.next       #C.next = A.next INFATTI IL SUCC DI C SARÀ B CHE ERA SUCC DI A\n",
    "        p.next = newNode            #A.next = C INFATTI IL NUOVO SUCC DI A SARÀ C\n",
    "        newNode.prev = p            #c.prev = A INFATTI PRIMA DI C CI SARÀ A\n",
    "        newNode.next.prev = newNode #B.prev = C INFATTI IL PREC DEL SUCC DI C(B) SARÀ C\n",
    "\n",
    "    def delete(self, deletePosition):   #IPOTIZZIAMO CHE TRA A->B->C VOGLIO ELIMINARE B\n",
    "        p = self.__head\n",
    "        if p != None:\n",
    "            if deletePosition == 0:     #SE B SI TROVA IN TESTA (QUINDI D'ORA IN POI PER QUESTO IF DIREMO CHE ELIMIAMO A)\n",
    "                self.__head = p.next    #HEAD=SUCC DI A CIOÈ B (CHE DIVENTA NUOVA TESTA)\n",
    "                p.next.prev = None      #TAGLIAMO IL RIFERIMENTO B.prev=A\n",
    "                p.next = None           #TAGLIAMO IL RIFERIMENTO A.next = B\n",
    "                p.prev = None           #TAGLIAMO IL RIFERIMENTO A.prev=HEAD\n",
    "            else:   #DA QUI TORNIAMO A IPOTIZZARE ELIMINAZIONE DI B\n",
    "                i = 0\n",
    "                # Spostiamo il puntatore sul nodo immediatamente precedente\n",
    "                # a quello che vogliamo rimuovere\n",
    "                while(p != None and (i < deletePosition - 1)):\n",
    "                    p = p.next\n",
    "                    i += 1\n",
    "                q = p.next          # q = A.next ; q SAREBBE B\n",
    "                p.next = q.next     # A.next = B.next; QUESTO PERCHÈ IL SUCC DI B ORA SARÀ IL SUCC DI A\n",
    "                q.next.prev = p     # B.next.prev = A ; IL SUCC DI B (C) AVRÀ COME PREC A\n",
    "                q.next = None       #TAGLIAMO RIFERIMENTO B->C\n",
    "                q.prev = None       #TAGLIAMO RIFERIMENTO A->B\n",
    "        else:\n",
    "            print('Lista vuota')\n",
    "\n",
    "\n",
    "    #ESERCITAZIONE 2021/2022\n",
    "    def deleteForData(self, data_to_remove):\n",
    "        p = self.__head\n",
    "\n",
    "        if p is None:       #se lista vuota\n",
    "            return None\n",
    "\n",
    "        elif p.data == data_to_remove:    #se in testa\n",
    "            q = p.next\n",
    "            self.__head = q\n",
    "            p.next = None\n",
    "            #p.prev = None\n",
    "            q.prev = None\n",
    "\n",
    "        elif self.__tail.data == data_to_remove:  #se in coda\n",
    "            q = self.__tail.prev\n",
    "            self.__tail = q\n",
    "            q.next = None\n",
    "\n",
    "        else:\n",
    "            found = False\n",
    "\n",
    "            while p.next is not None and found is False:\n",
    "                q = p.next\n",
    "\n",
    "                if q.data == data_to_remove:\n",
    "                    p.next = q.next\n",
    "                    q.next.prev = p\n",
    "                    q.prev = None\n",
    "                    q.next = None\n",
    "                    found = True\n",
    "                else:\n",
    "                    p = p.next\n",
    "\n",
    "    def delete_by_data2(self, dataRemove):\n",
    "        p = self.__head\n",
    "        if p is None: print('Lista Vuota')\n",
    "\n",
    "        elif p.data is dataRemove:\n",
    "            if p.next is None:\n",
    "                self.__head = None\n",
    "                self.__tail = None\n",
    "            else:\n",
    "                q = p.next\n",
    "                self.__head = q\n",
    "                p.next = None\n",
    "                q.prev = None\n",
    "\n",
    "        elif self.__tail.data is dataRemove:\n",
    "            q = self.__tail.prev\n",
    "            self.__tail = q\n",
    "            q.next = None\n",
    "\n",
    "        else:\n",
    "            while p is not None and p.next.data is not dataRemove:\n",
    "                p=p.next\n",
    "            q=p.next\n",
    "            p.next = q.next\n",
    "            q.next.prev = p\n",
    "            q.next = None\n",
    "            q.prev = None\n",
    "\n",
    "    #ESERCIZIO MIO FARE APPEND\n",
    "    def appendMio(self, n):\n",
    "        if self.__head is None:\n",
    "            self.__head = n\n",
    "            self.__tail = n\n",
    "        else:\n",
    "            self.__tail.next = n\n",
    "            n.prev = self.__tail\n",
    "            self.__tail = n\n",
    "\n",
    "    #ESERCIZIO MIO PER FARE GET DEL PREV E NEXT DI UN ELEM DATO UN Data\n",
    "    def getPrevAndNextByData(self, dataFind):\n",
    "        p = self.__head\n",
    "        if p is None:\n",
    "            print('LISTA VUOTA')\n",
    "\n",
    "        elif p.data is dataFind:\n",
    "            print('PREV: None, sei in testa ')\n",
    "            if p.next is not None:\n",
    "                print('NEXT: ' + p.next.data)\n",
    "\n",
    "        elif self.__tail.data is dataFind:\n",
    "            print('PREV: ' + self.__tail.prev.data)\n",
    "            print('NEXT: None sei in coda')\n",
    "\n",
    "        else:\n",
    "            while p.next is not None:\n",
    "                if p.data is dataFind:\n",
    "                    print('PREV: ' + p.prev.data)\n",
    "                    print('NEXT: ' + p.next.data)\n",
    "                p = p.next\n",
    "\n",
    "\n",
    "    def clear_list(self):\n",
    "        self.__head = None\n",
    "        self.__tail = None\n",
    "\n",
    "    @property\n",
    "    def head(self):\n",
    "        return self.__head\n",
    "\n",
    "\n",
    "def stampa_lista_doppia(node):\n",
    "    p = node\n",
    "    fine = None\n",
    "    while (p != None):\n",
    "        data = p.data\n",
    "        print(data, '->', end = ' ')\n",
    "        fine = p\n",
    "        p = p.next\n",
    "    print('Fine Lista')\n",
    "\n",
    "    p = fine\n",
    "    while (p != None):\n",
    "        data = p.data\n",
    "        print(data, '->', end = ' ')\n",
    "        p = p.prev\n",
    "    print('Inizio Lista')"
   ],
   "metadata": {
    "collapsed": false
   }
  },
  {
   "cell_type": "code",
   "execution_count": 549,
   "outputs": [
    {
     "name": "stdout",
     "output_type": "stream",
     "text": [
      "A -> B -> C -> D -> E -> Fine Lista\n",
      "E -> D -> C -> B -> A -> Inizio Lista\n"
     ]
    }
   ],
   "source": [
    "n = NodeForDl('A')\n",
    "n2 = NodeForDl('B')\n",
    "n3 = NodeForDl('C')\n",
    "n4 = NodeForDl('D')\n",
    "n5 = NodeForDl('E')\n",
    "\n",
    "dl = DoublyLinkedList()\n",
    "dl.append(n)\n",
    "dl.append(n2)\n",
    "dl.append(n3)\n",
    "dl.append(n4)\n",
    "dl.append(n5)\n",
    "stampa_lista_doppia(dl.head)"
   ],
   "metadata": {
    "collapsed": false
   }
  },
  {
   "cell_type": "code",
   "execution_count": 550,
   "outputs": [
    {
     "ename": "AttributeError",
     "evalue": "'NoneType' object has no attribute 'prev'",
     "output_type": "error",
     "traceback": [
      "\u001B[0;31m---------------------------------------------------------------------------\u001B[0m",
      "\u001B[0;31mAttributeError\u001B[0m                            Traceback (most recent call last)",
      "Cell \u001B[0;32mIn [550], line 3\u001B[0m\n\u001B[1;32m      1\u001B[0m \u001B[38;5;66;03m#test deleteForData\u001B[39;00m\n\u001B[1;32m      2\u001B[0m \u001B[38;5;66;03m#dl.deleteForData('C')\u001B[39;00m\n\u001B[0;32m----> 3\u001B[0m \u001B[43mdl\u001B[49m\u001B[38;5;241;43m.\u001B[39;49m\u001B[43mdelete_by_data2\u001B[49m\u001B[43m(\u001B[49m\u001B[38;5;124;43m'\u001B[39;49m\u001B[38;5;124;43mD\u001B[39;49m\u001B[38;5;124;43m'\u001B[39;49m\u001B[43m)\u001B[49m\n\u001B[1;32m      4\u001B[0m stampa_lista_doppia(dl\u001B[38;5;241m.\u001B[39mhead)\n",
      "Cell \u001B[0;32mIn [539], line 112\u001B[0m, in \u001B[0;36mDoublyLinkedList.delete_by_data2\u001B[0;34m(self, dataRemove)\u001B[0m\n\u001B[1;32m    110\u001B[0m q\u001B[38;5;241m=\u001B[39mp\u001B[38;5;241m.\u001B[39mnext\n\u001B[1;32m    111\u001B[0m p\u001B[38;5;241m.\u001B[39mnext \u001B[38;5;241m=\u001B[39m q\u001B[38;5;241m.\u001B[39mnext\n\u001B[0;32m--> 112\u001B[0m \u001B[43mq\u001B[49m\u001B[38;5;241;43m.\u001B[39;49m\u001B[43mnext\u001B[49m\u001B[38;5;241;43m.\u001B[39;49m\u001B[43mprev\u001B[49m \u001B[38;5;241m=\u001B[39m p\n\u001B[1;32m    113\u001B[0m q\u001B[38;5;241m.\u001B[39mnext \u001B[38;5;241m=\u001B[39m \u001B[38;5;28;01mNone\u001B[39;00m\n\u001B[1;32m    114\u001B[0m q\u001B[38;5;241m.\u001B[39mprev \u001B[38;5;241m=\u001B[39m \u001B[38;5;28;01mNone\u001B[39;00m\n",
      "\u001B[0;31mAttributeError\u001B[0m: 'NoneType' object has no attribute 'prev'"
     ]
    }
   ],
   "source": [
    "#test deleteForData\n",
    "#dl.deleteForData('C')\n",
    "dl.delete_by_data2('D')\n",
    "stampa_lista_doppia(dl.head)"
   ],
   "metadata": {
    "collapsed": false
   }
  },
  {
   "cell_type": "code",
   "execution_count": 542,
   "outputs": [
    {
     "name": "stdout",
     "output_type": "stream",
     "text": [
      "PREV: B\n",
      "NEXT: D\n",
      "PREV: E\n",
      "NEXT: None sei in coda\n"
     ]
    }
   ],
   "source": [
    "dl.appendMio(NodeForDl('F'))\n",
    "dl.getPrevAndNextByData('A')\n",
    "dl.getPrevAndNextByData('C')\n",
    "dl.getPrevAndNextByData('F')"
   ],
   "metadata": {
    "collapsed": false
   }
  },
  {
   "cell_type": "code",
   "execution_count": 543,
   "outputs": [
    {
     "name": "stdout",
     "output_type": "stream",
     "text": [
      "B -> C -> D -> E -> F -> Fine Lista\n",
      "F -> E -> D -> C -> B -> Inizio Lista\n"
     ]
    }
   ],
   "source": [
    "stampa_lista_doppia(dl.head)"
   ],
   "metadata": {
    "collapsed": false
   }
  },
  {
   "cell_type": "code",
   "execution_count": 544,
   "outputs": [],
   "source": [
    "dl.clear_list()"
   ],
   "metadata": {
    "collapsed": false
   }
  },
  {
   "cell_type": "markdown",
   "source": [
    "### Esempi liste sing concat"
   ],
   "metadata": {
    "collapsed": false
   }
  },
  {
   "cell_type": "code",
   "execution_count": 545,
   "outputs": [
    {
     "name": "stdout",
     "output_type": "stream",
     "text": [
      "A -> B -> C -> D -> FINE LISTA\n"
     ]
    }
   ],
   "source": [
    "n6 = Node('A', None)\n",
    "n7 = Node('B', None)\n",
    "n8 = Node('C', None)\n",
    "n9 = Node('D', None)\n",
    "\n",
    "ll = LinkeList()\n",
    "\n",
    "ll.append(n6)\n",
    "ll.append(n7)\n",
    "ll.append(n8)\n",
    "ll.append(n9)\n",
    "stamp_list(ll.head)"
   ],
   "metadata": {
    "collapsed": false
   }
  },
  {
   "cell_type": "code",
   "execution_count": 546,
   "outputs": [],
   "source": [
    "ll.delete_by_data2('D')"
   ],
   "metadata": {
    "collapsed": false
   }
  },
  {
   "cell_type": "code",
   "execution_count": 547,
   "outputs": [
    {
     "name": "stdout",
     "output_type": "stream",
     "text": [
      "A -> B -> C -> FINE LISTA\n",
      "C\n"
     ]
    }
   ],
   "source": [
    "stamp_list(ll.head)\n",
    "ll.tail"
   ],
   "metadata": {
    "collapsed": false
   }
  },
  {
   "cell_type": "code",
   "execution_count": 548,
   "outputs": [],
   "source": [
    "ll.clear_list()"
   ],
   "metadata": {
    "collapsed": false
   }
  }
 ],
 "metadata": {
  "kernelspec": {
   "display_name": "Python 3",
   "language": "python",
   "name": "python3"
  },
  "language_info": {
   "codemirror_mode": {
    "name": "ipython",
    "version": 2
   },
   "file_extension": ".py",
   "mimetype": "text/x-python",
   "name": "python",
   "nbconvert_exporter": "python",
   "pygments_lexer": "ipython2",
   "version": "2.7.6"
  }
 },
 "nbformat": 4,
 "nbformat_minor": 0
}
