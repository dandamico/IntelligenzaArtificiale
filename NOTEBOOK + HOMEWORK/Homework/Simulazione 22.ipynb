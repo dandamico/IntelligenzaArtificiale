{
 "cells": [
  {
   "cell_type": "code",
   "execution_count": 1,
   "metadata": {
    "collapsed": true
   },
   "outputs": [],
   "source": [
    "import random\n",
    "def lancio():\n",
    "    dado1 = random.randint(1,6)\n",
    "    dado2 = random.randint(1,6)\n",
    "    totale = dado1 + dado2\n",
    "    return totale"
   ]
  },
  {
   "cell_type": "code",
   "execution_count": 2,
   "outputs": [],
   "source": [
    "def main(counter_max):\n",
    "    counter = 0\n",
    "    dict_prob_prevista = {\n",
    "        2 : [2.78], #[1/36]\n",
    "        3 : [5.56], #[2/36]\n",
    "        4 : [8.33], #[3/36]\n",
    "        5 : [11.11], #[4/36]\n",
    "        6 : [13.89], #[5/36]\n",
    "        7 : [16.67], #[6/36]\n",
    "        8 : [13.89], #[5/36]\n",
    "        9 : [11.11], #ecc\n",
    "        10 : [8.53],\n",
    "        11 : [5.56],\n",
    "        12 : [2.78],\n",
    "    }\n",
    "    dict_prob_calcolata = { }\n",
    "    for i in range (2,13):\n",
    "        dict_prob_calcolata[i] = [0, 0] #num di volte trovato, num\n",
    "\n",
    "    #print(dict_prob_calcolata)\n",
    "\n",
    "\n",
    "    dict_totale = {}\n",
    "    for i in range(2, 13):\n",
    "        dict_totale[i] = [0, 0, 0]\n",
    "    #print(dict_totale)\n",
    "\n",
    "    while counter<counter_max:\n",
    "        somma_lancio = lancio()\n",
    "#        print(dict_prob_prevista.keys())\n",
    "#        print(somma_lancio)\n",
    "        for num in dict_prob_prevista.keys():\n",
    "            if num == somma_lancio:\n",
    "                dict_prob_calcolata[num][0] = int(dict_prob_calcolata.get(num)[0])+1\n",
    "                #print(dict_prob_calcolata[num][0])\n",
    "        counter += 1\n",
    "\n",
    "    for num in dict_prob_calcolata.keys():\n",
    "        dict_prob_calcolata[num][1] =  (dict_prob_calcolata.get(num)[0] / counter_max) * 100\n",
    "        dict_totale[num] = [ num, dict_prob_calcolata.get(num)[1], dict_prob_prevista.get(num)[0] ]\n",
    "\n",
    "\n",
    "    return dict_totale"
   ],
   "metadata": {
    "collapsed": false
   }
  },
  {
   "cell_type": "code",
   "execution_count": 5,
   "outputs": [
    {
     "name": "stdout",
     "output_type": "stream",
     "text": [
      "{2: [2, 2.71, 2.78], 3: [3, 5.7, 5.56], 4: [4, 8.1, 8.33], 5: [5, 11.04, 11.11], 6: [6, 14.2, 13.89], 7: [7, 16.61, 16.67], 8: [8, 14.01, 13.89], 9: [9, 10.94, 11.11], 10: [10, 8.44, 8.53], 11: [11, 5.42, 5.56], 12: [12, 2.83, 2.78]}\n"
     ]
    }
   ],
   "source": [
    "lista = main(10000)\n",
    "print(lista)"
   ],
   "metadata": {
    "collapsed": false
   }
  },
  {
   "cell_type": "code",
   "execution_count": 4,
   "outputs": [
    {
     "name": "stdout",
     "output_type": "stream",
     "text": [
      "TOTALE: 2\n",
      "CALCOLATA: 2.4\n",
      "PREVISTA: 2.78\n",
      "TOTALE: 3\n",
      "CALCOLATA: 6.2\n",
      "PREVISTA: 5.56\n",
      "TOTALE: 4\n",
      "CALCOLATA: 9.2\n",
      "PREVISTA: 8.33\n",
      "TOTALE: 5\n",
      "CALCOLATA: 9.0\n",
      "PREVISTA: 11.11\n",
      "TOTALE: 6\n",
      "CALCOLATA: 15.6\n",
      "PREVISTA: 13.89\n",
      "TOTALE: 7\n",
      "CALCOLATA: 17.5\n",
      "PREVISTA: 16.67\n",
      "TOTALE: 8\n",
      "CALCOLATA: 12.6\n",
      "PREVISTA: 13.89\n",
      "TOTALE: 9\n",
      "CALCOLATA: 11.600000000000001\n",
      "PREVISTA: 11.11\n",
      "TOTALE: 10\n",
      "CALCOLATA: 7.9\n",
      "PREVISTA: 8.53\n",
      "TOTALE: 11\n",
      "CALCOLATA: 4.8\n",
      "PREVISTA: 5.56\n",
      "TOTALE: 12\n",
      "CALCOLATA: 3.2\n",
      "PREVISTA: 2.78\n"
     ]
    }
   ],
   "source": [
    "for item in lista.keys():\n",
    "    print('TOTALE: ' + str(lista.get(item)[0]))\n",
    "    print('CALCOLATA: ' + str(lista.get(item)[1]))\n",
    "    print('PREVISTA: ' + str(lista.get(item)[2]))"
   ],
   "metadata": {
    "collapsed": false
   }
  }
 ],
 "metadata": {
  "kernelspec": {
   "display_name": "Python 3",
   "language": "python",
   "name": "python3"
  },
  "language_info": {
   "codemirror_mode": {
    "name": "ipython",
    "version": 2
   },
   "file_extension": ".py",
   "mimetype": "text/x-python",
   "name": "python",
   "nbconvert_exporter": "python",
   "pygments_lexer": "ipython2",
   "version": "2.7.6"
  }
 },
 "nbformat": 4,
 "nbformat_minor": 0
}
