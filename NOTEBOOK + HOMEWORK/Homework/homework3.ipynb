{
 "cells": [
  {
   "cell_type": "markdown",
   "source": [
    "# ESERCIZIO 1: FATTORIALE"
   ],
   "metadata": {
    "collapsed": false
   }
  },
  {
   "cell_type": "code",
   "execution_count": 40,
   "outputs": [],
   "source": [
    "def fattoriale(n):\n",
    "    if n <= 1:\n",
    "        return 1\n",
    "    else:\n",
    "        return n * fattoriale(n-1)"
   ],
   "metadata": {
    "collapsed": false
   }
  },
  {
   "cell_type": "code",
   "execution_count": 43,
   "outputs": [],
   "source": [
    "def fatt(num):\n",
    "    list_res=[]\n",
    "    for i in range(1, num):\n",
    "        res = fattoriale(i)\n",
    "        list_res.append(res)\n",
    "    return list_res"
   ],
   "metadata": {
    "collapsed": false
   }
  },
  {
   "cell_type": "code",
   "execution_count": 44,
   "outputs": [
    {
     "name": "stdout",
     "output_type": "stream",
     "text": [
      "[1, 2, 6, 24, 120]\n"
     ]
    }
   ],
   "source": [
    "print(fatt(6))"
   ],
   "metadata": {
    "collapsed": false
   }
  },
  {
   "cell_type": "markdown",
   "source": [
    "## SOLUZIONE PROF"
   ],
   "metadata": {
    "collapsed": false
   }
  },
  {
   "cell_type": "code",
   "execution_count": 50,
   "outputs": [],
   "source": [
    "def exercise(n): #RICORSIVA\n",
    "    res_list = []\n",
    "    if n <= 1:\n",
    "        return [1]\n",
    "    else:\n",
    "        res_list = fattoriale(n-1)\n",
    "        res_list.append(res_list[-1] * n)\n",
    "        return res_list"
   ],
   "metadata": {
    "collapsed": false
   }
  },
  {
   "cell_type": "code",
   "execution_count": 51,
   "outputs": [
    {
     "ename": "AttributeError",
     "evalue": "'int' object has no attribute 'append'",
     "output_type": "error",
     "traceback": [
      "\u001B[0;31m---------------------------------------------------------------------------\u001B[0m",
      "\u001B[0;31mAttributeError\u001B[0m                            Traceback (most recent call last)",
      "Cell \u001B[0;32mIn [51], line 1\u001B[0m\n\u001B[0;32m----> 1\u001B[0m \u001B[43mexercise\u001B[49m\u001B[43m(\u001B[49m\u001B[38;5;241;43m10\u001B[39;49m\u001B[43m)\u001B[49m\n",
      "Cell \u001B[0;32mIn [50], line 7\u001B[0m, in \u001B[0;36mexercise\u001B[0;34m(n)\u001B[0m\n\u001B[1;32m      5\u001B[0m \u001B[38;5;28;01melse\u001B[39;00m:\n\u001B[1;32m      6\u001B[0m     res_list \u001B[38;5;241m=\u001B[39m fattoriale(n\u001B[38;5;241m-\u001B[39m\u001B[38;5;241m1\u001B[39m)\n\u001B[0;32m----> 7\u001B[0m     \u001B[43mres_list\u001B[49m\u001B[38;5;241;43m.\u001B[39;49m\u001B[43mappend\u001B[49m(res_list[\u001B[38;5;241m-\u001B[39m\u001B[38;5;241m1\u001B[39m] \u001B[38;5;241m*\u001B[39m n)\n\u001B[1;32m      8\u001B[0m     \u001B[38;5;28;01mreturn\u001B[39;00m res_list\n",
      "\u001B[0;31mAttributeError\u001B[0m: 'int' object has no attribute 'append'"
     ]
    }
   ],
   "source": [
    "exercise(10)"
   ],
   "metadata": {
    "collapsed": false
   }
  },
  {
   "cell_type": "code",
   "execution_count": null,
   "outputs": [],
   "source": [
    "def exercise(n): #ITERATIVA\n",
    "    res_list = [1]\n",
    "    if n<=1:\n"
   ],
   "metadata": {
    "collapsed": false
   }
  },
  {
   "cell_type": "markdown",
   "source": [
    "# ESERCIZIO 2: FIBONACCI"
   ],
   "metadata": {
    "collapsed": false
   }
  },
  {
   "cell_type": "code",
   "execution_count": 1,
   "outputs": [],
   "source": [
    "def fib(num):\n",
    "    if num in {0,1}:\n",
    "        return num\n",
    "    return fib(num-1) + fib(num-2)"
   ],
   "metadata": {
    "collapsed": false
   }
  },
  {
   "cell_type": "code",
   "execution_count": 2,
   "outputs": [
    {
     "data": {
      "text/plain": "[0, 1, 1, 2, 3, 5, 8, 13, 21, 34, 55, 89, 144, 233, 377]"
     },
     "execution_count": 2,
     "metadata": {},
     "output_type": "execute_result"
    }
   ],
   "source": [
    "[fib(n  ) for n in range(15)]"
   ],
   "metadata": {
    "collapsed": false
   }
  },
  {
   "cell_type": "markdown",
   "source": [
    "## SOLUZIONE PROF"
   ],
   "metadata": {
    "collapsed": false
   }
  },
  {
   "cell_type": "code",
   "execution_count": 77,
   "outputs": [],
   "source": [
    "memo={}\n",
    "def fib_memo (n):#fib tenendo in memoria i risultati con n già calcolato\n",
    "    if n <= 2:\n",
    "        return 1\n",
    "    if n not in memo:\n",
    "        memo[n] = fib_memo(n-1) + fib_memo(n-2)\n",
    "    return memo[n]"
   ],
   "metadata": {
    "collapsed": false
   }
  },
  {
   "cell_type": "code",
   "execution_count": 78,
   "outputs": [
    {
     "data": {
      "text/plain": "354224848179261915075"
     },
     "execution_count": 78,
     "metadata": {},
     "output_type": "execute_result"
    }
   ],
   "source": [
    "fib_memo(100)"
   ],
   "metadata": {
    "collapsed": false
   }
  },
  {
   "cell_type": "markdown",
   "source": [
    "# ESERCIZIO 3: INVERTI LA PRIMA META DELLA LISTA CON LA SECONDA"
   ],
   "metadata": {
    "collapsed": false
   }
  },
  {
   "cell_type": "code",
   "execution_count": 48,
   "outputs": [],
   "source": [
    "def inverti_list(input_list):\n",
    "    temp_list=[]\n",
    "    if len(input_list)%2==0:\n",
    "        for i in range(int(len(input_list)/2)):\n",
    "            temp_list.append(input_list[i])\n",
    "        for i in temp_list:\n",
    "            input_list.remove(i)\n",
    "    res_list = input_list + temp_list\n",
    "    return res_list"
   ],
   "metadata": {
    "collapsed": false
   }
  },
  {
   "cell_type": "code",
   "execution_count": 50,
   "outputs": [
    {
     "name": "stdout",
     "output_type": "stream",
     "text": [
      "dim prima lista 10\n",
      "[5, 6, 'k', 8, 9, 0, 'B', 2, 3, 4]\n"
     ]
    }
   ],
   "source": [
    "in_list = [0, 'B', 2, 3, 4, 5, 6, 'k', 8, 9]\n",
    "print('dim prima lista ' + str(len(in_list)))\n",
    "print(inverti_list(in_list))"
   ],
   "metadata": {
    "collapsed": false
   }
  },
  {
   "cell_type": "markdown",
   "source": [
    "### SOLUZIONE PROF"
   ],
   "metadata": {
    "collapsed": false
   }
  },
  {
   "cell_type": "code",
   "execution_count": 63,
   "outputs": [],
   "source": [
    "def invert_list(list): #da finire\n",
    "    res_list = list[len(list)//2]\n",
    "    print(list[len(list)//2])"
   ],
   "metadata": {
    "collapsed": false
   }
  },
  {
   "cell_type": "code",
   "execution_count": 65,
   "outputs": [
    {
     "name": "stdout",
     "output_type": "stream",
     "text": [
      "5\n"
     ]
    }
   ],
   "source": [
    "invert_list([0, 'B', 2, 3, 4, 5, 6, 'k', 8, 9])"
   ],
   "metadata": {
    "collapsed": false
   }
  },
  {
   "cell_type": "markdown",
   "source": [
    "# ESERCIZIO 4: CREARE LIST_FUNC"
   ],
   "metadata": {
    "collapsed": false
   }
  },
  {
   "cell_type": "code",
   "execution_count": 51,
   "outputs": [],
   "source": [
    "list_func = [lambda x : 1, lambda x : x, lambda x: x**2, lambda x: x**3]"
   ],
   "metadata": {
    "collapsed": false
   }
  },
  {
   "cell_type": "code",
   "execution_count": null,
   "outputs": [],
   "source": [
    "print(list_func[0](2))\n",
    "print(list_func[1](2))\n",
    "print(list_func[2](2))\n",
    "print(list_func[3](2))"
   ],
   "metadata": {
    "collapsed": false
   }
  },
  {
   "cell_type": "markdown",
   "source": [
    "# ESERCIZIO 5: SCACCHIERA"
   ],
   "metadata": {
    "collapsed": false
   }
  },
  {
   "cell_type": "code",
   "execution_count": 60,
   "outputs": [],
   "source": [
    "def scacchiera(cols, rows):\n",
    "    matrix = [ [0 for _ in range(cols)]\n",
    "               for _ in range(rows)\n",
    "               ]\n",
    "    for i in range(cols):\n",
    "        for j in range(rows):\n",
    "            if i%2 == 0:\n",
    "                if j%2 != 0:\n",
    "                    matrix[i][j] = 1\n",
    "            else:\n",
    "                if j%2==0:\n",
    "                    matrix[i][j] = 1\n",
    "    return matrix"
   ],
   "metadata": {
    "collapsed": false
   }
  },
  {
   "cell_type": "code",
   "execution_count": 61,
   "outputs": [
    {
     "name": "stdout",
     "output_type": "stream",
     "text": [
      "[[0, 1, 0, 1, 0, 1, 0, 1], [1, 0, 1, 0, 1, 0, 1, 0], [0, 1, 0, 1, 0, 1, 0, 1], [1, 0, 1, 0, 1, 0, 1, 0], [0, 1, 0, 1, 0, 1, 0, 1], [1, 0, 1, 0, 1, 0, 1, 0], [0, 1, 0, 1, 0, 1, 0, 1], [1, 0, 1, 0, 1, 0, 1, 0]]\n"
     ]
    }
   ],
   "source": [
    "print(scacchiera(8,8))"
   ],
   "metadata": {
    "collapsed": false
   }
  },
  {
   "cell_type": "markdown",
   "source": [
    "# ESERCIZIO 6: METTI 0 AL POSTO DEL MINOR NUMERO IN LISTA (SE PRESENTE PIU VOLTE CAMBIA SOLO IL PRIMO)"
   ],
   "metadata": {
    "collapsed": false
   }
  },
  {
   "cell_type": "code",
   "execution_count": 62,
   "outputs": [],
   "source": [
    "input_list = [9,1,2,3,3,5,6,7,8,3,24,2,1,9]"
   ],
   "metadata": {
    "collapsed": false
   }
  },
  {
   "cell_type": "code",
   "execution_count": 63,
   "outputs": [
    {
     "name": "stdout",
     "output_type": "stream",
     "text": [
      "[9, 0, 2, 3, 3, 5, 6, 7, 8, 3, 24, 2, 1, 9]\n"
     ]
    }
   ],
   "source": [
    "input_list[input_list.index(min(input_list))] = 0\n",
    "print(input_list)"
   ],
   "metadata": {
    "collapsed": false
   }
  },
  {
   "cell_type": "markdown",
   "source": [
    "# ESERCIZIO 7: SCOPRI COSA FA MISTERO"
   ],
   "metadata": {
    "collapsed": false
   }
  },
  {
   "cell_type": "code",
   "execution_count": null,
   "outputs": [],
   "source": [
    "import random\n",
    "def mistero (l, n):\n",
    "    risultato = []\n",
    "    for i in range(l):\n",
    "        risultato.append(random.randint(0, n))\n",
    "    return risultato"
   ],
   "metadata": {
    "collapsed": false
   }
  },
  {
   "cell_type": "code",
   "execution_count": null,
   "outputs": [],
   "source": [
    "mistero(10, 4)\n",
    "#la func mistero crea una lista di size=l\n",
    "# e ogni elemento della lista è un num a cazzo\n",
    "# tra 1 e n compresi"
   ],
   "metadata": {
    "collapsed": false
   }
  },
  {
   "cell_type": "markdown",
   "source": [
    "# ESERCIZIO 8: FARE FUNZIONE RIEMPI"
   ],
   "metadata": {
    "collapsed": false
   }
  },
  {
   "cell_type": "code",
   "execution_count": 65,
   "outputs": [],
   "source": [
    "def riempi (list, num):\n",
    "    for i in range(len(list)):\n",
    "        list[i]=num\n",
    "    return list"
   ],
   "metadata": {
    "collapsed": false
   }
  },
  {
   "cell_type": "code",
   "execution_count": 66,
   "outputs": [
    {
     "name": "stdout",
     "output_type": "stream",
     "text": [
      "[5, 5, 5, 5, 5, 5, 5, 5, 5, 5, 5, 5, 5, 5]\n"
     ]
    }
   ],
   "source": [
    "input_list = [9,1,2,3,3,5,6,7,8,3,24,2,1,9]\n",
    "out_list = riempi(input_list, 5)\n",
    "print(out_list)"
   ],
   "metadata": {
    "collapsed": false
   }
  },
  {
   "cell_type": "markdown",
   "source": [
    "# ESERCIZIO 9: FARE RICERCA BREATH-FIRST DI GRAPH"
   ],
   "metadata": {
    "collapsed": false
   }
  },
  {
   "cell_type": "code",
   "execution_count": 35,
   "outputs": [],
   "source": [
    "graph = {\n",
    "    'A' : ['B', 'C'],\n",
    "    'B' : ['D', 'E'],\n",
    "    'C' : ['F'],\n",
    "    'D' : [],\n",
    "    'E' : ['F'],\n",
    "    'F' : []\n",
    "}"
   ],
   "metadata": {
    "collapsed": false
   }
  },
  {
   "cell_type": "code",
   "execution_count": 33,
   "outputs": [],
   "source": [
    "def breath_first(graph, node, visitati):\n",
    "    coda = []\n",
    "    visitati.append(node)\n",
    "    coda.append(node)\n",
    "    while coda:\n",
    "        nodo = coda.pop(0)\n",
    "        for item in graph[nodo]:\n",
    "            if item not in visitati:\n",
    "                visitati.append(item)\n",
    "                coda.append(item)\n",
    "    return visitati"
   ],
   "metadata": {
    "collapsed": false
   }
  },
  {
   "cell_type": "code",
   "execution_count": 34,
   "outputs": [
    {
     "data": {
      "text/plain": "['A', 'B', 'C', 'D', 'E', 'F']"
     },
     "execution_count": 34,
     "metadata": {},
     "output_type": "execute_result"
    }
   ],
   "source": [
    "#print(breath_first(graph))\n",
    "breath_first(graph, 'A', [])"
   ],
   "metadata": {
    "collapsed": false
   }
  }
 ],
 "metadata": {
  "interpreter": {
   "hash": "916dbcbb3f70747c44a77c7bcd40155683ae19c65e1c03b4aa3499c5328201f1"
  },
  "kernelspec": {
   "display_name": "Python 3.8.10 64-bit",
   "language": "python",
   "name": "python3"
  },
  "language_info": {
   "name": "python",
   "version": "3.8.10"
  },
  "orig_nbformat": 4
 },
 "nbformat": 4,
 "nbformat_minor": 2
}
