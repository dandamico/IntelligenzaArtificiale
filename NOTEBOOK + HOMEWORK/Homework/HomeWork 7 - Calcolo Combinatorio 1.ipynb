{
 "cells": [
  {
   "cell_type": "markdown",
   "source": [
    "# Esercizio 1:\n",
    "Scrivere una funzione Python in versione ricorsiva che calcola il numero delle combinazioni di classe k di n oggetti"
   ],
   "metadata": {
    "collapsed": false
   }
  },
  {
   "cell_type": "code",
   "execution_count": 6,
   "outputs": [
    {
     "name": "stdout",
     "output_type": "stream",
     "text": [
      "<class 'itertools.combinations'>\n",
      "(1, 2)\n",
      "<class 'tuple'>\n",
      "(1, 3)\n",
      "<class 'tuple'>\n",
      "(2, 3)\n",
      "<class 'tuple'>\n"
     ]
    }
   ],
   "source": [
    "import itertools as it\n",
    "import math\n",
    "given_list = [1, 2, 3]\n",
    "list = it.combinations(given_list, 2)\n",
    "print(type(list))\n",
    "for item in list:\n",
    "    print(item)\n",
    "    print(type(item))"
   ],
   "metadata": {
    "collapsed": false
   }
  },
  {
   "cell_type": "code",
   "execution_count": 35,
   "outputs": [],
   "source": [
    "def comb (input_list, k):\n",
    "    count = 0\n",
    "    res_list= []\n",
    "    n = len(input_list)\n",
    "    while count <= math.factorial(n):\n",
    "    #while count!= 1:\n",
    "        for i in range(n):\n",
    "            for j in range(n):\n",
    "                if (input_list[i], input_list[j]) not in res_list:\n",
    "                    res_list.append((input_list[i], input_list[j]))\n",
    "                    count+=1\n",
    "\n",
    "    return res_list"
   ],
   "metadata": {
    "collapsed": false
   }
  },
  {
   "cell_type": "code",
   "execution_count": 36,
   "outputs": [
    {
     "data": {
      "text/plain": "[(1, 1), (1, 2), (1, 3), (2, 1), (2, 2), (2, 3), (3, 1), (3, 2), (3, 3)]"
     },
     "execution_count": 36,
     "metadata": {},
     "output_type": "execute_result"
    }
   ],
   "source": [
    "comb(given_list, 2)"
   ],
   "metadata": {
    "collapsed": false
   }
  },
  {
   "cell_type": "code",
   "execution_count": 40,
   "outputs": [],
   "source": [
    "def comb_2 (input_list, k):\n",
    "    count = 0\n",
    "    res_list= []\n",
    "    n = len(input_list)\n",
    "    while count <= math.factorial(n):\n",
    "        for i in range(n):\n",
    "            tupla = ()\n",
    "            for j in range(i, k):\n",
    "                tupla(input_list[j], )\n",
    "\n",
    "            #if (input_list[i], input_list[j]) not in res_list:\n",
    "            res_list.append(tupla)\n",
    "            count+=1\n",
    "    return res_list"
   ],
   "metadata": {
    "collapsed": false
   }
  },
  {
   "cell_type": "code",
   "execution_count": 41,
   "outputs": [
    {
     "ename": "TypeError",
     "evalue": "'tuple' object is not callable",
     "output_type": "error",
     "traceback": [
      "\u001B[0;31m---------------------------------------------------------------------------\u001B[0m",
      "\u001B[0;31mTypeError\u001B[0m                                 Traceback (most recent call last)",
      "Cell \u001B[0;32mIn [41], line 1\u001B[0m\n\u001B[0;32m----> 1\u001B[0m \u001B[43mcomb_2\u001B[49m\u001B[43m(\u001B[49m\u001B[43mgiven_list\u001B[49m\u001B[43m,\u001B[49m\u001B[43m \u001B[49m\u001B[38;5;241;43m2\u001B[39;49m\u001B[43m)\u001B[49m\n",
      "Cell \u001B[0;32mIn [40], line 9\u001B[0m, in \u001B[0;36mcomb_2\u001B[0;34m(input_list, k)\u001B[0m\n\u001B[1;32m      7\u001B[0m tupla \u001B[38;5;241m=\u001B[39m ()\n\u001B[1;32m      8\u001B[0m \u001B[38;5;28;01mfor\u001B[39;00m j \u001B[38;5;129;01min\u001B[39;00m \u001B[38;5;28mrange\u001B[39m(i, k):\n\u001B[0;32m----> 9\u001B[0m     \u001B[43mtupla\u001B[49m\u001B[43m(\u001B[49m\u001B[43minput_list\u001B[49m\u001B[43m[\u001B[49m\u001B[43mj\u001B[49m\u001B[43m]\u001B[49m\u001B[43m,\u001B[49m\u001B[43m \u001B[49m\u001B[43m)\u001B[49m\n\u001B[1;32m     11\u001B[0m \u001B[38;5;66;03m#if (input_list[i], input_list[j]) not in res_list:\u001B[39;00m\n\u001B[1;32m     12\u001B[0m res_list\u001B[38;5;241m.\u001B[39mappend(tupla)\n",
      "\u001B[0;31mTypeError\u001B[0m: 'tuple' object is not callable"
     ]
    }
   ],
   "source": [
    "comb_2(given_list, 2)"
   ],
   "metadata": {
    "collapsed": false
   }
  }
 ],
 "metadata": {
  "kernelspec": {
   "display_name": "Python 3",
   "language": "python",
   "name": "python3"
  },
  "language_info": {
   "codemirror_mode": {
    "name": "ipython",
    "version": 2
   },
   "file_extension": ".py",
   "mimetype": "text/x-python",
   "name": "python",
   "nbconvert_exporter": "python",
   "pygments_lexer": "ipython2",
   "version": "2.7.6"
  }
 },
 "nbformat": 4,
 "nbformat_minor": 0
}
