{
 "cells": [
  {
   "cell_type": "code",
   "execution_count": 89,
   "metadata": {
    "collapsed": true
   },
   "outputs": [],
   "source": [
    "import random\n",
    "\n",
    "\n",
    "def simulazione(n_trials, cambio):  #num tentativi; se cambi o meno porta\n",
    "    i = 0\n",
    "    num_win = 0\n",
    "    choice_set = ['CAPRA', 'AUTO', 'CAPRA']\n",
    "\n",
    "    while i < n_trials:\n",
    "        porta_aperta_inzialmente = random.randint(0,2)\n",
    "        scelta = choice_set[porta_aperta_inzialmente]\n",
    "\n",
    "        if porta_aperta_inzialmente == 0:\n",
    "            num_porta_aperta_conduttore=2\n",
    "         \n",
    "        elif porta_aperta_inzialmente == 2:\n",
    "            num_porta_aperta_conduttore=0\n",
    "         \n",
    "        else:\n",
    "            num_porta_aperta_conduttore = random.choice([0, 2])\n",
    "\n",
    "\n",
    "        if cambio is True:\n",
    "\n",
    "            if porta_aperta_inzialmente == 0:\n",
    "                nuova_porta = choice_set[1]\n",
    "\n",
    "            elif porta_aperta_inzialmente == 2:\n",
    "                nuova_porta = choice_set[1]\n",
    "\n",
    "            else:\n",
    "                #se porta_aperta_conduttore è la 2 e la porta scelta casualmente è la 1\n",
    "                if (num_porta_aperta_conduttore-porta_aperta_inzialmente) > 0:\n",
    "                    nuova_porta = choice_set[0]\n",
    "                #se porta_aperta_conduttore è la 0 e la porta scelta casualmente è la 1\n",
    "                else:\n",
    "                    nuova_porta = choice_set[2]\n",
    "            \n",
    "            \n",
    "            if nuova_porta == 'AUTO':\n",
    "                num_win += 1\n",
    "            \n",
    "\n",
    "        else:\n",
    "            if scelta == 'AUTO':\n",
    "                num_win+=1\n",
    "\n",
    "        i+=1\n",
    "\n",
    "    return num_win"
   ]
  },
  {
   "cell_type": "code",
   "execution_count": 86,
   "outputs": [],
   "source": [
    "num_tentativi = 10000"
   ],
   "metadata": {
    "collapsed": false
   }
  },
  {
   "cell_type": "code",
   "execution_count": 87,
   "outputs": [],
   "source": [
    "num_win_with_cambio = simulazione(num_tentativi, True)\n",
    "num_win_without_cambio = simulazione(num_tentativi, False)"
   ],
   "metadata": {
    "collapsed": false
   }
  },
  {
   "cell_type": "code",
   "execution_count": 91,
   "outputs": [
    {
     "name": "stdout",
     "output_type": "stream",
     "text": [
      "PERCENTUALI DI VITTORIE NON CAMBIANDO: 0.3368\n",
      "PERCENTUALI DI VITTORIE CAMBIANDO: 0.6657\n"
     ]
    }
   ],
   "source": [
    "perc_win_cambio = num_win_with_cambio/num_tentativi\n",
    "perc_win_no_cambio = num_win_without_cambio/num_tentativi\n",
    "print('PERCENTUALI DI VITTORIE NON CAMBIANDO: ' + format(perc_win_no_cambio))\n",
    "print('PERCENTUALI DI VITTORIE CAMBIANDO: ' + format(perc_win_cambio))"
   ],
   "metadata": {
    "collapsed": false
   }
  }
 ],
 "metadata": {
  "kernelspec": {
   "display_name": "Python 3",
   "language": "python",
   "name": "python3"
  },
  "language_info": {
   "codemirror_mode": {
    "name": "ipython",
    "version": 2
   },
   "file_extension": ".py",
   "mimetype": "text/x-python",
   "name": "python",
   "nbconvert_exporter": "python",
   "pygments_lexer": "ipython2",
   "version": "2.7.6"
  }
 },
 "nbformat": 4,
 "nbformat_minor": 0
}
