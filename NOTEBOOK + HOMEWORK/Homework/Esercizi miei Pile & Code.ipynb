{
 "cells": [
  {
   "cell_type": "markdown",
   "source": [
    "# PILE ESERCIZI"
   ],
   "metadata": {
    "collapsed": false
   }
  },
  {
   "cell_type": "code",
   "execution_count": 214,
   "outputs": [],
   "source": [
    "class Node:\n",
    "    data = ''\n",
    "    next = None\n",
    "\n",
    "    def __init__(self, data):\n",
    "        self.data = data"
   ],
   "metadata": {
    "collapsed": false
   }
  },
  {
   "cell_type": "code",
   "execution_count": 215,
   "outputs": [],
   "source": [
    "class Stack:\n",
    "    __top = None\n",
    "    __size = 0\n",
    "\n",
    "    #METODO CHE METTE IN TESTA IL NUOVO ELEMENTO (LE PILE SEGUONO LA LOGICA LIFO (Last Input First Output))\n",
    "    def push(self, element):\n",
    "\n",
    "        #se pila vuota\n",
    "        if self.__top == None:\n",
    "            self.__top = Node(element)  #mettilo in top\n",
    "\n",
    "        #altrimenti\n",
    "        else:\n",
    "            newNode = Node(element)     #nuovoNodo = elementoPassatoInInput\n",
    "            newNode.next = self.__top   #succ di nuovoNodo = attualeTop\n",
    "            self.__top = newNode        #top= nuovoNodo\n",
    "        self.__size += 1    #aumenta size\n",
    "\n",
    "    #Estrai il nodo in posizione top\n",
    "    def pop(self):\n",
    "\n",
    "        #se pila vuota\n",
    "        if self.__top == None:\n",
    "            return None\n",
    "        p = self.__top                  #p=attualeTop\n",
    "        self.__top = self.__top.next    #attualeTop = attualeTop.next cosi facendo il successivo di top diventa il nuovo top della pila\n",
    "        p.next = None                   #rompiamo il collegamento tra p(vecchio top) e il suo successivo\n",
    "        self.__size -= 1                #decrementa la size\n",
    "        return p\n",
    "\n",
    "\n",
    "    def delete_by_data(self, dataDelete):\n",
    "        p = self.__top\n",
    "\n",
    "        if p is None: print('Lista Vuota')\n",
    "\n",
    "        elif p.data is dataDelete:\n",
    "            q = p.next\n",
    "            self.__top = q\n",
    "            p.next = None\n",
    "\n",
    "        else:\n",
    "            while p.next is not None and p.next.data is not dataDelete:\n",
    "                p = p.next\n",
    "\n",
    "            q = p.next\n",
    "            p.next = q.next\n",
    "            q.next = None\n",
    "\n",
    "        self.__size -= 1\n",
    "\n",
    "\n",
    "    @property\n",
    "    def size(self):\n",
    "        return self.__size\n",
    "\n",
    "\n",
    "    def estrazione_stampa_pila(stack):\n",
    "        print('Top', end = ' ')\n",
    "        node = stack.pop()\n",
    "        while node!= None:\n",
    "            print(node.data, '->', end=' ')\n",
    "            node = stack.pop()\n",
    "        print('End')"
   ],
   "metadata": {
    "collapsed": false
   }
  },
  {
   "cell_type": "code",
   "execution_count": 216,
   "outputs": [],
   "source": [
    "stack = Stack()"
   ],
   "metadata": {
    "collapsed": false
   }
  },
  {
   "cell_type": "code",
   "execution_count": 217,
   "outputs": [],
   "source": [
    "stack.push('A')\n",
    "stack.push('B')\n",
    "stack.push('C')\n",
    "stack.push('D')"
   ],
   "metadata": {
    "collapsed": false
   }
  },
  {
   "cell_type": "code",
   "execution_count": 218,
   "outputs": [],
   "source": [
    "stack.delete_by_data('D')"
   ],
   "metadata": {
    "collapsed": false
   }
  },
  {
   "cell_type": "code",
   "execution_count": 219,
   "outputs": [
    {
     "name": "stdout",
     "output_type": "stream",
     "text": [
      "Top C -> B -> A -> End\n"
     ]
    }
   ],
   "source": [
    "stack.estrazione_stampa_pila()"
   ],
   "metadata": {
    "collapsed": false
   }
  },
  {
   "cell_type": "markdown",
   "source": [
    "# CODE"
   ],
   "metadata": {
    "collapsed": false
   }
  },
  {
   "cell_type": "code",
   "execution_count": 220,
   "outputs": [],
   "source": [
    "class Queue:\n",
    "    __head = None\n",
    "    __tail = None\n",
    "    __size = 0\n",
    "\n",
    "    #METODO CHE METTE IN CODA IL NUOVO ELEMENTO (LE CODE SEGUONO LA LOGICA FIFO (First Input First Output))\n",
    "    def enqueue(self, element):\n",
    "        newNode = Node(element)\n",
    "        if self.__head == None:            # se coda vuota metti in testa\n",
    "            self.__head = newNode\n",
    "            self.__tail = self.__head\n",
    "        else:                              # altrimenti ...\n",
    "            self.__tail.next = newNode      #attualeCoda.next = nuovoNodo -> metti in coda il nuovo nodo\n",
    "            self.__tail = newNode           #coda=nuovoNodo\n",
    "        self.__size += 1\n",
    "\n",
    "\n",
    "    #Estrai il nodo in head\n",
    "    def dequeue(self):\n",
    "        p = self.__head\n",
    "        if p == None:\n",
    "            return None\n",
    "        self.__head = self.__head.next\n",
    "        p.next = None\n",
    "        self.__size -= 1\n",
    "        return p\n",
    "\n",
    "\n",
    "    def delete_by_data2(self, dataDelete):\n",
    "        p = self.__head\n",
    "\n",
    "        if p is None: print('Lista Vuota')\n",
    "\n",
    "        elif p.data is dataDelete:\n",
    "            q = p.next\n",
    "            self.__head = q\n",
    "            p.next = None\n",
    "\n",
    "        else:\n",
    "            while p.next is not None and p.next.data is not dataDelete:\n",
    "                p = p.next\n",
    "            q = p.next  #q da rimuovere\n",
    "            p.next = q.next\n",
    "            q.next = None\n",
    "\n",
    "        self.__size -= 1\n",
    "\n",
    "\n",
    "    @property\n",
    "    def size(self):\n",
    "        return self.__size\n",
    "\n",
    "    @property\n",
    "    def head(self):\n",
    "        return self.__head\n",
    "\n",
    "def estrazione_stampa_coda(queue):\n",
    "    print('Head', end = ' ')\n",
    "    node = queue.dequeue()\n",
    "    while node!= None:\n",
    "        print(node.data, '->', end=' ')\n",
    "        node = queue.dequeue()\n",
    "    print('Tail')"
   ],
   "metadata": {
    "collapsed": false
   }
  },
  {
   "cell_type": "code",
   "execution_count": 221,
   "outputs": [],
   "source": [
    "coda = Queue()"
   ],
   "metadata": {
    "collapsed": false
   }
  },
  {
   "cell_type": "code",
   "execution_count": 222,
   "outputs": [],
   "source": [
    "coda.enqueue('A')\n",
    "coda.enqueue('B')\n",
    "coda.enqueue('C')\n",
    "coda.enqueue('D')"
   ],
   "metadata": {
    "collapsed": false
   }
  },
  {
   "cell_type": "code",
   "execution_count": 223,
   "outputs": [
    {
     "data": {
      "text/plain": "4"
     },
     "execution_count": 223,
     "metadata": {},
     "output_type": "execute_result"
    }
   ],
   "source": [
    "coda.size"
   ],
   "metadata": {
    "collapsed": false
   }
  },
  {
   "cell_type": "code",
   "execution_count": 224,
   "outputs": [],
   "source": [
    "coda.delete_by_data2('D')"
   ],
   "metadata": {
    "collapsed": false
   }
  },
  {
   "cell_type": "code",
   "execution_count": 225,
   "outputs": [
    {
     "name": "stdout",
     "output_type": "stream",
     "text": [
      "Head A -> B -> C -> Tail\n"
     ]
    }
   ],
   "source": [
    "estrazione_stampa_coda(coda)"
   ],
   "metadata": {
    "collapsed": false
   }
  }
 ],
 "metadata": {
  "kernelspec": {
   "display_name": "Python 3",
   "language": "python",
   "name": "python3"
  },
  "language_info": {
   "codemirror_mode": {
    "name": "ipython",
    "version": 2
   },
   "file_extension": ".py",
   "mimetype": "text/x-python",
   "name": "python",
   "nbconvert_exporter": "python",
   "pygments_lexer": "ipython2",
   "version": "2.7.6"
  }
 },
 "nbformat": 4,
 "nbformat_minor": 0
}
