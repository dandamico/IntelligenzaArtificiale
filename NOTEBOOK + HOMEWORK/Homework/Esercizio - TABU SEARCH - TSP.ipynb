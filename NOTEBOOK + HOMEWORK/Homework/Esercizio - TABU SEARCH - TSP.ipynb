{
 "cells": [
  {
   "cell_type": "markdown",
   "source": [
    "# Problema del Commesso Viaggiatore (TSP: Traveling Salesman problem)\n",
    "È il seguente: Il commesso viaggiatore deve visitare ogni città del suo territorio esattamente una volta e poi tornare al\n",
    "punto di partenza percorrendo la distanza più breve."
   ],
   "metadata": {
    "collapsed": false
   }
  },
  {
   "cell_type": "markdown",
   "source": [
    "Possiamo rappresentare il problema avvalendoci di un grafo completo pesato, in cui i nodi sono le città e gli archi i collegamenti pesati,\n",
    "che rappresentano la distanza tra le due città collegate.\n",
    "\n",
    "Il problema è così definito:\n",
    "   - Stati: un qualsiasi percorso che includa una sola volta tutte le n città. Possiamo rappresentare uno stato con una lista di città lunga n.\n",
    "   - Funzione successore: un qualsiasi scambio di due città.\n",
    "   - Funzione di valutazione: calcolo lunghezza percorso.\n",
    "   - Stato iniziale: una lista di città lunga n\n"
   ],
   "metadata": {
    "collapsed": false
   }
  },
  {
   "cell_type": "code",
   "execution_count": 1,
   "outputs": [],
   "source": [
    "import copy\n",
    "\n",
    "# connessioni tra le citta con relative distanze\n",
    "connections = {}\n",
    "connections['A'] = [ ['B', 4], ['C', 2], ['D', 1], ['E', 2]]\n",
    "connections['B'] = [ ['A', 4], ['C', 1], ['D', 2], ['E', 3]]\n",
    "connections['C'] = [ ['A', 2], ['B', 1], ['D', 3], ['E', 2]]\n",
    "connections['D'] = [ ['A', 1], ['B', 2], ['C', 3], ['E', 2]]\n",
    "connections['E'] = [ ['A', 2], ['B', 3], ['C', 2], ['D', 2]]"
   ],
   "metadata": {
    "collapsed": false
   }
  },
  {
   "cell_type": "markdown",
   "source": [
    "## FUNZIONE DI VALUTAZIONE DELLO STATO\n",
    "Tale funzione calcola la lunghezza del percorso relativo ad uno stato, rappresentato mediante una lista ordinata di città"
   ],
   "metadata": {
    "collapsed": false
   }
  },
  {
   "cell_type": "code",
   "execution_count": 2,
   "outputs": [],
   "source": [
    "def eval_stato(stato):\n",
    "    lunghezza_percorso = 0\n",
    "    for i in range(len(stato)):\n",
    "        l = connections[stato[i]]\n",
    "        if i < (len(stato)-1):\n",
    "            next_nodo = stato[i+1]\n",
    "        else:\n",
    "            next_nodo = stato[0]\n",
    "        for (successore, distanza) in l:\n",
    "            if successore == next_nodo:\n",
    "                lunghezza_percorso += distanza\n",
    "                break\n",
    "    return lunghezza_percorso"
   ],
   "metadata": {
    "collapsed": false
   }
  },
  {
   "cell_type": "markdown",
   "source": [
    "## FUNZIONE CHE GENERA IL NEIGHBORHOOD\n",
    "Tale funzione genera gli stati del vicinato, ordinandoli in base alla loro valutazione (lunghezza percorso)"
   ],
   "metadata": {
    "collapsed": false
   }
  },
  {
   "cell_type": "code",
   "execution_count": 3,
   "outputs": [],
   "source": [
    "def genera_successori(stato):\n",
    "    '''\n",
    "    GENERA LA LISTA ORDINATA DI SUCCESSORI DI UNO STATO\n",
    "    :param stato:\n",
    "    :return:\n",
    "    '''\n",
    "    lista = []\n",
    "    t = len(stato)\n",
    "\n",
    "    for i in range(0, t-1):\n",
    "        for j in range(i+1, t):\n",
    "            buffer = copy.deepcopy(stato)\n",
    "            temp = buffer[i]\n",
    "            buffer[i] = buffer[j]\n",
    "            buffer[j] = temp\n",
    "            eval_next = eval_stato(buffer)\n",
    "            lista.append( (buffer, eval_next, (stato[i], stato[j])))\n",
    "\n",
    "    lista.sort(key=lambda x:x[1])   #ordiniamo i successori in base alla loro valutazione\n",
    "    return lista"
   ],
   "metadata": {
    "collapsed": false
   }
  },
  {
   "cell_type": "markdown",
   "source": [
    "La funzione precedente, per ogni coppia di indici i e j dello\n",
    "stato, scambia i valori degli elementi corrispondenti. Ad\n",
    "esempio:    statox = [A, B, C, D, E] DIVENTA stato_successore=[A, D, C, B, E] con cambia a i=B e j=D"
   ],
   "metadata": {
    "collapsed": false
   }
  },
  {
   "cell_type": "markdown",
   "source": [
    "## FUNZIONE TABU TEST\n",
    "Tale funzione controlla se una mossa è ASSENTE nella Tabu List"
   ],
   "metadata": {
    "collapsed": false
   }
  },
  {
   "cell_type": "code",
   "execution_count": 4,
   "outputs": [],
   "source": [
    "def tabu_test(sequenza, tabu_list): #è True se una mossa NON è presente\n",
    "    a, b = sequenza[2]\n",
    "    if ( (a,b) in tabu_list or (b,a) in tabu_list):\n",
    "        assente = False\n",
    "    else:\n",
    "        assente = True\n",
    "    return assente"
   ],
   "metadata": {
    "collapsed": false
   }
  },
  {
   "cell_type": "markdown",
   "source": [
    "## ALGORITMO"
   ],
   "metadata": {
    "collapsed": false
   }
  },
  {
   "cell_type": "code",
   "execution_count": 5,
   "outputs": [],
   "source": [
    "def tabu_search(stato_iniziale, tabu_tenure, connections):\n",
    "    # impostazione stato iniziale\n",
    "    current = stato_iniziale\n",
    "    current_eval = eval_stato(current)\n",
    "\n",
    "    #inizializziamo il best\n",
    "    best = stato_iniziale\n",
    "    eval_best = current_eval\n",
    "\n",
    "    tabu_list = {}\n",
    "    neighbours = []\n",
    "    count = 0\n",
    "\n",
    "    print('STATO INIZIALE(', str(count), '):')\n",
    "    print(current)\n",
    "    print('EVAL STATO INIZIALE(', str(count), '):')\n",
    "    print(current_eval)\n",
    "    print('----------------------')\n",
    "\n",
    "    #while not criterio_di_terminazione\n",
    "    while count < 10:\n",
    "\n",
    "        lista_successori = genera_successori(current)   #genera i successori (stato, eval_stato, mossa)\n",
    "\n",
    "        neighbours = list(filter(lambda n: tabu_test(n, tabu_list), lista_successori))  #selezione successori non tabu\n",
    "\n",
    "        next_state = neighbours[0][0]   #selezione del migliore dei successori\n",
    "        eval_next_state = neighbours[0][1]\n",
    "        delta = eval_best - eval_next_state\n",
    "\n",
    "        if delta>0:\n",
    "            best=next_state\n",
    "            eval_best = eval_next_state\n",
    "\n",
    "        current = next_state\n",
    "        current_eval = eval_next_state\n",
    "\n",
    "        print('STATO CORRENTE(', str(count+1), '):')\n",
    "        print(current)\n",
    "        print('EVAL STATO CORRENTE(', str(count+1), '):')\n",
    "        print(current_eval)\n",
    "\n",
    "        #decremento del tabu_tenure\n",
    "        for mossa in tabu_list:\n",
    "            tabu_list[mossa] = tabu_list[mossa] - 1\n",
    "\n",
    "        #eliminazione elementi con tenure uguale a zero\n",
    "        tabu_list = {k: tabu_list[k] for k in tabu_list if tabu_list[k] != 0}\n",
    "\n",
    "        #inserimento della mossa di next in tabu_list\n",
    "        mossa_next = neighbours[0][2]\n",
    "        print('MOSSA(', str(count+1), '):')\n",
    "        print(mossa_next)\n",
    "        tabu_list[mossa_next] = tabu_tenure\n",
    "\n",
    "        count += 1\n",
    "\n",
    "        print('----------------------')\n",
    "\n",
    "    return (best + [best[0]], eval_best)"
   ],
   "metadata": {
    "collapsed": false
   }
  },
  {
   "cell_type": "code",
   "execution_count": 6,
   "outputs": [],
   "source": [
    "stato = ['A', 'B', 'C', 'D', 'E']"
   ],
   "metadata": {
    "collapsed": false
   }
  },
  {
   "cell_type": "code",
   "execution_count": 7,
   "outputs": [
    {
     "name": "stdout",
     "output_type": "stream",
     "text": [
      "STATO INIZIALE( 0 ):\n",
      "['A', 'B', 'C', 'D', 'E']\n",
      "EVAL STATO INIZIALE( 0 ):\n",
      "12\n",
      "----------------------\n",
      "STATO CORRENTE( 1 ):\n",
      "['D', 'B', 'C', 'A', 'E']\n",
      "EVAL STATO CORRENTE( 1 ):\n",
      "9\n",
      "MOSSA( 1 ):\n",
      "('A', 'D')\n",
      "----------------------\n",
      "STATO CORRENTE( 2 ):\n",
      "['C', 'B', 'D', 'A', 'E']\n",
      "EVAL STATO CORRENTE( 2 ):\n",
      "8\n",
      "MOSSA( 2 ):\n",
      "('D', 'C')\n",
      "----------------------\n",
      "STATO CORRENTE( 3 ):\n",
      "['C', 'B', 'D', 'E', 'A']\n",
      "EVAL STATO CORRENTE( 3 ):\n",
      "9\n",
      "MOSSA( 3 ):\n",
      "('A', 'E')\n",
      "----------------------\n",
      "STATO CORRENTE( 4 ):\n",
      "['C', 'A', 'D', 'E', 'B']\n",
      "EVAL STATO CORRENTE( 4 ):\n",
      "9\n",
      "MOSSA( 4 ):\n",
      "('B', 'A')\n",
      "----------------------\n",
      "STATO CORRENTE( 5 ):\n",
      "['C', 'A', 'E', 'D', 'B']\n",
      "EVAL STATO CORRENTE( 5 ):\n",
      "9\n",
      "MOSSA( 5 ):\n",
      "('D', 'E')\n",
      "----------------------\n",
      "STATO CORRENTE( 6 ):\n",
      "['D', 'A', 'E', 'C', 'B']\n",
      "EVAL STATO CORRENTE( 6 ):\n",
      "8\n",
      "MOSSA( 6 ):\n",
      "('C', 'D')\n",
      "----------------------\n",
      "STATO CORRENTE( 7 ):\n",
      "['D', 'E', 'A', 'C', 'B']\n",
      "EVAL STATO CORRENTE( 7 ):\n",
      "9\n",
      "MOSSA( 7 ):\n",
      "('A', 'E')\n",
      "----------------------\n",
      "STATO CORRENTE( 8 ):\n",
      "['D', 'E', 'B', 'C', 'A']\n",
      "EVAL STATO CORRENTE( 8 ):\n",
      "9\n",
      "MOSSA( 8 ):\n",
      "('A', 'B')\n",
      "----------------------\n",
      "STATO CORRENTE( 9 ):\n",
      "['E', 'D', 'B', 'C', 'A']\n",
      "EVAL STATO CORRENTE( 9 ):\n",
      "9\n",
      "MOSSA( 9 ):\n",
      "('D', 'E')\n",
      "----------------------\n",
      "STATO CORRENTE( 10 ):\n",
      "['E', 'C', 'B', 'D', 'A']\n",
      "EVAL STATO CORRENTE( 10 ):\n",
      "8\n",
      "MOSSA( 10 ):\n",
      "('D', 'C')\n",
      "----------------------\n"
     ]
    },
    {
     "data": {
      "text/plain": "(['C', 'B', 'D', 'A', 'E', 'C'], 8)"
     },
     "execution_count": 7,
     "metadata": {},
     "output_type": "execute_result"
    }
   ],
   "source": [
    "tabu_search(stato, 3, connections)"
   ],
   "metadata": {
    "collapsed": false
   }
  }
 ],
 "metadata": {
  "kernelspec": {
   "display_name": "Python 3",
   "language": "python",
   "name": "python3"
  },
  "language_info": {
   "codemirror_mode": {
    "name": "ipython",
    "version": 2
   },
   "file_extension": ".py",
   "mimetype": "text/x-python",
   "name": "python",
   "nbconvert_exporter": "python",
   "pygments_lexer": "ipython2",
   "version": "2.7.6"
  }
 },
 "nbformat": 4,
 "nbformat_minor": 0
}
