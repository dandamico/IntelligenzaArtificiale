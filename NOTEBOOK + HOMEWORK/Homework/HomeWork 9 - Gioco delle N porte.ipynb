{
 "cells": [
  {
   "cell_type": "code",
   "execution_count": 1,
   "outputs": [],
   "source": [
    "import random\n",
    "\n",
    "def gen_porte_and_contenuto(n_door):\n",
    "    door_list=[]\n",
    "    chance=['CAPRA', 'AUTO']\n",
    "    for i in range(n_door):\n",
    "        possible = random.choice(chance)\n",
    "        if possible=='CAPRA':\n",
    "            door_list.append(possible)\n",
    "        else:\n",
    "            if possible not in door_list:\n",
    "                door_list.append('AUTO')\n",
    "            else:\n",
    "                door_list.append('CAPRA')\n",
    "\n",
    "    return door_list"
   ],
   "metadata": {
    "collapsed": false
   }
  },
  {
   "cell_type": "code",
   "execution_count": 2,
   "outputs": [
    {
     "data": {
      "text/plain": "['CAPRA',\n 'AUTO',\n 'CAPRA',\n 'CAPRA',\n 'CAPRA',\n 'CAPRA',\n 'CAPRA',\n 'CAPRA',\n 'CAPRA',\n 'CAPRA']"
     },
     "execution_count": 2,
     "metadata": {},
     "output_type": "execute_result"
    }
   ],
   "source": [
    "gen_porte_and_contenuto(10) #test per func -> gen_porte_and_contenuto"
   ],
   "metadata": {
    "collapsed": false
   }
  },
  {
   "cell_type": "code",
   "execution_count": 3,
   "outputs": [],
   "source": [
    "import random\n",
    "\n",
    "def simulazione(n_trials, n_porte, cambio):  #num tentativi; num_porte; se cambi o meno porta\n",
    "\n",
    "    count, num_win= 0, 0\n",
    "    choice_set = gen_porte_and_contenuto(n_porte)   #generiamo lista delle porte\n",
    "\n",
    "    while count< n_trials:  #terminal-condition\n",
    "\n",
    "        porta_aperta_inzialmente = random.randint(0, len(choice_set)-1) #numero porta che si sceglie inizialmente random\n",
    "        scelta = choice_set[porta_aperta_inzialmente]       #porta scelta inizialmente random\n",
    "\n",
    "        #INZIAMO CON IL CONTROLLO APERTURA PORTA PER IL CONDUTTORE\n",
    "        item_conduttore = random.randint(0, len(choice_set)-1)\n",
    "        while True:\n",
    "            if choice_set[item_conduttore] != 'AUTO' and item_conduttore!=porta_aperta_inzialmente:\n",
    "                num_porta_aperta_conduttore = item_conduttore  #numero porta che il conduttore apre random SOLO tra quelle con CAPRA\n",
    "                break\n",
    "            else:\n",
    "                item_conduttore = random.randint(0, len(choice_set)-1)\n",
    "\n",
    "        #SE ABBIAMO DECISO DI CAMBIARE\n",
    "        if cambio is True:\n",
    "             item = random.randint(0, len(choice_set)-1)    #scelgo una porta random in cui cambiare la mia scelta iniziale\n",
    "             while True:\n",
    "                if item!=num_porta_aperta_conduttore and item!=porta_aperta_inzialmente:    #se la nuova porta è diversa dall'inziale e da quella aperta dal conduttore\n",
    "                    num_nuova_porta = item  #numero_nuova_porta aggiornato\n",
    "                    break\n",
    "                else:\n",
    "                    item = random.randint(0, len(choice_set)-1) #rimescola le carte producendo un nuovo numero di porta da aprire\n",
    "\n",
    "             nuova_porta = choice_set[num_nuova_porta]\n",
    "             if nuova_porta == 'AUTO':\n",
    "                 num_win += 1\n",
    "\n",
    "        #SE DECIDIAMO DI NON CAMBIARE\n",
    "        else:\n",
    "            if scelta == 'AUTO':\n",
    "                num_win+=1\n",
    "\n",
    "        count+=1\n",
    "    return num_win"
   ],
   "metadata": {
    "collapsed": false
   }
  },
  {
   "cell_type": "code",
   "execution_count": 4,
   "outputs": [],
   "source": [
    "num_tentativi = 10000"
   ],
   "metadata": {
    "collapsed": false
   }
  },
  {
   "cell_type": "code",
   "execution_count": 5,
   "outputs": [],
   "source": [
    "num_win_with_cambio = simulazione(num_tentativi, 10, True)\n",
    "num_win_without_cambio = simulazione(num_tentativi, 10, False)"
   ],
   "metadata": {
    "collapsed": false
   }
  },
  {
   "cell_type": "code",
   "execution_count": 6,
   "outputs": [
    {
     "name": "stdout",
     "output_type": "stream",
     "text": [
      "PERCENTUALI DI VITTORIE NON CAMBIANDO: 0.1014\n",
      "PERCENTUALI DI VITTORIE CAMBIANDO: 0.1158\n"
     ]
    }
   ],
   "source": [
    "perc_win_cambio = num_win_with_cambio/num_tentativi\n",
    "perc_win_no_cambio = num_win_without_cambio/num_tentativi\n",
    "print('PERCENTUALI DI VITTORIE NON CAMBIANDO: ' + format(perc_win_no_cambio))\n",
    "print('PERCENTUALI DI VITTORIE CAMBIANDO: ' + format(perc_win_cambio))"
   ],
   "metadata": {
    "collapsed": false
   }
  },
  {
   "cell_type": "code",
   "execution_count": 7,
   "outputs": [],
   "source": [
    "# for item in range(len(choice_set)-1):\n",
    "#     if choice_set[item] != 'AUTO' and item!=porta_aperta_inzialmente:   #\n",
    "#         num_porta_aperta_conduttore = item  #numero porta che il conduttore apre random SOLO tra quelle con CAPRA\n",
    "#         porta_aperta_conduttore = choice_set[item]      #numero porta che il conduttore apre random SOLO tra quelle con CAPRA\n",
    "#         break"
   ],
   "metadata": {
    "collapsed": false
   }
  }
 ],
 "metadata": {
  "kernelspec": {
   "display_name": "Python 3",
   "language": "python",
   "name": "python3"
  },
  "language_info": {
   "codemirror_mode": {
    "name": "ipython",
    "version": 2
   },
   "file_extension": ".py",
   "mimetype": "text/x-python",
   "name": "python",
   "nbconvert_exporter": "python",
   "pygments_lexer": "ipython2",
   "version": "2.7.6"
  }
 },
 "nbformat": 4,
 "nbformat_minor": 0
}
