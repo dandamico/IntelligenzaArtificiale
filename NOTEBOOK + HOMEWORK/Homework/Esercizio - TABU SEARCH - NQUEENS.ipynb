{
 "cells": [
  {
   "cell_type": "markdown",
   "source": [
    "# Problema delle N-REGINE"
   ],
   "metadata": {
    "collapsed": false
   }
  },
  {
   "cell_type": "markdown",
   "source": [
    "Decidiamo di limitare lo spazio degli stati come segue:\n",
    "   - Consideriamo solo stati, ossia disposizioni delle regine nella scacchiera, nei quali ci sia solo una regina in ogni colonna e in ogni riga.\n",
    "   - Consideriamo come possibili mosse per passare da uno stato ad uno stato successore lo scambio di due colonne qualsiasi della scacchiera.\n",
    "   - In tal modo dobbiamo considerare solo gli attacchi sulle diagonali."
   ],
   "metadata": {
    "collapsed": false
   }
  },
  {
   "cell_type": "markdown",
   "source": [
    "Pertanto il problema è così definito:\n",
    "- Stati: una qualsiasi disposizione di n regine, in modo tale che ci sia una sola regina per colonna e una sola regina per riga.\n",
    "- Goal State: una qualsiasi disposizione delle n regine sulla scacchiera che non si attaccano a vicenda.\n",
    "- Funzione successore: un qualsiasi scambio di due colonne della scacchiera.\n",
    "- Funzione di valutazione: numero di attacchi.\n",
    "- Test obiettivo: numero di attacchi uguale a zero"
   ],
   "metadata": {
    "collapsed": false
   }
  },
  {
   "cell_type": "code",
   "execution_count": 14,
   "outputs": [],
   "source": [
    "import random\n",
    "\n",
    "def inizializza(sol):\n",
    "\n",
    "    for c in range(0, DIMENSIONE-1):\n",
    "        sol = tweak(sol)\n",
    "    return sol"
   ],
   "metadata": {
    "collapsed": false
   }
  },
  {
   "cell_type": "markdown",
   "source": [
    "## TWEAK\n",
    "La funzione tweak sceglie casualmente due indici x e y nell’encoding, scambiando poi i valori degli elementi corrispondenti"
   ],
   "metadata": {
    "collapsed": false
   }
  },
  {
   "cell_type": "code",
   "execution_count": 15,
   "outputs": [],
   "source": [
    "import copy\n",
    "import numpy as np\n",
    "def tweak(sol):\n",
    "    sol_copy = np.copy(sol)\n",
    "\n",
    "    #scegli random due colonne distinte\n",
    "    x = random.randint(0, DIMENSIONE-1)\n",
    "    y = random.randint(0, DIMENSIONE-1)\n",
    "\n",
    "    while x == y:\n",
    "        y = random.randint(0, DIMENSIONE-1)\n",
    "\n",
    "    #scambia le due colonne\n",
    "    temp = sol_copy[y]\n",
    "    sol_copy[y]= sol_copy[x]\n",
    "    sol_copy[x] = temp\n",
    "\n",
    "    return sol_copy"
   ],
   "metadata": {
    "collapsed": false
   }
  },
  {
   "cell_type": "markdown",
   "source": [
    "## FUNZIONE DI VALUTAZIONE DELLO STATO\n",
    "Tale funzione calcola gli attacchi presenti in un certo stato"
   ],
   "metadata": {
    "collapsed": false
   }
  },
  {
   "cell_type": "code",
   "execution_count": 16,
   "outputs": [],
   "source": [
    "def eval_stato(stato):\n",
    "    # definizione della scacchiera NxN\n",
    "    board = [ [0] * DIMENSIONE for i in range(DIMENSIONE)]\n",
    "\n",
    "    #inserimento delle regine('Q') nelle loro posizioni sulla scacchiera\n",
    "    for i in range(0, DIMENSIONE):\n",
    "        board[stato[i]][i]='Q'\n",
    "\n",
    "    #spostamenti possibili sulla scacchiera\n",
    "    dx = [-1,1,-1,1]\n",
    "    dy = [-1,1,1,-1]\n",
    "\n",
    "    conflitti = 0   #inizializziamo il num. di conflitti\n",
    "\n",
    "    for i in range(0, DIMENSIONE):\n",
    "        x=stato[i]\n",
    "        y=i\n",
    "\n",
    "        #verifica attacchi sulla diagonale\n",
    "        for j in range(0,4):\n",
    "            tempx=x\n",
    "            tempy=y\n",
    "            while(True):\n",
    "                tempx = tempx + dx[j]\n",
    "                tempy = tempy + dy[j]\n",
    "                if tempx<0 or tempx>=DIMENSIONE or tempy<0 or tempy>=DIMENSIONE:\n",
    "                    break\n",
    "                if board[tempx][tempy]=='Q':\n",
    "                    conflitti = conflitti+1\n",
    "    return conflitti"
   ],
   "metadata": {
    "collapsed": false
   }
  },
  {
   "cell_type": "markdown",
   "source": [
    "## FUNZIONE CHE GENERA IL NEIGHBORHOOD\n",
    "Tale funzione genera gli stati del vicinato"
   ],
   "metadata": {
    "collapsed": false
   }
  },
  {
   "cell_type": "code",
   "execution_count": 17,
   "outputs": [],
   "source": [
    "def genera_successori(stato):\n",
    "    '''\n",
    "    GENERA LA LISTA ORDINATA DI SUCCESSORI DI UNO STATO\n",
    "    :param stato:\n",
    "    :return:\n",
    "    '''\n",
    "    lista = []\n",
    "    t = len(stato)\n",
    "\n",
    "    for i in range(0, t-1):\n",
    "        for j in range(i+1, t):\n",
    "            buffer = copy.deepcopy(stato)\n",
    "            temp = buffer[i]\n",
    "            buffer[i] = buffer[j]\n",
    "            buffer[j] = temp\n",
    "            eval_next = eval_stato(buffer)\n",
    "            lista.append( (buffer, eval_next, (stato[i], stato[j])))\n",
    "\n",
    "    lista.sort(key=lambda x:x[1])   #ordiniamo i successori in base alla loro valutazione\n",
    "    return lista"
   ],
   "metadata": {
    "collapsed": false
   }
  },
  {
   "cell_type": "markdown",
   "source": [
    "La funzione precedente, per ogni coppia di indici i e j dello\n",
    "stato, scambia i valori degli elementi corrispondenti. Ad\n",
    "esempio:    statox = [A, B, C, D, E] DIVENTA stato_successore=[A, D, C, B, E] con cambia a i=B e j=D"
   ],
   "metadata": {
    "collapsed": false
   }
  },
  {
   "cell_type": "markdown",
   "source": [
    "## FUNZIONE TABU TEST\n",
    "Tale funzione controlla se una mossa è ASSENTE nella Tabu List"
   ],
   "metadata": {
    "collapsed": false
   }
  },
  {
   "cell_type": "code",
   "execution_count": 18,
   "outputs": [],
   "source": [
    "def tabu_test(sequenza, tabu_list): #è True se una mossa NON è presente\n",
    "    a, b = sequenza[2]\n",
    "    if ( (a,b) in tabu_list or (b,a) in tabu_list):\n",
    "        assente = False\n",
    "    else:\n",
    "        assente = True\n",
    "    return assente"
   ],
   "metadata": {
    "collapsed": false
   }
  },
  {
   "cell_type": "markdown",
   "source": [
    "## FUNZIONE STAMPA"
   ],
   "metadata": {
    "collapsed": false
   }
  },
  {
   "cell_type": "code",
   "execution_count": 19,
   "outputs": [],
   "source": [
    "def stampa(sol):\n",
    "    board = [ [0] * DIMENSIONE for i in range(DIMENSIONE)]\n",
    "\n",
    "    for x in range(0,DIMENSIONE):\n",
    "        board[sol[x]][x]='Q'\n",
    "    print('SCACCHIERA')\n",
    "    for x in range(0, DIMENSIONE):\n",
    "        for y in range(0,DIMENSIONE):\n",
    "            if board[x][y]=='Q':\n",
    "                print(\"Q  \", end='')\n",
    "            else:\n",
    "                print(\".  \", end='')\n",
    "        print(\"\\n\")\n",
    "    print(\"\\n\\n\")"
   ],
   "metadata": {
    "collapsed": false
   }
  },
  {
   "cell_type": "markdown",
   "source": [
    "## ALGORITMO"
   ],
   "metadata": {
    "collapsed": false
   }
  },
  {
   "cell_type": "code",
   "execution_count": 20,
   "outputs": [],
   "source": [
    "def tabu_search(tabu_tenure):\n",
    "    # impostazione stato iniziale\n",
    "    stato_iniziale = list(x for x in range(DIMENSIONE))\n",
    "    current = inizializza(stato_iniziale)\n",
    "    current_eval = eval_stato(current)\n",
    "\n",
    "    #inizializziamo il best\n",
    "    best = stato_iniziale\n",
    "    eval_best = current_eval\n",
    "\n",
    "    tabu_list = {}\n",
    "    neighbours = []\n",
    "    count = 0\n",
    "\n",
    "    print('STATO INIZIALE(', str(count), '):')\n",
    "    print(current)\n",
    "    print('EVAL STATO INIZIALE(', str(count), '):')\n",
    "    print(current_eval)\n",
    "    print('----------------------')\n",
    "\n",
    "    #while not criterio_di_terminazione\n",
    "    while count < 100 and eval_best!=0:\n",
    "\n",
    "        lista_successori = genera_successori(current)   #genera i successori (stato, eval_stato, mossa)\n",
    "\n",
    "        if count == 0:\n",
    "            l = len(lista_successori)\n",
    "            print(\"numero Successori: \", l, '\\n')\n",
    "\n",
    "        #selezione vicinato\n",
    "        neighbours = list(filter(lambda n: tabu_test(n, tabu_list), lista_successori))  #selezione successori non tabu\n",
    "\n",
    "        next_state = neighbours[0][0]   #selezione del migliore dei successori\n",
    "        eval_next_state = neighbours[0][1]\n",
    "        print('Iterazione: ', count, ':')\n",
    "        print('Next State: ', eval_next_state)\n",
    "        delta = eval_best - eval_next_state\n",
    "\n",
    "        if delta>0:\n",
    "            best=next_state\n",
    "            eval_best = eval_next_state\n",
    "\n",
    "        current = next_state\n",
    "        current_eval = eval_next_state\n",
    "\n",
    "        #decremento del tabu_tenure\n",
    "        for mossa in tabu_list:\n",
    "            tabu_list[mossa] = tabu_list[mossa] - 1\n",
    "\n",
    "        #eliminazione elementi con tenure uguale a zero\n",
    "        tabu_list = {k: tabu_list[k] for k in tabu_list if tabu_list[k] != 0}\n",
    "\n",
    "        #inserimento della mossa di next in tabu_list\n",
    "        mossa_next = neighbours[0][2]\n",
    "        tabu_list[mossa_next] = tabu_tenure\n",
    "\n",
    "        print('best_eval = ', eval_best)\n",
    "        print('mossa:', mossa_next)\n",
    "        print('tabu_list:', tabu_list, '\\n')\n",
    "\n",
    "        count += 1\n",
    "\n",
    "        print('----------------------')\n",
    "\n",
    "    return best, eval_best"
   ],
   "metadata": {
    "collapsed": false
   }
  },
  {
   "cell_type": "code",
   "execution_count": 21,
   "outputs": [],
   "source": [
    "DIMENSIONE = 30"
   ],
   "metadata": {
    "collapsed": false
   }
  },
  {
   "cell_type": "code",
   "execution_count": 22,
   "outputs": [
    {
     "name": "stdout",
     "output_type": "stream",
     "text": [
      "STATO INIZIALE( 0 ):\n",
      "[ 4  0 15  3 19 17  8 24  2  6 10 11  7 21 25 22 16  5 27 18 29  1 12 14\n",
      " 26 20 23  9 28 13]\n",
      "EVAL STATO INIZIALE( 0 ):\n",
      "54\n",
      "----------------------\n",
      "numero Successori:  435 \n",
      "\n",
      "Iterazione:  0 :\n",
      "Next State:  36\n",
      "best_eval =  36\n",
      "mossa: (11, 27)\n",
      "tabu_list: {(11, 27): 3} \n",
      "\n",
      "----------------------\n",
      "Iterazione:  1 :\n",
      "Next State:  26\n",
      "best_eval =  26\n",
      "mossa: (5, 18)\n",
      "tabu_list: {(11, 27): 2, (5, 18): 3} \n",
      "\n",
      "----------------------\n",
      "Iterazione:  2 :\n",
      "Next State:  18\n",
      "best_eval =  18\n",
      "mossa: (3, 22)\n",
      "tabu_list: {(11, 27): 1, (5, 18): 2, (3, 22): 3} \n",
      "\n",
      "----------------------\n",
      "Iterazione:  3 :\n",
      "Next State:  12\n",
      "best_eval =  12\n",
      "mossa: (20, 28)\n",
      "tabu_list: {(5, 18): 1, (3, 22): 2, (20, 28): 3} \n",
      "\n",
      "----------------------\n",
      "Iterazione:  4 :\n",
      "Next State:  8\n",
      "best_eval =  8\n",
      "mossa: (17, 23)\n",
      "tabu_list: {(3, 22): 1, (20, 28): 2, (17, 23): 3} \n",
      "\n",
      "----------------------\n",
      "Iterazione:  5 :\n",
      "Next State:  6\n",
      "best_eval =  6\n",
      "mossa: (21, 14)\n",
      "tabu_list: {(20, 28): 1, (17, 23): 2, (21, 14): 3} \n",
      "\n",
      "----------------------\n",
      "Iterazione:  6 :\n",
      "Next State:  4\n",
      "best_eval =  4\n",
      "mossa: (18, 13)\n",
      "tabu_list: {(17, 23): 1, (21, 14): 2, (18, 13): 3} \n",
      "\n",
      "----------------------\n",
      "Iterazione:  7 :\n",
      "Next State:  2\n",
      "best_eval =  2\n",
      "mossa: (16, 26)\n",
      "tabu_list: {(21, 14): 1, (18, 13): 2, (16, 26): 3} \n",
      "\n",
      "----------------------\n",
      "Iterazione:  8 :\n",
      "Next State:  0\n",
      "best_eval =  0\n",
      "mossa: (7, 20)\n",
      "tabu_list: {(18, 13): 1, (16, 26): 2, (7, 20): 3} \n",
      "\n",
      "----------------------\n"
     ]
    }
   ],
   "source": [
    "soluzione, conflitti = tabu_search(3)"
   ],
   "metadata": {
    "collapsed": false
   }
  },
  {
   "cell_type": "code",
   "execution_count": 23,
   "outputs": [
    {
     "data": {
      "text/plain": "array([ 4,  0, 15, 22, 19, 23,  8, 24,  2,  6, 10, 27, 20, 14, 25,  3, 26,\n       13, 11,  5, 29,  1, 12, 21, 16, 28, 17,  9,  7, 18])"
     },
     "execution_count": 23,
     "metadata": {},
     "output_type": "execute_result"
    }
   ],
   "source": [
    "soluzione"
   ],
   "metadata": {
    "collapsed": false
   }
  },
  {
   "cell_type": "code",
   "execution_count": 24,
   "outputs": [
    {
     "data": {
      "text/plain": "0"
     },
     "execution_count": 24,
     "metadata": {},
     "output_type": "execute_result"
    }
   ],
   "source": [
    "conflitti"
   ],
   "metadata": {
    "collapsed": false
   }
  },
  {
   "cell_type": "code",
   "execution_count": 25,
   "outputs": [
    {
     "name": "stdout",
     "output_type": "stream",
     "text": [
      "SCACCHIERA\n",
      ".  Q  .  .  .  .  .  .  .  .  .  .  .  .  .  .  .  .  .  .  .  .  .  .  .  .  .  .  .  .  \n",
      "\n",
      ".  .  .  .  .  .  .  .  .  .  .  .  .  .  .  .  .  .  .  .  .  Q  .  .  .  .  .  .  .  .  \n",
      "\n",
      ".  .  .  .  .  .  .  .  Q  .  .  .  .  .  .  .  .  .  .  .  .  .  .  .  .  .  .  .  .  .  \n",
      "\n",
      ".  .  .  .  .  .  .  .  .  .  .  .  .  .  .  Q  .  .  .  .  .  .  .  .  .  .  .  .  .  .  \n",
      "\n",
      "Q  .  .  .  .  .  .  .  .  .  .  .  .  .  .  .  .  .  .  .  .  .  .  .  .  .  .  .  .  .  \n",
      "\n",
      ".  .  .  .  .  .  .  .  .  .  .  .  .  .  .  .  .  .  .  Q  .  .  .  .  .  .  .  .  .  .  \n",
      "\n",
      ".  .  .  .  .  .  .  .  .  Q  .  .  .  .  .  .  .  .  .  .  .  .  .  .  .  .  .  .  .  .  \n",
      "\n",
      ".  .  .  .  .  .  .  .  .  .  .  .  .  .  .  .  .  .  .  .  .  .  .  .  .  .  .  .  Q  .  \n",
      "\n",
      ".  .  .  .  .  .  Q  .  .  .  .  .  .  .  .  .  .  .  .  .  .  .  .  .  .  .  .  .  .  .  \n",
      "\n",
      ".  .  .  .  .  .  .  .  .  .  .  .  .  .  .  .  .  .  .  .  .  .  .  .  .  .  .  Q  .  .  \n",
      "\n",
      ".  .  .  .  .  .  .  .  .  .  Q  .  .  .  .  .  .  .  .  .  .  .  .  .  .  .  .  .  .  .  \n",
      "\n",
      ".  .  .  .  .  .  .  .  .  .  .  .  .  .  .  .  .  .  Q  .  .  .  .  .  .  .  .  .  .  .  \n",
      "\n",
      ".  .  .  .  .  .  .  .  .  .  .  .  .  .  .  .  .  .  .  .  .  .  Q  .  .  .  .  .  .  .  \n",
      "\n",
      ".  .  .  .  .  .  .  .  .  .  .  .  .  .  .  .  .  Q  .  .  .  .  .  .  .  .  .  .  .  .  \n",
      "\n",
      ".  .  .  .  .  .  .  .  .  .  .  .  .  Q  .  .  .  .  .  .  .  .  .  .  .  .  .  .  .  .  \n",
      "\n",
      ".  .  Q  .  .  .  .  .  .  .  .  .  .  .  .  .  .  .  .  .  .  .  .  .  .  .  .  .  .  .  \n",
      "\n",
      ".  .  .  .  .  .  .  .  .  .  .  .  .  .  .  .  .  .  .  .  .  .  .  .  Q  .  .  .  .  .  \n",
      "\n",
      ".  .  .  .  .  .  .  .  .  .  .  .  .  .  .  .  .  .  .  .  .  .  .  .  .  .  Q  .  .  .  \n",
      "\n",
      ".  .  .  .  .  .  .  .  .  .  .  .  .  .  .  .  .  .  .  .  .  .  .  .  .  .  .  .  .  Q  \n",
      "\n",
      ".  .  .  .  Q  .  .  .  .  .  .  .  .  .  .  .  .  .  .  .  .  .  .  .  .  .  .  .  .  .  \n",
      "\n",
      ".  .  .  .  .  .  .  .  .  .  .  .  Q  .  .  .  .  .  .  .  .  .  .  .  .  .  .  .  .  .  \n",
      "\n",
      ".  .  .  .  .  .  .  .  .  .  .  .  .  .  .  .  .  .  .  .  .  .  .  Q  .  .  .  .  .  .  \n",
      "\n",
      ".  .  .  Q  .  .  .  .  .  .  .  .  .  .  .  .  .  .  .  .  .  .  .  .  .  .  .  .  .  .  \n",
      "\n",
      ".  .  .  .  .  Q  .  .  .  .  .  .  .  .  .  .  .  .  .  .  .  .  .  .  .  .  .  .  .  .  \n",
      "\n",
      ".  .  .  .  .  .  .  Q  .  .  .  .  .  .  .  .  .  .  .  .  .  .  .  .  .  .  .  .  .  .  \n",
      "\n",
      ".  .  .  .  .  .  .  .  .  .  .  .  .  .  Q  .  .  .  .  .  .  .  .  .  .  .  .  .  .  .  \n",
      "\n",
      ".  .  .  .  .  .  .  .  .  .  .  .  .  .  .  .  Q  .  .  .  .  .  .  .  .  .  .  .  .  .  \n",
      "\n",
      ".  .  .  .  .  .  .  .  .  .  .  Q  .  .  .  .  .  .  .  .  .  .  .  .  .  .  .  .  .  .  \n",
      "\n",
      ".  .  .  .  .  .  .  .  .  .  .  .  .  .  .  .  .  .  .  .  .  .  .  .  .  Q  .  .  .  .  \n",
      "\n",
      ".  .  .  .  .  .  .  .  .  .  .  .  .  .  .  .  .  .  .  .  Q  .  .  .  .  .  .  .  .  .  \n",
      "\n",
      "\n",
      "\n",
      "\n"
     ]
    }
   ],
   "source": [
    "stampa(soluzione)"
   ],
   "metadata": {
    "collapsed": false
   }
  }
 ],
 "metadata": {
  "kernelspec": {
   "display_name": "Python 3",
   "language": "python",
   "name": "python3"
  },
  "language_info": {
   "codemirror_mode": {
    "name": "ipython",
    "version": 2
   },
   "file_extension": ".py",
   "mimetype": "text/x-python",
   "name": "python",
   "nbconvert_exporter": "python",
   "pygments_lexer": "ipython2",
   "version": "2.7.6"
  }
 },
 "nbformat": 4,
 "nbformat_minor": 0
}
