{
 "cells": [
  {
   "cell_type": "markdown",
   "source": [
    "# GREEDY SEARCH"
   ],
   "metadata": {
    "collapsed": false
   }
  },
  {
   "cell_type": "code",
   "execution_count": 5,
   "outputs": [],
   "source": [
    "state_space_and_funcH = {\n",
    "    'ARAD' : [366, 'SIBIU', 'ZERIND', 'TIMISOARA'],\n",
    "    'ZERIND': [374, 'ORADEA', 'ARAD'],\n",
    "    'ORADEA': [380, 'SIBIU', 'ZERIND'],\n",
    "    'TIMISOARA': [329, 'ARAD', 'LUGOJ'],\n",
    "    'LUGOJ': [244, 'MEHADIA', 'TIMISOARA'],\n",
    "    'MEHADIA': [241, 'DOBRETA', 'LUGOJ'],\n",
    "    'DOBRETA': [242, 'MEHADIA', 'CRAIOVA'],\n",
    "    'CRAIOVA': [160, 'DOBRETA', 'RIMNICU VILCEA', 'PITESTI'],\n",
    "    'RIMNICU VILCEA': [193, 'SIBIU', 'PITESTI', 'CRAIOVA'],\n",
    "    'SIBIU': [253, 'ORADEA', 'FAGARAS', 'RIMNICU VILCEA', 'ARAD'],\n",
    "    'PITESTI': [100, 'RIMNICU VILCEA', 'BUCHAREST', 'CRAIOVA'],\n",
    "    'FAGARAS': [176, 'BUCHAREST', 'SIBIU'],\n",
    "    'GIURGIU': [77, 'BUCHAREST'],\n",
    "    'BUCHAREST': [0, 'GIURGIU', 'PITESTI', 'FAGARAS', 'URZICENI'],\n",
    "    'URZICENI': [80, 'BUCHAREST', 'HIRSOVA', 'VASLUI'],\n",
    "    'HIRSOVA': [151, 'EFORIE', 'URZICENI'],\n",
    "    'EFORIE': [161, 'HIRSOVA'],\n",
    "    'VASLUI': [199, 'URZICENI', 'IASI'],\n",
    "    'IASI': [226, 'VASLUI', 'NEAMT'],\n",
    "    'NEAMT': [234, 'IASI']\n",
    "}"
   ],
   "metadata": {
    "collapsed": false
   }
  },
  {
   "cell_type": "code",
   "execution_count": 6,
   "outputs": [],
   "source": [
    "def greedy_search(dizionario, stato_iniziale, stato_obiettivo):\n",
    "    global next_node, cost_min\n",
    "    res_list=[]\n",
    "    coda = []\n",
    "    res_list.append(stato_iniziale)\n",
    "    coda.append(stato_iniziale)\n",
    "    while coda and not (res_list.__contains__(stato_obiettivo)):\n",
    "        item = coda.pop(0)\n",
    "        boolean_minimo = True\n",
    "        for elem in dizionario.get(item)[1:]:\n",
    "            if boolean_minimo:\n",
    "                cost_min = dizionario.get(elem)[0]\n",
    "            if dizionario.get(elem)[0] <= cost_min:\n",
    "                cost_min = dizionario.get(elem)[0]\n",
    "                next_node = elem\n",
    "                boolean_minimo = False\n",
    "\n",
    "        coda.append(next_node)\n",
    "        res_list.append(next_node)\n",
    "\n",
    "    return res_list"
   ],
   "metadata": {
    "collapsed": false
   }
  },
  {
   "cell_type": "code",
   "execution_count": 7,
   "outputs": [
    {
     "data": {
      "text/plain": "['TIMISOARA', 'LUGOJ', 'MEHADIA', 'DOBRETA', 'CRAIOVA', 'PITESTI', 'BUCHAREST']"
     },
     "execution_count": 7,
     "metadata": {},
     "output_type": "execute_result"
    }
   ],
   "source": [
    "greedy_search(state_space_and_funcH, 'TIMISOARA', 'BUCHAREST')"
   ],
   "metadata": {
    "collapsed": false
   }
  }
 ],
 "metadata": {
  "kernelspec": {
   "display_name": "Python 3",
   "language": "python",
   "name": "python3"
  },
  "language_info": {
   "codemirror_mode": {
    "name": "ipython",
    "version": 2
   },
   "file_extension": ".py",
   "mimetype": "text/x-python",
   "name": "python",
   "nbconvert_exporter": "python",
   "pygments_lexer": "ipython2",
   "version": "2.7.6"
  }
 },
 "nbformat": 4,
 "nbformat_minor": 0
}
