{
 "cells": [
  {
   "cell_type": "markdown",
   "source": [
    "# A*"
   ],
   "metadata": {
    "collapsed": false
   }
  },
  {
   "cell_type": "code",
   "execution_count": 1,
   "outputs": [],
   "source": [
    "state_space_and_funcH = {\n",
    "    'ARAD' : [366, ('SIBIU', 140), ('ZERIND', 75), ('TIMISOARA' ,118)],\n",
    "    'ZERIND': [374, ('ORADEA', 71), ('ARAD', 75)],\n",
    "    'ORADEA': [380, ('SIBIU', 151), ('ZERIND', 71)],\n",
    "    'TIMISOARA': [329, ('ARAD', 118), ('LUGOJ', 111)],\n",
    "    'LUGOJ': [244, ('MEHADIA', 70), ('TIMISOARA', 111)],\n",
    "    'MEHADIA': [241, ('DOBRETA', 75), ('LUGOJ', 70)],\n",
    "    'DOBRETA': [242, ('MEHADIA', 75), ('CRAIOVA', 120)],\n",
    "    'CRAIOVA': [160, ('DOBRETA', 120), ('RIMNICU VILCEA', 146), ('PITESTI', 138)],\n",
    "    'RIMNICU VILCEA': [193, ('SIBIU', 80), ('PITESTI', 97), ('CRAIOVA', 146)],\n",
    "    'SIBIU': [253, ('ORADEA', 151), ('FAGARAS', 99), ('RIMNICU VILCEA', 80), ('ARAD', 140)],\n",
    "    'PITESTI': [100, ('RIMNICU VILCEA', 97), ('BUCHAREST', 101), ('CRAIOVA', 138)],\n",
    "    'FAGARAS': [176, ('BUCHAREST', 211), ('SIBIU', 99)],\n",
    "    'GIURGIU': [77, ('BUCHAREST', 90)],\n",
    "    'BUCHAREST': [0, ('GIURGIU', 90), ('PITESTI', 101), ('FAGARAS', 211), ('URZICENI', 85)],\n",
    "    'URZICENI': [80, ('BUCHAREST', 85), ('HIRSOVA', 98), ('VASLUI', 142)],\n",
    "    'HIRSOVA': [151, ('EFORIE', 86), ('URZICENI', 98)],\n",
    "    'EFORIE': [161, ('HIRSOVA', 86)],\n",
    "    'VASLUI': [199, ('URZICENI', 142), ('IASI', 92)],\n",
    "    'IASI': [226, ('VASLUI', 92), ('NEAMT', 87)],\n",
    "    'NEAMT': [234, ('IASI', 87)]\n",
    "}"
   ],
   "metadata": {
    "collapsed": false
   }
  },
  {
   "cell_type": "code",
   "execution_count": 2,
   "outputs": [],
   "source": [
    "def a_star(dizionario, stato_iniziale, stato_obiettivo):\n",
    "    global next_node, cost_min\n",
    "    res_list=[]\n",
    "    coda = []\n",
    "    res_list.append(stato_iniziale)\n",
    "    coda.append(stato_iniziale)\n",
    "    costo_tot = 0\n",
    "    while coda and not (res_list.__contains__(stato_obiettivo)):\n",
    "        item = coda.pop(0)\n",
    "        boolean_minimo = True\n",
    "        for tuple_element in dizionario.get(item)[1:]:\n",
    "                if boolean_minimo:\n",
    "                    costo_tot = tuple_element[1] + dizionario.get(tuple_element[0])[0]\n",
    "                    cost_min = costo_tot\n",
    "                if costo_tot <= cost_min:\n",
    "                    cost_min = tuple_element[1] + dizionario.get(tuple_element[0])[0] + costo_tot\n",
    "                    next_node = tuple_element[0]\n",
    "                    boolean_minimo = False\n",
    "\n",
    "        coda.append(next_node)\n",
    "        res_list.append(next_node)\n",
    "\n",
    "    return res_list"
   ],
   "metadata": {
    "collapsed": false
   }
  },
  {
   "cell_type": "code",
   "execution_count": 3,
   "outputs": [
    {
     "ename": "KeyboardInterrupt",
     "evalue": "",
     "output_type": "error",
     "traceback": [
      "\u001B[0;31m---------------------------------------------------------------------------\u001B[0m",
      "\u001B[0;31mKeyboardInterrupt\u001B[0m                         Traceback (most recent call last)",
      "Cell \u001B[0;32mIn [3], line 1\u001B[0m\n\u001B[0;32m----> 1\u001B[0m \u001B[43ma_star\u001B[49m\u001B[43m(\u001B[49m\u001B[43mstate_space_and_funcH\u001B[49m\u001B[43m,\u001B[49m\u001B[43m \u001B[49m\u001B[38;5;124;43m'\u001B[39;49m\u001B[38;5;124;43mARAD\u001B[39;49m\u001B[38;5;124;43m'\u001B[39;49m\u001B[43m,\u001B[49m\u001B[43m \u001B[49m\u001B[38;5;124;43m'\u001B[39;49m\u001B[38;5;124;43mBUCHAREST\u001B[39;49m\u001B[38;5;124;43m'\u001B[39;49m\u001B[43m)\u001B[49m\n",
      "Cell \u001B[0;32mIn [2], line 8\u001B[0m, in \u001B[0;36ma_star\u001B[0;34m(dizionario, stato_iniziale, stato_obiettivo)\u001B[0m\n\u001B[1;32m      6\u001B[0m coda\u001B[38;5;241m.\u001B[39mappend(stato_iniziale)\n\u001B[1;32m      7\u001B[0m costo_tot \u001B[38;5;241m=\u001B[39m \u001B[38;5;241m0\u001B[39m\n\u001B[0;32m----> 8\u001B[0m \u001B[38;5;28;01mwhile\u001B[39;00m coda \u001B[38;5;129;01mand\u001B[39;00m \u001B[38;5;129;01mnot\u001B[39;00m (\u001B[43mres_list\u001B[49m\u001B[38;5;241;43m.\u001B[39;49m\u001B[38;5;21;43m__contains__\u001B[39;49m\u001B[43m(\u001B[49m\u001B[43mstato_obiettivo\u001B[49m\u001B[43m)\u001B[49m):\n\u001B[1;32m      9\u001B[0m     item \u001B[38;5;241m=\u001B[39m coda\u001B[38;5;241m.\u001B[39mpop(\u001B[38;5;241m0\u001B[39m)\n\u001B[1;32m     10\u001B[0m     boolean_minimo \u001B[38;5;241m=\u001B[39m \u001B[38;5;28;01mTrue\u001B[39;00m\n",
      "\u001B[0;31mKeyboardInterrupt\u001B[0m: "
     ]
    }
   ],
   "source": [
    "a_star(state_space_and_funcH, 'ARAD', 'BUCHAREST')"
   ],
   "metadata": {
    "collapsed": false
   }
  },
  {
   "cell_type": "code",
   "execution_count": 19,
   "outputs": [
    {
     "name": "stdout",
     "output_type": "stream",
     "text": [
      "[366, ('SIBIU', 140), ('ZERIND', 75), ('TIMISOARA', 118)]\n",
      "COSTO h ARAD: 366\n",
      "PRIMO ELEMENTO COLLEGATO A ARAD: ('SIBIU', 140)\n",
      "COSTO g ARAD->SIBIU : 140\n",
      "COSTO h per SIBIU: 253\n",
      "COSTO TOTALE ARAD -> SIBIU g(n) + h(n) = 393\n"
     ]
    }
   ],
   "source": [
    "nodo_arad = state_space_and_funcH.get('ARAD')\n",
    "print(nodo_arad)\n",
    "print('COSTO h ARAD: '+ str(nodo_arad[0]))\n",
    "print('PRIMO ELEMENTO COLLEGATO A ARAD: ' + str(nodo_arad[1]))\n",
    "#tuple_element = state_space_and_funcH.get('ARAD')[1] -> nodo_arad[1]\n",
    "costo_g_arad_sibiu = nodo_arad[1][1]\n",
    "print('COSTO g ARAD->SIBIU : ' + str(costo_g_arad_sibiu))\n",
    "nodo_sibiu = state_space_and_funcH.get(nodo_arad[1][0])\n",
    "cost_h_sibiu = nodo_sibiu[0]\n",
    "print('COSTO h per SIBIU: ' + str(cost_h_sibiu))\n",
    "print('COSTO TOTALE ARAD -> SIBIU g(n) + h(n) = ' + str(costo_g_arad_sibiu + cost_h_sibiu))"
   ],
   "metadata": {
    "collapsed": false
   }
  },
  {
   "cell_type": "code",
   "execution_count": 32,
   "outputs": [
    {
     "name": "stdout",
     "output_type": "stream",
     "text": [
      "[366, ('SIBIU', 140), ('ZERIND', 75), ('TIMISOARA', 118)]\n",
      "[('SIBIU', 140), ('ZERIND', 75), ('TIMISOARA', 118)]\n",
      "[366, ('SIBIU', 140)]\n",
      "[('SIBIU', 140)]\n"
     ]
    }
   ],
   "source": [
    "nodo_arad = state_space_and_funcH.get('ARAD')\n",
    "print(nodo_arad)\n",
    "print(nodo_arad[1:])\n",
    "print(nodo_arad[:2])\n",
    "print(nodo_arad[1:2])"
   ],
   "metadata": {
    "collapsed": false
   }
  }
 ],
 "metadata": {
  "kernelspec": {
   "display_name": "Python 3",
   "language": "python",
   "name": "python3"
  },
  "language_info": {
   "codemirror_mode": {
    "name": "ipython",
    "version": 2
   },
   "file_extension": ".py",
   "mimetype": "text/x-python",
   "name": "python",
   "nbconvert_exporter": "python",
   "pygments_lexer": "ipython2",
   "version": "2.7.6"
  }
 },
 "nbformat": 4,
 "nbformat_minor": 0
}
